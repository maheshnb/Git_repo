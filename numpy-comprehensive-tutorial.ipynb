{
 "cells": [
  {
   "cell_type": "markdown",
   "id": "4900827f",
   "metadata": {
    "papermill": {
     "duration": 0.041238,
     "end_time": "2022-10-27T07:06:26.624447",
     "exception": false,
     "start_time": "2022-10-27T07:06:26.583209",
     "status": "completed"
    },
    "tags": []
   },
   "source": [
    "<div style=\"border:2px solid #174D83; border-radius:15px;  background:#ffffff;\">\n",
    "    <div style=\"padding:10px 10px 10px 0px; margin:5px; border-radius:12px; background:#174D83; text-align:center;\">\n",
    "        <span style=\"font-family:sans-serif; font-size:50px; color:#fff;\">Numpy comprehensive tutorial with examples 📚</span>\n",
    "    </div>\n",
    "</div>"
   ]
  },
  {
   "cell_type": "markdown",
   "id": "7b29de6e",
   "metadata": {
    "papermill": {
     "duration": 0.036443,
     "end_time": "2022-10-27T07:06:26.699278",
     "exception": false,
     "start_time": "2022-10-27T07:06:26.662835",
     "status": "completed"
    },
    "tags": []
   },
   "source": [
    "# <h1 style=\"font-family: Sans-Serif; padding: 19px; font-size: 30px; color: #491D8B; text-align: center; line-height: 1.9;\"><mark><b> This notebook will be updated soon...</b></mark><span style = \"color: #CD2DE0; font-size:25px\"></span></h1><hr>"
   ]
  },
  {
   "cell_type": "markdown",
   "id": "6930caac",
   "metadata": {
    "papermill": {
     "duration": 0.036687,
     "end_time": "2022-10-27T07:06:26.772220",
     "exception": false,
     "start_time": "2022-10-27T07:06:26.735533",
     "status": "completed"
    },
    "tags": []
   },
   "source": [
    "<div style=\"border:2px solid #174D83; border-radius:10px;  background:#fff;\">\n",
    "    <div style=\"padding:10px 10px 10px 0px; margin:2px; border-radius:10px; background:#174D83;\">\n",
    "        <span style=\"margin-left:15px; font-family:sans-serif; font-size:20px; color:#fff;\">Introduction...</span>\n",
    "    </div>\n",
    "</div>"
   ]
  },
  {
   "cell_type": "markdown",
   "id": "30c95d1e",
   "metadata": {
    "papermill": {
     "duration": 0.038985,
     "end_time": "2022-10-27T07:06:26.847919",
     "exception": false,
     "start_time": "2022-10-27T07:06:26.808934",
     "status": "completed"
    },
    "tags": []
   },
   "source": [
    "<div style=\"border:1px solid blue; border-radius:10px; padding:2px\">\n",
    "    <img src=\"https://miro.medium.com/max/765/1*cyXCE-JcBelTyrK-58w6_Q.png\" width=\"100%\">\n",
    "</div>\n",
    "<div style=\"padding:4px\">\n",
    "    \n",
    "    \n",
    "    \n",
    "### <span style='background:yellow;color:#000000;'>What is Numpy?</span>\n",
    "\n",
    "\n",
    "* <span style='background:#174D83;color:#fff;'><b>NumPy is a library for the Python programming language, adding support for large, multi-dimensional arrays and matrices, along with a large collection of high-level mathematical functions to operate on these arrays. The ancestor of NumPy, Numeric, was originally created by Jim Hugunin with contributions from several other developers. In 2005, Travis Oliphant created NumPy by incorporating features of the competing Numarray into Numeric, with extensive modifications. NumPy is open-source software and has many contributors. NumPy is a NumFOCUS fiscally sponsored project.</b></span>\n",
    "\n",
    "### <span style='background:yellow;color:#000000;'>History of Numpy?</span>\n",
    "\n",
    "    \n",
    "* <span style='background:#174D83;color:#fff;'><b>The Python programming language was not originally designed for numerical computing, but attracted the attention of the scientific and engineering community early on. In 1995 the special interest group (SIG) matrix-sig was founded with the aim of defining an array computing package; among its members was Python designer and maintainer Guido van Rossum, who extended Python's syntax (in particular the indexing syntax) to make array computing easier. An implementation of a matrix package was completed by Jim Fulton, then generalized by Jim Hugunin and called Numeric (also variously known as the \"Numerical Python extensions\" or \"NumPy\"). Hugunin, a graduate student at the Massachusetts Institute of Technology (MIT), joined the Corporation for National Research Initiatives (CNRI) in 1997 to work on JPython, leaving Paul Dubois of Lawrence Livermore National Laboratory (LLNL) to take over as maintainer. Other early contributors include David Ascher, Konrad Hinsen and Travis Oliphant. A new package called Numarray was written as a more flexible replacement for Numeric. Like Numeric, it too is now deprecated. Numarray had faster operations for large arrays, but was slower than Numeric on small ones, so for a time both packages were used in parallel for different use cases. The last version of Numeric (v24.2) was released on 11 November 2005, while the last version of numarray (v1.5.2) was released on 24 August 2006. There was a desire to get Numeric into the Python standard library, but Guido van Rossum decided that the code was not maintainable in its state then. In early 2005, NumPy developer Travis Oliphant wanted to unify the community around a single array package and ported Numarray's features to Numeric, releasing the result as NumPy 1.0 in 2006. This new project was part of SciPy. To avoid installing the large SciPy package just to get an array object, this new package was separated and called NumPy. Support for Python 3 was added in 2011 with NumPy version 1.5.0. In 2011, PyPy started development on an implementation of the NumPy API for PyPy. It is not yet fully compatible with NumPy.</b></span>\n",
    "\n",
    "\n",
    "\n",
    "### <span style='background:yellow;color:#000000;'>Features of Numpy</span>\n",
    "\n",
    "    \n",
    "* <span style='background:#174D83;color:#ffffff;'><b>NumPy targets the CPython reference implementation of Python, which is a non-optimizing bytecode interpreter. Mathematical algorithms written for this version of Python often run much slower than compiled equivalents due to the absence of compiler optimization. NumPy addresses the slowness problem partly by providing multidimensional arrays and functions and operators that operate efficiently on arrays; using these requires rewriting some code, mostly inner loops, using NumPy. Using NumPy in Python gives functionality comparable to MATLAB since they are both interpreted, and they both allow the user to write fast programs as long as most operations work on arrays or matrices instead of scalars. In comparison, MATLAB boasts a large number of additional toolboxes, notably Simulink, whereas NumPy is intrinsically integrated with Python, a more modern and complete programming language. Moreover, complementary Python packages are available; SciPy is a library that adds more MATLAB-like functionality and Matplotlib is a plotting package that provides MATLAB-like plotting functionality. Internally, both MATLAB and NumPy rely on BLAS and LAPACK for efficient linear algebra computations. Python bindings of the widely used computer vision library OpenCV utilize NumPy arrays to store and operate on data. Since images with multiple channels are simply represented as three-dimensional arrays, indexing, slicing or masking with other arrays are very efficient ways to access specific pixels of an image. The NumPy array as universal data structure in OpenCV for images, extracted feature points, filter kernels and many more vastly simplifies the programming workflow and debugging.</b></span>\n",
    "\n",
    "\n",
    "#### <span style=\"color:#CF350C\">REFERENCE:</span> https://en.wikipedia.org/wiki/NumPy"
   ]
  },
  {
   "cell_type": "markdown",
   "id": "032adc83",
   "metadata": {
    "papermill": {
     "duration": 0.036329,
     "end_time": "2022-10-27T07:06:26.921866",
     "exception": false,
     "start_time": "2022-10-27T07:06:26.885537",
     "status": "completed"
    },
    "tags": []
   },
   "source": [
    "### <span style = \"background:#174D83; border:#ffffff; font-size:100%; color:#fff; border-radius:5px;\"> 1. Install and import numpy library...</span>"
   ]
  },
  {
   "cell_type": "code",
   "execution_count": 1,
   "id": "742589ea",
   "metadata": {
    "execution": {
     "iopub.execute_input": "2022-10-27T07:06:26.998706Z",
     "iopub.status.busy": "2022-10-27T07:06:26.997823Z",
     "iopub.status.idle": "2022-10-27T07:06:27.008348Z",
     "shell.execute_reply": "2022-10-27T07:06:27.007459Z"
    },
    "papermill": {
     "duration": 0.051331,
     "end_time": "2022-10-27T07:06:27.010517",
     "exception": false,
     "start_time": "2022-10-27T07:06:26.959186",
     "status": "completed"
    },
    "tags": []
   },
   "outputs": [],
   "source": [
    "#!pip install numpy\n",
    "import numpy as np"
   ]
  },
  {
   "cell_type": "markdown",
   "id": "6cd58f2a",
   "metadata": {
    "papermill": {
     "duration": 0.036866,
     "end_time": "2022-10-27T07:06:27.085420",
     "exception": false,
     "start_time": "2022-10-27T07:06:27.048554",
     "status": "completed"
    },
    "tags": []
   },
   "source": [
    "### <span style = \"background:#174D83; border:#ffffff; font-size:100%; color:#fff; border-radius:5px;\">2. Check numpy version...</span>"
   ]
  },
  {
   "cell_type": "code",
   "execution_count": 2,
   "id": "4863bb42",
   "metadata": {
    "execution": {
     "iopub.execute_input": "2022-10-27T07:06:27.160417Z",
     "iopub.status.busy": "2022-10-27T07:06:27.159454Z",
     "iopub.status.idle": "2022-10-27T07:06:27.167773Z",
     "shell.execute_reply": "2022-10-27T07:06:27.166835Z"
    },
    "papermill": {
     "duration": 0.047707,
     "end_time": "2022-10-27T07:06:27.169819",
     "exception": false,
     "start_time": "2022-10-27T07:06:27.122112",
     "status": "completed"
    },
    "tags": []
   },
   "outputs": [
    {
     "data": {
      "text/plain": [
       "'1.21.6'"
      ]
     },
     "execution_count": 2,
     "metadata": {},
     "output_type": "execute_result"
    }
   ],
   "source": [
    "np.__version__"
   ]
  },
  {
   "cell_type": "markdown",
   "id": "af6d51ec",
   "metadata": {
    "papermill": {
     "duration": 0.036575,
     "end_time": "2022-10-27T07:06:27.242816",
     "exception": false,
     "start_time": "2022-10-27T07:06:27.206241",
     "status": "completed"
    },
    "tags": []
   },
   "source": [
    "### <span style = \"background:#174D83; border:#ffffff; font-size:100%; color:#fff; border-radius:5px;\">3. Create numpy arrays...</span>"
   ]
  },
  {
   "cell_type": "code",
   "execution_count": 3,
   "id": "553cf626",
   "metadata": {
    "execution": {
     "iopub.execute_input": "2022-10-27T07:06:27.317746Z",
     "iopub.status.busy": "2022-10-27T07:06:27.316791Z",
     "iopub.status.idle": "2022-10-27T07:06:27.325614Z",
     "shell.execute_reply": "2022-10-27T07:06:27.324526Z"
    },
    "papermill": {
     "duration": 0.048437,
     "end_time": "2022-10-27T07:06:27.327634",
     "exception": false,
     "start_time": "2022-10-27T07:06:27.279197",
     "status": "completed"
    },
    "tags": []
   },
   "outputs": [
    {
     "name": "stdout",
     "output_type": "stream",
     "text": [
      "Numpy array:  [ 1  2  3  4  5  6  8 11] \n",
      "\n",
      "Type:  <class 'numpy.ndarray'>\n"
     ]
    }
   ],
   "source": [
    "arr = np.array([1,2,3,4,5, 6, 8, 11])\n",
    "print(\"Numpy array: \", arr, \"\\n\")\n",
    "print(\"Type: \", type(arr))"
   ]
  },
  {
   "cell_type": "code",
   "execution_count": 4,
   "id": "89357b63",
   "metadata": {
    "execution": {
     "iopub.execute_input": "2022-10-27T07:06:27.403312Z",
     "iopub.status.busy": "2022-10-27T07:06:27.402321Z",
     "iopub.status.idle": "2022-10-27T07:06:27.409642Z",
     "shell.execute_reply": "2022-10-27T07:06:27.408612Z"
    },
    "papermill": {
     "duration": 0.04723,
     "end_time": "2022-10-27T07:06:27.411629",
     "exception": false,
     "start_time": "2022-10-27T07:06:27.364399",
     "status": "completed"
    },
    "tags": []
   },
   "outputs": [
    {
     "data": {
      "text/plain": [
       "array([ 0,  1,  2,  3,  4,  5,  6,  7,  8,  9, 10, 11, 12, 13, 14, 15, 16,\n",
       "       17, 18, 19, 20, 21, 22, 23, 24])"
      ]
     },
     "execution_count": 4,
     "metadata": {},
     "output_type": "execute_result"
    }
   ],
   "source": [
    "np.arange(0, 25)"
   ]
  },
  {
   "cell_type": "code",
   "execution_count": 5,
   "id": "982ce6fc",
   "metadata": {
    "execution": {
     "iopub.execute_input": "2022-10-27T07:06:27.487262Z",
     "iopub.status.busy": "2022-10-27T07:06:27.486109Z",
     "iopub.status.idle": "2022-10-27T07:06:27.493664Z",
     "shell.execute_reply": "2022-10-27T07:06:27.492397Z"
    },
    "papermill": {
     "duration": 0.04755,
     "end_time": "2022-10-27T07:06:27.495678",
     "exception": false,
     "start_time": "2022-10-27T07:06:27.448128",
     "status": "completed"
    },
    "tags": []
   },
   "outputs": [
    {
     "data": {
      "text/plain": [
       "array([ 0,  3,  6,  9, 12, 15, 18, 21, 24])"
      ]
     },
     "execution_count": 5,
     "metadata": {},
     "output_type": "execute_result"
    }
   ],
   "source": [
    "np.arange(0, 25, 3)"
   ]
  },
  {
   "cell_type": "markdown",
   "id": "9e2ca967",
   "metadata": {
    "papermill": {
     "duration": 0.036664,
     "end_time": "2022-10-27T07:06:27.570047",
     "exception": false,
     "start_time": "2022-10-27T07:06:27.533383",
     "status": "completed"
    },
    "tags": []
   },
   "source": [
    "### <mark>Create an empyt array</mark>"
   ]
  },
  {
   "cell_type": "code",
   "execution_count": 6,
   "id": "a2a6045c",
   "metadata": {
    "execution": {
     "iopub.execute_input": "2022-10-27T07:06:27.644668Z",
     "iopub.status.busy": "2022-10-27T07:06:27.643948Z",
     "iopub.status.idle": "2022-10-27T07:06:27.649588Z",
     "shell.execute_reply": "2022-10-27T07:06:27.648639Z"
    },
    "papermill": {
     "duration": 0.0455,
     "end_time": "2022-10-27T07:06:27.652119",
     "exception": false,
     "start_time": "2022-10-27T07:06:27.606619",
     "status": "completed"
    },
    "tags": []
   },
   "outputs": [
    {
     "name": "stdout",
     "output_type": "stream",
     "text": [
      "[[      94385519804128                    0  2985171245141685097\n",
      "   7886365897491182082  8100956526820196352]\n",
      " [-2710206602108837528  7018983630050650375  8319390304530859610\n",
      "   7595155176737540058  7310583992523840116]\n",
      " [ 7568257827813290099   565876180699345779 -2705988862451354775\n",
      "   8243118321280706823  7814987202268039130]\n",
      " [ 8243115044096137829  8461827644849808233  7207829111647135085\n",
      "    709999056967525221  7020383269764232041]\n",
      " [        242430847340    36998902595847209    43472825799475200\n",
      "  -7317700669039312896 -6741323315928891392]]\n"
     ]
    }
   ],
   "source": [
    "empty_arr = np.empty([5, 5], int)\n",
    "\n",
    "print(empty_arr)"
   ]
  },
  {
   "cell_type": "markdown",
   "id": "b091d266",
   "metadata": {
    "papermill": {
     "duration": 0.036587,
     "end_time": "2022-10-27T07:06:27.726221",
     "exception": false,
     "start_time": "2022-10-27T07:06:27.689634",
     "status": "completed"
    },
    "tags": []
   },
   "source": [
    "### <mark>Check elements count</mark>"
   ]
  },
  {
   "cell_type": "code",
   "execution_count": 7,
   "id": "1df6b8f4",
   "metadata": {
    "execution": {
     "iopub.execute_input": "2022-10-27T07:06:27.802743Z",
     "iopub.status.busy": "2022-10-27T07:06:27.801768Z",
     "iopub.status.idle": "2022-10-27T07:06:27.808842Z",
     "shell.execute_reply": "2022-10-27T07:06:27.807728Z"
    },
    "papermill": {
     "duration": 0.04762,
     "end_time": "2022-10-27T07:06:27.811115",
     "exception": false,
     "start_time": "2022-10-27T07:06:27.763495",
     "status": "completed"
    },
    "tags": []
   },
   "outputs": [
    {
     "name": "stdout",
     "output_type": "stream",
     "text": [
      "[] elements_count: 0\n",
      "[1 2] elements_count: 2\n"
     ]
    }
   ],
   "source": [
    "arr1 = np.array([])\n",
    "arr2 = np.array([1, 2])\n",
    "\n",
    "def elements(array):\n",
    "    return array.ndim and array.size\n",
    "        \n",
    "print(arr1, \"elements_count:\", elements(arr1))\n",
    "print(arr2, \"elements_count:\", elements(arr2))"
   ]
  },
  {
   "cell_type": "markdown",
   "id": "14ea5079",
   "metadata": {
    "papermill": {
     "duration": 0.073136,
     "end_time": "2022-10-27T07:06:27.957198",
     "exception": false,
     "start_time": "2022-10-27T07:06:27.884062",
     "status": "completed"
    },
    "tags": []
   },
   "source": [
    "### <mark>Check whether the array is empty</mark>"
   ]
  },
  {
   "cell_type": "code",
   "execution_count": 8,
   "id": "9960744f",
   "metadata": {
    "execution": {
     "iopub.execute_input": "2022-10-27T07:06:28.075967Z",
     "iopub.status.busy": "2022-10-27T07:06:28.075460Z",
     "iopub.status.idle": "2022-10-27T07:06:28.086804Z",
     "shell.execute_reply": "2022-10-27T07:06:28.085847Z"
    },
    "papermill": {
     "duration": 0.073415,
     "end_time": "2022-10-27T07:06:28.089681",
     "exception": false,
     "start_time": "2022-10-27T07:06:28.016266",
     "status": "completed"
    },
    "tags": []
   },
   "outputs": [
    {
     "name": "stdout",
     "output_type": "stream",
     "text": [
      "[] is empty array\n",
      "[1 2] is not empty array\n"
     ]
    }
   ],
   "source": [
    "a = np.array([])\n",
    "b = np.array([1, 2])\n",
    "\n",
    "def if_empty(a):\n",
    "    if a.size == 0:\n",
    "        print(a, \"is empty array\")\n",
    "    else:\n",
    "        print(b, \"is not empty array\")\n",
    "        \n",
    "if_empty(a)\n",
    "if_empty(b)"
   ]
  },
  {
   "cell_type": "markdown",
   "id": "ebfa3a8b",
   "metadata": {
    "papermill": {
     "duration": 0.055906,
     "end_time": "2022-10-27T07:06:28.201753",
     "exception": false,
     "start_time": "2022-10-27T07:06:28.145847",
     "status": "completed"
    },
    "tags": []
   },
   "source": [
    "### <span style = \"background:#174D83; border:#ffffff; font-size:100%; color:#fff; border-radius:5px;\">4. Numpy arrays are fixed data type</span>"
   ]
  },
  {
   "cell_type": "markdown",
   "id": "f30464e4",
   "metadata": {
    "papermill": {
     "duration": 0.055442,
     "end_time": "2022-10-27T07:06:28.313187",
     "exception": false,
     "start_time": "2022-10-27T07:06:28.257745",
     "status": "completed"
    },
    "tags": []
   },
   "source": [
    "### <mark>That is, if there is one decimal number in it, it converts the others to decimal</mark>"
   ]
  },
  {
   "cell_type": "code",
   "execution_count": 9,
   "id": "6b6fd225",
   "metadata": {
    "execution": {
     "iopub.execute_input": "2022-10-27T07:06:28.446979Z",
     "iopub.status.busy": "2022-10-27T07:06:28.446553Z",
     "iopub.status.idle": "2022-10-27T07:06:28.453826Z",
     "shell.execute_reply": "2022-10-27T07:06:28.452811Z"
    },
    "papermill": {
     "duration": 0.084435,
     "end_time": "2022-10-27T07:06:28.455882",
     "exception": false,
     "start_time": "2022-10-27T07:06:28.371447",
     "status": "completed"
    },
    "tags": []
   },
   "outputs": [
    {
     "data": {
      "text/plain": [
       "array([1. , 2. , 3. , 4. , 5. , 2.5])"
      ]
     },
     "execution_count": 9,
     "metadata": {},
     "output_type": "execute_result"
    }
   ],
   "source": [
    "arr = np.array([1, 2, 3, 4, 5, 2.5])\n",
    "arr"
   ]
  },
  {
   "cell_type": "code",
   "execution_count": 10,
   "id": "01caa4ba",
   "metadata": {
    "execution": {
     "iopub.execute_input": "2022-10-27T07:06:28.535352Z",
     "iopub.status.busy": "2022-10-27T07:06:28.534386Z",
     "iopub.status.idle": "2022-10-27T07:06:28.541507Z",
     "shell.execute_reply": "2022-10-27T07:06:28.540591Z"
    },
    "papermill": {
     "duration": 0.047368,
     "end_time": "2022-10-27T07:06:28.543429",
     "exception": false,
     "start_time": "2022-10-27T07:06:28.496061",
     "status": "completed"
    },
    "tags": []
   },
   "outputs": [
    {
     "data": {
      "text/plain": [
       "array([1. , 2. , 3. , 4. , 5. , 5.2, 1.2], dtype=float32)"
      ]
     },
     "execution_count": 10,
     "metadata": {},
     "output_type": "execute_result"
    }
   ],
   "source": [
    "arr = np.array([1,2,3,4,5, 5.2, 1.2], dtype = \"float32\")\n",
    "arr"
   ]
  },
  {
   "cell_type": "code",
   "execution_count": 11,
   "id": "f4ecc0f8",
   "metadata": {
    "execution": {
     "iopub.execute_input": "2022-10-27T07:06:28.619555Z",
     "iopub.status.busy": "2022-10-27T07:06:28.618514Z",
     "iopub.status.idle": "2022-10-27T07:06:28.626112Z",
     "shell.execute_reply": "2022-10-27T07:06:28.625026Z"
    },
    "papermill": {
     "duration": 0.047368,
     "end_time": "2022-10-27T07:06:28.628113",
     "exception": false,
     "start_time": "2022-10-27T07:06:28.580745",
     "status": "completed"
    },
    "tags": []
   },
   "outputs": [
    {
     "data": {
      "text/plain": [
       "array([1, 2, 3, 4, 5, 5, 1])"
      ]
     },
     "execution_count": 11,
     "metadata": {},
     "output_type": "execute_result"
    }
   ],
   "source": [
    "arr = np.array([1, 2, 3, 4, 5, 5.2, 1.2], dtype = \"int\")\n",
    "arr"
   ]
  },
  {
   "cell_type": "markdown",
   "id": "e392e9d2",
   "metadata": {
    "papermill": {
     "duration": 0.036848,
     "end_time": "2022-10-27T07:06:28.702733",
     "exception": false,
     "start_time": "2022-10-27T07:06:28.665885",
     "status": "completed"
    },
    "tags": []
   },
   "source": [
    "### <span style = \"background:#174D83; border:#ffffff; font-size:100%; color:#fff; border-radius:5px;\">5. Create arrays without using lists</span>"
   ]
  },
  {
   "cell_type": "markdown",
   "id": "cc24d6a9",
   "metadata": {
    "papermill": {
     "duration": 0.037066,
     "end_time": "2022-10-27T07:06:28.777148",
     "exception": false,
     "start_time": "2022-10-27T07:06:28.740082",
     "status": "completed"
    },
    "tags": []
   },
   "source": [
    "### <mark>Create an array of zeros</mark>"
   ]
  },
  {
   "cell_type": "code",
   "execution_count": 12,
   "id": "b68f13b0",
   "metadata": {
    "execution": {
     "iopub.execute_input": "2022-10-27T07:06:28.854988Z",
     "iopub.status.busy": "2022-10-27T07:06:28.854294Z",
     "iopub.status.idle": "2022-10-27T07:06:28.861720Z",
     "shell.execute_reply": "2022-10-27T07:06:28.860721Z"
    },
    "papermill": {
     "duration": 0.049096,
     "end_time": "2022-10-27T07:06:28.863909",
     "exception": false,
     "start_time": "2022-10-27T07:06:28.814813",
     "status": "completed"
    },
    "tags": []
   },
   "outputs": [
    {
     "data": {
      "text/plain": [
       "array([0., 0., 0., 0., 0., 0., 0., 0., 0., 0.])"
      ]
     },
     "execution_count": 12,
     "metadata": {},
     "output_type": "execute_result"
    }
   ],
   "source": [
    "np.zeros(10)"
   ]
  },
  {
   "cell_type": "code",
   "execution_count": 13,
   "id": "7a03fa9f",
   "metadata": {
    "execution": {
     "iopub.execute_input": "2022-10-27T07:06:28.942485Z",
     "iopub.status.busy": "2022-10-27T07:06:28.941506Z",
     "iopub.status.idle": "2022-10-27T07:06:28.949008Z",
     "shell.execute_reply": "2022-10-27T07:06:28.947925Z"
    },
    "papermill": {
     "duration": 0.048966,
     "end_time": "2022-10-27T07:06:28.951115",
     "exception": false,
     "start_time": "2022-10-27T07:06:28.902149",
     "status": "completed"
    },
    "tags": []
   },
   "outputs": [
    {
     "data": {
      "text/plain": [
       "array([[0., 0., 0., 0., 0.],\n",
       "       [0., 0., 0., 0., 0.],\n",
       "       [0., 0., 0., 0., 0.],\n",
       "       [0., 0., 0., 0., 0.],\n",
       "       [0., 0., 0., 0., 0.]])"
      ]
     },
     "execution_count": 13,
     "metadata": {},
     "output_type": "execute_result"
    }
   ],
   "source": [
    "np.zeros((5, 5))"
   ]
  },
  {
   "cell_type": "code",
   "execution_count": 14,
   "id": "a181781e",
   "metadata": {
    "execution": {
     "iopub.execute_input": "2022-10-27T07:06:29.029874Z",
     "iopub.status.busy": "2022-10-27T07:06:29.028289Z",
     "iopub.status.idle": "2022-10-27T07:06:29.035724Z",
     "shell.execute_reply": "2022-10-27T07:06:29.034749Z"
    },
    "papermill": {
     "duration": 0.049013,
     "end_time": "2022-10-27T07:06:29.037688",
     "exception": false,
     "start_time": "2022-10-27T07:06:28.988675",
     "status": "completed"
    },
    "tags": []
   },
   "outputs": [
    {
     "data": {
      "text/plain": [
       "array([0, 0, 0, 0, 0])"
      ]
     },
     "execution_count": 14,
     "metadata": {},
     "output_type": "execute_result"
    }
   ],
   "source": [
    "np.zeros(5, dtype = \"int\")"
   ]
  },
  {
   "cell_type": "markdown",
   "id": "e6e6747c",
   "metadata": {
    "papermill": {
     "duration": 0.038053,
     "end_time": "2022-10-27T07:06:29.113934",
     "exception": false,
     "start_time": "2022-10-27T07:06:29.075881",
     "status": "completed"
    },
    "tags": []
   },
   "source": [
    "### <mark>Create an array of ones</mark>"
   ]
  },
  {
   "cell_type": "code",
   "execution_count": 15,
   "id": "860363f0",
   "metadata": {
    "execution": {
     "iopub.execute_input": "2022-10-27T07:06:29.190798Z",
     "iopub.status.busy": "2022-10-27T07:06:29.190320Z",
     "iopub.status.idle": "2022-10-27T07:06:29.196517Z",
     "shell.execute_reply": "2022-10-27T07:06:29.195643Z"
    },
    "papermill": {
     "duration": 0.047035,
     "end_time": "2022-10-27T07:06:29.198508",
     "exception": false,
     "start_time": "2022-10-27T07:06:29.151473",
     "status": "completed"
    },
    "tags": []
   },
   "outputs": [
    {
     "data": {
      "text/plain": [
       "array([1, 1, 1, 1, 1, 1, 1])"
      ]
     },
     "execution_count": 15,
     "metadata": {},
     "output_type": "execute_result"
    }
   ],
   "source": [
    "np.ones(7, dtype = \"int\")"
   ]
  },
  {
   "cell_type": "code",
   "execution_count": 16,
   "id": "0e38fc8d",
   "metadata": {
    "execution": {
     "iopub.execute_input": "2022-10-27T07:06:29.274715Z",
     "iopub.status.busy": "2022-10-27T07:06:29.274017Z",
     "iopub.status.idle": "2022-10-27T07:06:29.280941Z",
     "shell.execute_reply": "2022-10-27T07:06:29.280023Z"
    },
    "papermill": {
     "duration": 0.047249,
     "end_time": "2022-10-27T07:06:29.282926",
     "exception": false,
     "start_time": "2022-10-27T07:06:29.235677",
     "status": "completed"
    },
    "tags": []
   },
   "outputs": [
    {
     "data": {
      "text/plain": [
       "array([[1., 1., 1., 1., 1., 1., 1.],\n",
       "       [1., 1., 1., 1., 1., 1., 1.],\n",
       "       [1., 1., 1., 1., 1., 1., 1.],\n",
       "       [1., 1., 1., 1., 1., 1., 1.]], dtype=float32)"
      ]
     },
     "execution_count": 16,
     "metadata": {},
     "output_type": "execute_result"
    }
   ],
   "source": [
    "np.ones((4, 7), dtype = \"float32\")"
   ]
  },
  {
   "cell_type": "markdown",
   "id": "75278b50",
   "metadata": {
    "papermill": {
     "duration": 0.096286,
     "end_time": "2022-10-27T07:06:29.417195",
     "exception": false,
     "start_time": "2022-10-27T07:06:29.320909",
     "status": "completed"
    },
    "tags": []
   },
   "source": [
    "### <mark>Create an array of sevens</mark>"
   ]
  },
  {
   "cell_type": "code",
   "execution_count": 17,
   "id": "d387a3da",
   "metadata": {
    "execution": {
     "iopub.execute_input": "2022-10-27T07:06:29.497175Z",
     "iopub.status.busy": "2022-10-27T07:06:29.495403Z",
     "iopub.status.idle": "2022-10-27T07:06:29.503156Z",
     "shell.execute_reply": "2022-10-27T07:06:29.502134Z"
    },
    "papermill": {
     "duration": 0.049598,
     "end_time": "2022-10-27T07:06:29.505020",
     "exception": false,
     "start_time": "2022-10-27T07:06:29.455422",
     "status": "completed"
    },
    "tags": []
   },
   "outputs": [
    {
     "data": {
      "text/plain": [
       "array([[7., 7., 7., 7.],\n",
       "       [7., 7., 7., 7.],\n",
       "       [7., 7., 7., 7.]], dtype=float32)"
      ]
     },
     "execution_count": 17,
     "metadata": {},
     "output_type": "execute_result"
    }
   ],
   "source": [
    "np.full((3, 4), 7, dtype = \"float32\")"
   ]
  },
  {
   "cell_type": "markdown",
   "id": "21a2eef7",
   "metadata": {
    "papermill": {
     "duration": 0.037579,
     "end_time": "2022-10-27T07:06:29.581298",
     "exception": false,
     "start_time": "2022-10-27T07:06:29.543719",
     "status": "completed"
    },
    "tags": []
   },
   "source": [
    "### <span style = \"background:#174D83; border:#ffffff; font-size:100%; color:#fff; border-radius:5px;\">6. Linspace function</span>"
   ]
  },
  {
   "cell_type": "markdown",
   "id": "8439e488",
   "metadata": {
    "papermill": {
     "duration": 0.037758,
     "end_time": "2022-10-27T07:06:29.656672",
     "exception": false,
     "start_time": "2022-10-27T07:06:29.618914",
     "status": "completed"
    },
    "tags": []
   },
   "source": [
    "### <mark>Return evenly spaced numbers over a specified interval</mark>"
   ]
  },
  {
   "cell_type": "code",
   "execution_count": 18,
   "id": "c559d2f0",
   "metadata": {
    "execution": {
     "iopub.execute_input": "2022-10-27T07:06:29.734847Z",
     "iopub.status.busy": "2022-10-27T07:06:29.733865Z",
     "iopub.status.idle": "2022-10-27T07:06:29.741427Z",
     "shell.execute_reply": "2022-10-27T07:06:29.740486Z"
    },
    "papermill": {
     "duration": 0.048873,
     "end_time": "2022-10-27T07:06:29.743408",
     "exception": false,
     "start_time": "2022-10-27T07:06:29.694535",
     "status": "completed"
    },
    "tags": []
   },
   "outputs": [
    {
     "data": {
      "text/plain": [
       "array([0.        , 0.11111111, 0.22222222, 0.33333333, 0.44444444,\n",
       "       0.55555556, 0.66666667, 0.77777778, 0.88888889, 1.        ])"
      ]
     },
     "execution_count": 18,
     "metadata": {},
     "output_type": "execute_result"
    }
   ],
   "source": [
    "np.linspace(0, 1, 10)"
   ]
  },
  {
   "cell_type": "code",
   "execution_count": 19,
   "id": "c8ac1d48",
   "metadata": {
    "execution": {
     "iopub.execute_input": "2022-10-27T07:06:29.821098Z",
     "iopub.status.busy": "2022-10-27T07:06:29.820094Z",
     "iopub.status.idle": "2022-10-27T07:06:29.827499Z",
     "shell.execute_reply": "2022-10-27T07:06:29.826425Z"
    },
    "papermill": {
     "duration": 0.048267,
     "end_time": "2022-10-27T07:06:29.829783",
     "exception": false,
     "start_time": "2022-10-27T07:06:29.781516",
     "status": "completed"
    },
    "tags": []
   },
   "outputs": [
    {
     "data": {
      "text/plain": [
       "array([ 1. ,  2.5,  4. ,  5.5,  7. ,  8.5, 10. ])"
      ]
     },
     "execution_count": 19,
     "metadata": {},
     "output_type": "execute_result"
    }
   ],
   "source": [
    "np.linspace(1, 10, 7)"
   ]
  },
  {
   "cell_type": "code",
   "execution_count": 20,
   "id": "8ae591be",
   "metadata": {
    "execution": {
     "iopub.execute_input": "2022-10-27T07:06:29.908881Z",
     "iopub.status.busy": "2022-10-27T07:06:29.907879Z",
     "iopub.status.idle": "2022-10-27T07:06:29.915003Z",
     "shell.execute_reply": "2022-10-27T07:06:29.914011Z"
    },
    "papermill": {
     "duration": 0.048235,
     "end_time": "2022-10-27T07:06:29.917018",
     "exception": false,
     "start_time": "2022-10-27T07:06:29.868783",
     "status": "completed"
    },
    "tags": []
   },
   "outputs": [
    {
     "data": {
      "text/plain": [
       "array([2. , 2.5, 3. , 3.5, 4. , 4.5, 5. , 5.5, 6. , 6.5, 7. , 7.5, 8. ,\n",
       "       8.5, 9. ])"
      ]
     },
     "execution_count": 20,
     "metadata": {},
     "output_type": "execute_result"
    }
   ],
   "source": [
    "np.linspace(2, 9, 15)"
   ]
  },
  {
   "cell_type": "code",
   "execution_count": 21,
   "id": "b30bb287",
   "metadata": {
    "execution": {
     "iopub.execute_input": "2022-10-27T07:06:29.995712Z",
     "iopub.status.busy": "2022-10-27T07:06:29.994694Z",
     "iopub.status.idle": "2022-10-27T07:06:30.002175Z",
     "shell.execute_reply": "2022-10-27T07:06:30.001219Z"
    },
    "papermill": {
     "duration": 0.048939,
     "end_time": "2022-10-27T07:06:30.004196",
     "exception": false,
     "start_time": "2022-10-27T07:06:29.955257",
     "status": "completed"
    },
    "tags": []
   },
   "outputs": [
    {
     "data": {
      "text/plain": [
       "array([ 1,  1,  2,  2,  3,  4,  4,  5,  6,  6,  7,  8,  8,  9, 10])"
      ]
     },
     "execution_count": 21,
     "metadata": {},
     "output_type": "execute_result"
    }
   ],
   "source": [
    "np.linspace(1, 10, 15, dtype = int)"
   ]
  },
  {
   "cell_type": "markdown",
   "id": "35d2b53c",
   "metadata": {
    "papermill": {
     "duration": 0.037629,
     "end_time": "2022-10-27T07:06:30.081093",
     "exception": false,
     "start_time": "2022-10-27T07:06:30.043464",
     "status": "completed"
    },
    "tags": []
   },
   "source": [
    "### <span style = \"background:#174D83; border:#ffffff; font-size:100%; color:#fff; border-radius:5px;\">7. Random function</span>"
   ]
  },
  {
   "cell_type": "code",
   "execution_count": 22,
   "id": "938b7493",
   "metadata": {
    "execution": {
     "iopub.execute_input": "2022-10-27T07:06:30.158801Z",
     "iopub.status.busy": "2022-10-27T07:06:30.158420Z",
     "iopub.status.idle": "2022-10-27T07:06:30.165322Z",
     "shell.execute_reply": "2022-10-27T07:06:30.164438Z"
    },
    "papermill": {
     "duration": 0.047902,
     "end_time": "2022-10-27T07:06:30.167342",
     "exception": false,
     "start_time": "2022-10-27T07:06:30.119440",
     "status": "completed"
    },
    "tags": []
   },
   "outputs": [
    {
     "data": {
      "text/plain": [
       "array([[ 9.21770581, -3.22248839, -3.0560077 , 10.27114804],\n",
       "       [10.3760122 , 15.78373899, -7.57276058,  2.7515417 ],\n",
       "       [ 1.94598481,  2.88457928,  6.31342537,  6.45848771]])"
      ]
     },
     "execution_count": 22,
     "metadata": {},
     "output_type": "execute_result"
    }
   ],
   "source": [
    "arr = np.random.normal(10, 7, (3, 4))\n",
    "arr"
   ]
  },
  {
   "cell_type": "code",
   "execution_count": 23,
   "id": "241efa2e",
   "metadata": {
    "execution": {
     "iopub.execute_input": "2022-10-27T07:06:30.246287Z",
     "iopub.status.busy": "2022-10-27T07:06:30.245266Z",
     "iopub.status.idle": "2022-10-27T07:06:30.252683Z",
     "shell.execute_reply": "2022-10-27T07:06:30.251718Z"
    },
    "papermill": {
     "duration": 0.049154,
     "end_time": "2022-10-27T07:06:30.254724",
     "exception": false,
     "start_time": "2022-10-27T07:06:30.205570",
     "status": "completed"
    },
    "tags": []
   },
   "outputs": [
    {
     "data": {
      "text/plain": [
       "array([[ 5, 10,  9,  1,  1],\n",
       "       [ 4,  8,  7,  5,  2],\n",
       "       [ 4,  8,  9,  9,  8]])"
      ]
     },
     "execution_count": 23,
     "metadata": {},
     "output_type": "execute_result"
    }
   ],
   "source": [
    "np.random.randint(0, 12, (3,5))"
   ]
  },
  {
   "cell_type": "code",
   "execution_count": 24,
   "id": "689ef9c1",
   "metadata": {
    "execution": {
     "iopub.execute_input": "2022-10-27T07:06:30.333480Z",
     "iopub.status.busy": "2022-10-27T07:06:30.332481Z",
     "iopub.status.idle": "2022-10-27T07:06:30.339786Z",
     "shell.execute_reply": "2022-10-27T07:06:30.338740Z"
    },
    "papermill": {
     "duration": 0.048902,
     "end_time": "2022-10-27T07:06:30.341794",
     "exception": false,
     "start_time": "2022-10-27T07:06:30.292892",
     "status": "completed"
    },
    "tags": []
   },
   "outputs": [
    {
     "data": {
      "text/plain": [
       "array([7, 7, 1, 7, 4, 5, 1, 1, 3, 6])"
      ]
     },
     "execution_count": 24,
     "metadata": {},
     "output_type": "execute_result"
    }
   ],
   "source": [
    "np.random.randint(1, 9, 10)"
   ]
  },
  {
   "cell_type": "code",
   "execution_count": 25,
   "id": "e6b35e04",
   "metadata": {
    "execution": {
     "iopub.execute_input": "2022-10-27T07:06:30.420085Z",
     "iopub.status.busy": "2022-10-27T07:06:30.419722Z",
     "iopub.status.idle": "2022-10-27T07:06:30.426199Z",
     "shell.execute_reply": "2022-10-27T07:06:30.425283Z"
    },
    "papermill": {
     "duration": 0.048119,
     "end_time": "2022-10-27T07:06:30.428282",
     "exception": false,
     "start_time": "2022-10-27T07:06:30.380163",
     "status": "completed"
    },
    "tags": []
   },
   "outputs": [
    {
     "data": {
      "text/plain": [
       "array([[ 3, 14,  2,  3, 11],\n",
       "       [ 8, 11, 12,  7, 10],\n",
       "       [17,  2,  4, 11,  8],\n",
       "       [ 2, 11,  1,  1,  6],\n",
       "       [14,  6, 18, 20, 13]])"
      ]
     },
     "execution_count": 25,
     "metadata": {},
     "output_type": "execute_result"
    }
   ],
   "source": [
    "np.random.randint(1, 25, (5,5))"
   ]
  },
  {
   "cell_type": "code",
   "execution_count": 26,
   "id": "5db370a9",
   "metadata": {
    "execution": {
     "iopub.execute_input": "2022-10-27T07:06:30.506942Z",
     "iopub.status.busy": "2022-10-27T07:06:30.505950Z",
     "iopub.status.idle": "2022-10-27T07:06:30.512999Z",
     "shell.execute_reply": "2022-10-27T07:06:30.512029Z"
    },
    "papermill": {
     "duration": 0.048734,
     "end_time": "2022-10-27T07:06:30.515180",
     "exception": false,
     "start_time": "2022-10-27T07:06:30.466446",
     "status": "completed"
    },
    "tags": []
   },
   "outputs": [
    {
     "data": {
      "text/plain": [
       "array([6, 8])"
      ]
     },
     "execution_count": 26,
     "metadata": {},
     "output_type": "execute_result"
    }
   ],
   "source": [
    "np.random.randint(10, size = (2))"
   ]
  },
  {
   "cell_type": "code",
   "execution_count": 27,
   "id": "21795be0",
   "metadata": {
    "execution": {
     "iopub.execute_input": "2022-10-27T07:06:30.594680Z",
     "iopub.status.busy": "2022-10-27T07:06:30.593697Z",
     "iopub.status.idle": "2022-10-27T07:06:30.600794Z",
     "shell.execute_reply": "2022-10-27T07:06:30.599774Z"
    },
    "papermill": {
     "duration": 0.048874,
     "end_time": "2022-10-27T07:06:30.602823",
     "exception": false,
     "start_time": "2022-10-27T07:06:30.553949",
     "status": "completed"
    },
    "tags": []
   },
   "outputs": [
    {
     "name": "stdout",
     "output_type": "stream",
     "text": [
      "[[2 8 0]\n",
      " [6 6 8]] \n",
      "\n",
      "[[2 8 0]\n",
      " [6 6 8]] .shape: (2, 3) \n",
      "\n",
      "datatype: int64\n"
     ]
    }
   ],
   "source": [
    "a = np.random.randint(10, size = (2, 3))\n",
    "\n",
    "print(a, \"\\n\")\n",
    "print(a, \".shape:\", a.shape, \"\\n\")\n",
    "print(\"datatype:\", a.dtype)"
   ]
  },
  {
   "cell_type": "markdown",
   "id": "a0263ed9",
   "metadata": {
    "papermill": {
     "duration": 0.039087,
     "end_time": "2022-10-27T07:06:30.680595",
     "exception": false,
     "start_time": "2022-10-27T07:06:30.641508",
     "status": "completed"
    },
    "tags": []
   },
   "source": [
    "### <span style = \"background:#174D83; border:#ffffff; font-size:100%; color:#fff; border-radius:5px;\">8. ndim, shape, size, dtype functions</span>"
   ]
  },
  {
   "cell_type": "markdown",
   "id": "0a828b6a",
   "metadata": {
    "papermill": {
     "duration": 0.038078,
     "end_time": "2022-10-27T07:06:30.757519",
     "exception": false,
     "start_time": "2022-10-27T07:06:30.719441",
     "status": "completed"
    },
    "tags": []
   },
   "source": [
    "* ### <mark>ndim - size number</mark>\n",
    "* ### <mark>shape - shape info</mark>\n",
    "* ### <mark>size - total element number</mark>\n",
    "* ### <mark>dtype - data type of elements of array</mark>"
   ]
  },
  {
   "cell_type": "code",
   "execution_count": 28,
   "id": "b884c158",
   "metadata": {
    "execution": {
     "iopub.execute_input": "2022-10-27T07:06:30.837366Z",
     "iopub.status.busy": "2022-10-27T07:06:30.836687Z",
     "iopub.status.idle": "2022-10-27T07:06:30.842570Z",
     "shell.execute_reply": "2022-10-27T07:06:30.841366Z"
    },
    "papermill": {
     "duration": 0.048937,
     "end_time": "2022-10-27T07:06:30.845232",
     "exception": false,
     "start_time": "2022-10-27T07:06:30.796295",
     "status": "completed"
    },
    "tags": []
   },
   "outputs": [
    {
     "name": "stdout",
     "output_type": "stream",
     "text": [
      "Array: [1 2 7 7 2 2 6]\n"
     ]
    }
   ],
   "source": [
    "arr = np.random.randint(10, size = 7)\n",
    "print(\"Array:\", arr)"
   ]
  },
  {
   "cell_type": "code",
   "execution_count": 29,
   "id": "2bdb9bba",
   "metadata": {
    "execution": {
     "iopub.execute_input": "2022-10-27T07:06:30.924714Z",
     "iopub.status.busy": "2022-10-27T07:06:30.924329Z",
     "iopub.status.idle": "2022-10-27T07:06:30.929831Z",
     "shell.execute_reply": "2022-10-27T07:06:30.928735Z"
    },
    "papermill": {
     "duration": 0.04845,
     "end_time": "2022-10-27T07:06:30.932475",
     "exception": false,
     "start_time": "2022-10-27T07:06:30.884025",
     "status": "completed"
    },
    "tags": []
   },
   "outputs": [
    {
     "name": "stdout",
     "output_type": "stream",
     "text": [
      "(7,)\n",
      "int64\n",
      "1\n",
      "7\n"
     ]
    }
   ],
   "source": [
    "for i in (arr.shape, arr.dtype, arr.ndim,arr.size):\n",
    "    print(i)"
   ]
  },
  {
   "cell_type": "code",
   "execution_count": 30,
   "id": "c83b291d",
   "metadata": {
    "execution": {
     "iopub.execute_input": "2022-10-27T07:06:31.011948Z",
     "iopub.status.busy": "2022-10-27T07:06:31.011253Z",
     "iopub.status.idle": "2022-10-27T07:06:31.017113Z",
     "shell.execute_reply": "2022-10-27T07:06:31.016147Z"
    },
    "papermill": {
     "duration": 0.048614,
     "end_time": "2022-10-27T07:06:31.019585",
     "exception": false,
     "start_time": "2022-10-27T07:06:30.970971",
     "status": "completed"
    },
    "tags": []
   },
   "outputs": [
    {
     "name": "stdout",
     "output_type": "stream",
     "text": [
      "Array:\n",
      "\n",
      " [[2 8 9 9 7 2 9]\n",
      " [3 9 6 4 4 0 2]\n",
      " [1 2 8 0 6 5 1]\n",
      " [0 3 5 5 5 8 1]\n",
      " [7 8 0 1 2 9 8]]\n"
     ]
    }
   ],
   "source": [
    "arr_1 = np.random.randint(10, size = (5, 7))\n",
    "print(\"Array:\\n\\n\", arr_1)"
   ]
  },
  {
   "cell_type": "code",
   "execution_count": 31,
   "id": "2099b185",
   "metadata": {
    "execution": {
     "iopub.execute_input": "2022-10-27T07:06:31.100198Z",
     "iopub.status.busy": "2022-10-27T07:06:31.099831Z",
     "iopub.status.idle": "2022-10-27T07:06:31.105090Z",
     "shell.execute_reply": "2022-10-27T07:06:31.104159Z"
    },
    "papermill": {
     "duration": 0.048975,
     "end_time": "2022-10-27T07:06:31.107795",
     "exception": false,
     "start_time": "2022-10-27T07:06:31.058820",
     "status": "completed"
    },
    "tags": []
   },
   "outputs": [
    {
     "name": "stdout",
     "output_type": "stream",
     "text": [
      "(5, 7)\n",
      "int64\n",
      "2\n",
      "35\n"
     ]
    }
   ],
   "source": [
    "for i in (arr_1.shape, arr_1.dtype, arr_1.ndim, arr_1.size):\n",
    "    print(i)"
   ]
  },
  {
   "cell_type": "markdown",
   "id": "b1b1c785",
   "metadata": {
    "papermill": {
     "duration": 0.039256,
     "end_time": "2022-10-27T07:06:31.187214",
     "exception": false,
     "start_time": "2022-10-27T07:06:31.147958",
     "status": "completed"
    },
    "tags": []
   },
   "source": [
    "### <span style = \"background:#174D83; border:#ffffff; font-size:100%; color:#fff; border-radius:5px;\">9. Reshape function</span>"
   ]
  },
  {
   "cell_type": "code",
   "execution_count": 32,
   "id": "c09d9dd0",
   "metadata": {
    "execution": {
     "iopub.execute_input": "2022-10-27T07:06:31.266758Z",
     "iopub.status.busy": "2022-10-27T07:06:31.266373Z",
     "iopub.status.idle": "2022-10-27T07:06:31.271706Z",
     "shell.execute_reply": "2022-10-27T07:06:31.270777Z"
    },
    "papermill": {
     "duration": 0.047775,
     "end_time": "2022-10-27T07:06:31.273987",
     "exception": false,
     "start_time": "2022-10-27T07:06:31.226212",
     "status": "completed"
    },
    "tags": []
   },
   "outputs": [
    {
     "name": "stdout",
     "output_type": "stream",
     "text": [
      "[ 0  1  2  3  4  5  6  7  8  9 10 11 12 13 14]\n"
     ]
    }
   ],
   "source": [
    "arr = np.arange(0, 15)\n",
    "print(arr)"
   ]
  },
  {
   "cell_type": "code",
   "execution_count": 33,
   "id": "9b5ee14a",
   "metadata": {
    "execution": {
     "iopub.execute_input": "2022-10-27T07:06:31.353076Z",
     "iopub.status.busy": "2022-10-27T07:06:31.352717Z",
     "iopub.status.idle": "2022-10-27T07:06:31.357937Z",
     "shell.execute_reply": "2022-10-27T07:06:31.356995Z"
    },
    "papermill": {
     "duration": 0.047701,
     "end_time": "2022-10-27T07:06:31.360557",
     "exception": false,
     "start_time": "2022-10-27T07:06:31.312856",
     "status": "completed"
    },
    "tags": []
   },
   "outputs": [
    {
     "name": "stdout",
     "output_type": "stream",
     "text": [
      "[[ 0  1  2  3  4]\n",
      " [ 5  6  7  8  9]\n",
      " [10 11 12 13 14]]\n"
     ]
    }
   ],
   "source": [
    "arr = arr.reshape(3, 5)\n",
    "print(arr)"
   ]
  },
  {
   "cell_type": "markdown",
   "id": "6dc59c23",
   "metadata": {
    "papermill": {
     "duration": 0.038742,
     "end_time": "2022-10-27T07:06:31.438288",
     "exception": false,
     "start_time": "2022-10-27T07:06:31.399546",
     "status": "completed"
    },
    "tags": []
   },
   "source": [
    "### <mark>Here we create a matrix keeping the vector format</mark>"
   ]
  },
  {
   "cell_type": "code",
   "execution_count": 34,
   "id": "09553d59",
   "metadata": {
    "execution": {
     "iopub.execute_input": "2022-10-27T07:06:31.518032Z",
     "iopub.status.busy": "2022-10-27T07:06:31.517678Z",
     "iopub.status.idle": "2022-10-27T07:06:31.523850Z",
     "shell.execute_reply": "2022-10-27T07:06:31.522868Z"
    },
    "papermill": {
     "duration": 0.048802,
     "end_time": "2022-10-27T07:06:31.526334",
     "exception": false,
     "start_time": "2022-10-27T07:06:31.477532",
     "status": "completed"
    },
    "tags": []
   },
   "outputs": [
    {
     "name": "stdout",
     "output_type": "stream",
     "text": [
      "[[ 1  2  3  4  5  6  7  8  9 10 11 12 13 14]]\n",
      "***********\n",
      "2\n"
     ]
    }
   ],
   "source": [
    "arr = np.arange(1, 15)\n",
    "\n",
    "arr = arr.reshape((1, 14))\n",
    "for i in (arr, \"***********\", arr.ndim):\n",
    "    print(i)"
   ]
  },
  {
   "cell_type": "markdown",
   "id": "6f5455fd",
   "metadata": {
    "papermill": {
     "duration": 0.038602,
     "end_time": "2022-10-27T07:06:31.604382",
     "exception": false,
     "start_time": "2022-10-27T07:06:31.565780",
     "status": "completed"
    },
    "tags": []
   },
   "source": [
    "### <mark>Reshape with -1</mark>"
   ]
  },
  {
   "cell_type": "code",
   "execution_count": 35,
   "id": "158e0c57",
   "metadata": {
    "execution": {
     "iopub.execute_input": "2022-10-27T07:06:31.689192Z",
     "iopub.status.busy": "2022-10-27T07:06:31.688826Z",
     "iopub.status.idle": "2022-10-27T07:06:31.694844Z",
     "shell.execute_reply": "2022-10-27T07:06:31.693876Z"
    },
    "papermill": {
     "duration": 0.053704,
     "end_time": "2022-10-27T07:06:31.697222",
     "exception": false,
     "start_time": "2022-10-27T07:06:31.643518",
     "status": "completed"
    },
    "tags": []
   },
   "outputs": [
    {
     "name": "stdout",
     "output_type": "stream",
     "text": [
      "Original numpy array and its shape :\n",
      "[[ 1  2  3  4  5]\n",
      " [ 6  7  8  9 10]\n",
      " [11 12 13 14 15]] \n",
      "\n",
      " (3, 5)\n"
     ]
    }
   ],
   "source": [
    "arr = np.matrix([[1, 2, 3, 4, 5], [6, 7, 8, 9, 10], [11, 12, 13, 14, 15]])\n",
    "print(\"Original numpy array and its shape :\")\n",
    "print(arr, \"\\n\\n\", arr.shape)"
   ]
  },
  {
   "cell_type": "code",
   "execution_count": 36,
   "id": "0678dcc1",
   "metadata": {
    "execution": {
     "iopub.execute_input": "2022-10-27T07:06:31.777775Z",
     "iopub.status.busy": "2022-10-27T07:06:31.776046Z",
     "iopub.status.idle": "2022-10-27T07:06:31.782937Z",
     "shell.execute_reply": "2022-10-27T07:06:31.781825Z"
    },
    "papermill": {
     "duration": 0.048593,
     "end_time": "2022-10-27T07:06:31.784911",
     "exception": false,
     "start_time": "2022-10-27T07:06:31.736318",
     "status": "completed"
    },
    "tags": []
   },
   "outputs": [
    {
     "name": "stdout",
     "output_type": "stream",
     "text": [
      "\n",
      "reshaping the array like (arr, -1):\n",
      "[[ 1  2  3  4  5  6  7  8  9 10 11 12 13 14 15]]\n",
      "\n",
      "new shape: (1, 15)\n"
     ]
    }
   ],
   "source": [
    "c = np.reshape(arr, -1)\n",
    "print(\"\\nreshaping the array like (arr, -1):\")\n",
    "print(c)\n",
    "print(\"\\nnew shape:\", c.shape)"
   ]
  },
  {
   "cell_type": "code",
   "execution_count": 37,
   "id": "e95c4fab",
   "metadata": {
    "execution": {
     "iopub.execute_input": "2022-10-27T07:06:31.866827Z",
     "iopub.status.busy": "2022-10-27T07:06:31.864950Z",
     "iopub.status.idle": "2022-10-27T07:06:31.872159Z",
     "shell.execute_reply": "2022-10-27T07:06:31.870931Z"
    },
    "papermill": {
     "duration": 0.050452,
     "end_time": "2022-10-27T07:06:31.874233",
     "exception": false,
     "start_time": "2022-10-27T07:06:31.823781",
     "status": "completed"
    },
    "tags": []
   },
   "outputs": [
    {
     "name": "stdout",
     "output_type": "stream",
     "text": [
      "reshaping array like (arr, (1, -1)):\n",
      "[[ 1  2  3  4  5  6  7  8  9 10 11 12 13 14 15]]\n",
      "\n",
      "new shape:  (1, 15)\n"
     ]
    }
   ],
   "source": [
    "d = np.reshape(arr, (1, -1))\n",
    "print(\"reshaping array like (arr, (1, -1)):\")\n",
    "print(d)\n",
    "print(\"\\nnew shape: \", d.shape)"
   ]
  },
  {
   "cell_type": "code",
   "execution_count": 38,
   "id": "243db220",
   "metadata": {
    "execution": {
     "iopub.execute_input": "2022-10-27T07:06:31.954703Z",
     "iopub.status.busy": "2022-10-27T07:06:31.954312Z",
     "iopub.status.idle": "2022-10-27T07:06:31.960207Z",
     "shell.execute_reply": "2022-10-27T07:06:31.959213Z"
    },
    "papermill": {
     "duration": 0.048776,
     "end_time": "2022-10-27T07:06:31.962784",
     "exception": false,
     "start_time": "2022-10-27T07:06:31.914008",
     "status": "completed"
    },
    "tags": []
   },
   "outputs": [
    {
     "name": "stdout",
     "output_type": "stream",
     "text": [
      "reshaping the array - (arr, (3, -1)):\n",
      "[[ 1  2  3  4  5]\n",
      " [ 6  7  8  9 10]\n",
      " [11 12 13 14 15]]\n",
      "\n",
      "new shape: (3, 5)\n"
     ]
    }
   ],
   "source": [
    "e = np.reshape(arr, (3, -1))\n",
    "print(\"reshaping the array - (arr, (3, -1)):\")\n",
    "print(e)\n",
    "print(\"\\nnew shape:\", e.shape)"
   ]
  },
  {
   "cell_type": "code",
   "execution_count": 39,
   "id": "529332b3",
   "metadata": {
    "execution": {
     "iopub.execute_input": "2022-10-27T07:06:32.044437Z",
     "iopub.status.busy": "2022-10-27T07:06:32.043380Z",
     "iopub.status.idle": "2022-10-27T07:06:32.050546Z",
     "shell.execute_reply": "2022-10-27T07:06:32.049290Z"
    },
    "papermill": {
     "duration": 0.049921,
     "end_time": "2022-10-27T07:06:32.052596",
     "exception": false,
     "start_time": "2022-10-27T07:06:32.002675",
     "status": "completed"
    },
    "tags": []
   },
   "outputs": [
    {
     "name": "stdout",
     "output_type": "stream",
     "text": [
      "reshaping the array - (arr, (3, -1)):\n",
      "[[ 1  2  3  4  5]\n",
      " [ 6  7  8  9 10]\n",
      " [11 12 13 14 15]]\n",
      "\n",
      "new shape: (3, 5)\n"
     ]
    }
   ],
   "source": [
    "f = np.reshape(arr, (3, -1))\n",
    "print(\"reshaping the array - (arr, (3, -1)):\")\n",
    "print(f)\n",
    "print(\"\\nnew shape:\", f.shape)"
   ]
  },
  {
   "cell_type": "code",
   "execution_count": 40,
   "id": "733a1826",
   "metadata": {
    "execution": {
     "iopub.execute_input": "2022-10-27T07:06:32.133991Z",
     "iopub.status.busy": "2022-10-27T07:06:32.133625Z",
     "iopub.status.idle": "2022-10-27T07:06:32.140630Z",
     "shell.execute_reply": "2022-10-27T07:06:32.139637Z"
    },
    "papermill": {
     "duration": 0.050757,
     "end_time": "2022-10-27T07:06:32.143375",
     "exception": false,
     "start_time": "2022-10-27T07:06:32.092618",
     "status": "completed"
    },
    "tags": []
   },
   "outputs": [
    {
     "name": "stdout",
     "output_type": "stream",
     "text": [
      "reshaping the array - (a, (4, -1)):\n",
      "[[ 1  2  3]\n",
      " [ 4  5  6]\n",
      " [ 7  8  9]\n",
      " [10 11 12]\n",
      " [13 14 15]]\n",
      "\n",
      "new shape: (5, 3)\n"
     ]
    }
   ],
   "source": [
    "g = np.reshape(arr, (5, -1))\n",
    "print(\"reshaping the array - (a, (4, -1)):\")\n",
    "print(g)\n",
    "print(\"\\nnew shape:\", g.shape)"
   ]
  },
  {
   "cell_type": "markdown",
   "id": "cf7c30c1",
   "metadata": {
    "papermill": {
     "duration": 0.040241,
     "end_time": "2022-10-27T07:06:32.222964",
     "exception": false,
     "start_time": "2022-10-27T07:06:32.182723",
     "status": "completed"
    },
    "tags": []
   },
   "source": [
    "### <span style = \"background:#174D83; border:#ffffff; font-size:100%; color:#fff; border-radius:5px;\">10. Concatenate arrays</span>"
   ]
  },
  {
   "cell_type": "markdown",
   "id": "36d736ea",
   "metadata": {
    "papermill": {
     "duration": 0.039321,
     "end_time": "2022-10-27T07:06:32.301963",
     "exception": false,
     "start_time": "2022-10-27T07:06:32.262642",
     "status": "completed"
    },
    "tags": []
   },
   "source": [
    "### <mark>One dimensional arrays</mark>"
   ]
  },
  {
   "cell_type": "code",
   "execution_count": 41,
   "id": "05cfbae8",
   "metadata": {
    "execution": {
     "iopub.execute_input": "2022-10-27T07:06:32.382381Z",
     "iopub.status.busy": "2022-10-27T07:06:32.382018Z",
     "iopub.status.idle": "2022-10-27T07:06:32.389776Z",
     "shell.execute_reply": "2022-10-27T07:06:32.388785Z"
    },
    "papermill": {
     "duration": 0.049724,
     "end_time": "2022-10-27T07:06:32.391754",
     "exception": false,
     "start_time": "2022-10-27T07:06:32.342030",
     "status": "completed"
    },
    "tags": []
   },
   "outputs": [
    {
     "data": {
      "text/plain": [
       "array([1, 2, 3, 4, 5, 6, 5, 6, 7])"
      ]
     },
     "execution_count": 41,
     "metadata": {},
     "output_type": "execute_result"
    }
   ],
   "source": [
    "arr_1 = np.array([1,2,3])\n",
    "arr_2 = np.array([4,5,6])\n",
    "arr_3 = np.array([5,6,7])\n",
    "np.concatenate([arr_1, arr_2, arr_3])"
   ]
  },
  {
   "cell_type": "markdown",
   "id": "84ac9e2a",
   "metadata": {
    "papermill": {
     "duration": 0.039342,
     "end_time": "2022-10-27T07:06:32.471608",
     "exception": false,
     "start_time": "2022-10-27T07:06:32.432266",
     "status": "completed"
    },
    "tags": []
   },
   "source": [
    "### <mark>Two dimensional arrays</mark>"
   ]
  },
  {
   "cell_type": "code",
   "execution_count": 42,
   "id": "d8138056",
   "metadata": {
    "execution": {
     "iopub.execute_input": "2022-10-27T07:06:32.552782Z",
     "iopub.status.busy": "2022-10-27T07:06:32.552397Z",
     "iopub.status.idle": "2022-10-27T07:06:32.560674Z",
     "shell.execute_reply": "2022-10-27T07:06:32.559649Z"
    },
    "papermill": {
     "duration": 0.051338,
     "end_time": "2022-10-27T07:06:32.562860",
     "exception": false,
     "start_time": "2022-10-27T07:06:32.511522",
     "status": "completed"
    },
    "tags": []
   },
   "outputs": [
    {
     "data": {
      "text/plain": [
       "array([[ 1,  2,  3,  4],\n",
       "       [ 5,  6,  7,  8],\n",
       "       [ 9, 10, 11, 12],\n",
       "       [13, 14, 15, 16]])"
      ]
     },
     "execution_count": 42,
     "metadata": {},
     "output_type": "execute_result"
    }
   ],
   "source": [
    "arr_1 = np.array([[1,2,3,4],\n",
    "               [5,6,7,8]])\n",
    "\n",
    "arr_2 = np.array([[9,10,11,12],\n",
    "               [13,14,15,16]])\n",
    "\n",
    "np.concatenate([arr_1, arr_2], axis = 0)"
   ]
  },
  {
   "cell_type": "code",
   "execution_count": 43,
   "id": "436de912",
   "metadata": {
    "execution": {
     "iopub.execute_input": "2022-10-27T07:06:32.644140Z",
     "iopub.status.busy": "2022-10-27T07:06:32.643067Z",
     "iopub.status.idle": "2022-10-27T07:06:32.650246Z",
     "shell.execute_reply": "2022-10-27T07:06:32.649252Z"
    },
    "papermill": {
     "duration": 0.049226,
     "end_time": "2022-10-27T07:06:32.652240",
     "exception": false,
     "start_time": "2022-10-27T07:06:32.603014",
     "status": "completed"
    },
    "tags": []
   },
   "outputs": [
    {
     "data": {
      "text/plain": [
       "array([[ 1,  2,  3,  4,  9, 10, 11, 12],\n",
       "       [ 5,  6,  7,  8, 13, 14, 15, 16]])"
      ]
     },
     "execution_count": 43,
     "metadata": {},
     "output_type": "execute_result"
    }
   ],
   "source": [
    "np.concatenate([arr_1,arr_2], axis = 1)"
   ]
  },
  {
   "cell_type": "markdown",
   "id": "54eecb2d",
   "metadata": {
    "papermill": {
     "duration": 0.039241,
     "end_time": "2022-10-27T07:06:32.731703",
     "exception": false,
     "start_time": "2022-10-27T07:06:32.692462",
     "status": "completed"
    },
    "tags": []
   },
   "source": [
    "### <span style = \"background:#174D83; border:#ffffff; font-size:100%; color:#fff; border-radius:5px;\">11. Array splitting</span>"
   ]
  },
  {
   "cell_type": "code",
   "execution_count": 44,
   "id": "28fdb9da",
   "metadata": {
    "execution": {
     "iopub.execute_input": "2022-10-27T07:06:32.812488Z",
     "iopub.status.busy": "2022-10-27T07:06:32.811852Z",
     "iopub.status.idle": "2022-10-27T07:06:32.818651Z",
     "shell.execute_reply": "2022-10-27T07:06:32.817723Z"
    },
    "papermill": {
     "duration": 0.049404,
     "end_time": "2022-10-27T07:06:32.820815",
     "exception": false,
     "start_time": "2022-10-27T07:06:32.771411",
     "status": "completed"
    },
    "tags": []
   },
   "outputs": [
    {
     "data": {
      "text/plain": [
       "[array([1, 2, 3]), array([22, 22]), array([4, 5, 6])]"
      ]
     },
     "execution_count": 44,
     "metadata": {},
     "output_type": "execute_result"
    }
   ],
   "source": [
    "arr = np.array([1,2,3,22,22,4,5,6])\n",
    "np.split(arr, [3, 5])"
   ]
  },
  {
   "cell_type": "code",
   "execution_count": 45,
   "id": "05000c96",
   "metadata": {
    "execution": {
     "iopub.execute_input": "2022-10-27T07:06:32.902284Z",
     "iopub.status.busy": "2022-10-27T07:06:32.901937Z",
     "iopub.status.idle": "2022-10-27T07:06:32.908714Z",
     "shell.execute_reply": "2022-10-27T07:06:32.907732Z"
    },
    "papermill": {
     "duration": 0.050101,
     "end_time": "2022-10-27T07:06:32.911222",
     "exception": false,
     "start_time": "2022-10-27T07:06:32.861121",
     "status": "completed"
    },
    "tags": []
   },
   "outputs": [
    {
     "name": "stdout",
     "output_type": "stream",
     "text": [
      "[1 2 3]\n",
      "[22 22]\n",
      "[4 5 6]\n"
     ]
    }
   ],
   "source": [
    "a, b, c = np.split(arr, [3, 5])\n",
    "for i in (a, b, c):\n",
    "    print(i)"
   ]
  },
  {
   "cell_type": "markdown",
   "id": "f4087b0c",
   "metadata": {
    "papermill": {
     "duration": 0.040837,
     "end_time": "2022-10-27T07:06:32.992352",
     "exception": false,
     "start_time": "2022-10-27T07:06:32.951515",
     "status": "completed"
    },
    "tags": []
   },
   "source": [
    "### <mark>Splitting two dimensional arrays</mark>"
   ]
  },
  {
   "cell_type": "code",
   "execution_count": 46,
   "id": "26cf49ba",
   "metadata": {
    "execution": {
     "iopub.execute_input": "2022-10-27T07:06:33.073185Z",
     "iopub.status.busy": "2022-10-27T07:06:33.072481Z",
     "iopub.status.idle": "2022-10-27T07:06:33.079662Z",
     "shell.execute_reply": "2022-10-27T07:06:33.078616Z"
    },
    "papermill": {
     "duration": 0.04995,
     "end_time": "2022-10-27T07:06:33.081695",
     "exception": false,
     "start_time": "2022-10-27T07:06:33.031745",
     "status": "completed"
    },
    "tags": []
   },
   "outputs": [
    {
     "data": {
      "text/plain": [
       "array([[ 0,  1,  2,  3],\n",
       "       [ 4,  5,  6,  7],\n",
       "       [ 8,  9, 10, 11],\n",
       "       [12, 13, 14, 15]])"
      ]
     },
     "execution_count": 46,
     "metadata": {},
     "output_type": "execute_result"
    }
   ],
   "source": [
    "arr = np.arange(16).reshape(4, 4)\n",
    "arr"
   ]
  },
  {
   "cell_type": "code",
   "execution_count": 47,
   "id": "eca80926",
   "metadata": {
    "execution": {
     "iopub.execute_input": "2022-10-27T07:06:33.164552Z",
     "iopub.status.busy": "2022-10-27T07:06:33.164201Z",
     "iopub.status.idle": "2022-10-27T07:06:33.170736Z",
     "shell.execute_reply": "2022-10-27T07:06:33.169843Z"
    },
    "papermill": {
     "duration": 0.050479,
     "end_time": "2022-10-27T07:06:33.172769",
     "exception": false,
     "start_time": "2022-10-27T07:06:33.122290",
     "status": "completed"
    },
    "tags": []
   },
   "outputs": [
    {
     "data": {
      "text/plain": [
       "(array([[0, 1, 2, 3],\n",
       "        [4, 5, 6, 7]]),\n",
       " array([[ 8,  9, 10, 11],\n",
       "        [12, 13, 14, 15]]))"
      ]
     },
     "execution_count": 47,
     "metadata": {},
     "output_type": "execute_result"
    }
   ],
   "source": [
    "top, bottom = np.vsplit(arr, [2])\n",
    "top, bottom"
   ]
  },
  {
   "cell_type": "code",
   "execution_count": 48,
   "id": "de94ccb9",
   "metadata": {
    "execution": {
     "iopub.execute_input": "2022-10-27T07:06:33.254674Z",
     "iopub.status.busy": "2022-10-27T07:06:33.253622Z",
     "iopub.status.idle": "2022-10-27T07:06:33.260924Z",
     "shell.execute_reply": "2022-10-27T07:06:33.259970Z"
    },
    "papermill": {
     "duration": 0.050228,
     "end_time": "2022-10-27T07:06:33.262940",
     "exception": false,
     "start_time": "2022-10-27T07:06:33.212712",
     "status": "completed"
    },
    "tags": []
   },
   "outputs": [
    {
     "data": {
      "text/plain": [
       "(array([[ 0,  1],\n",
       "        [ 4,  5],\n",
       "        [ 8,  9],\n",
       "        [12, 13]]),\n",
       " array([[ 2,  3],\n",
       "        [ 6,  7],\n",
       "        [10, 11],\n",
       "        [14, 15]]))"
      ]
     },
     "execution_count": 48,
     "metadata": {},
     "output_type": "execute_result"
    }
   ],
   "source": [
    "left, right = np.hsplit(arr, [2])\n",
    "left, right"
   ]
  },
  {
   "cell_type": "markdown",
   "id": "5406b682",
   "metadata": {
    "papermill": {
     "duration": 0.040261,
     "end_time": "2022-10-27T07:06:33.343370",
     "exception": false,
     "start_time": "2022-10-27T07:06:33.303109",
     "status": "completed"
    },
    "tags": []
   },
   "source": [
    "### <span style = \"background:#174D83; border:#ffffff; font-size:100%; color:#fff; border-radius:5px;\">12. Sort the arrays</span>"
   ]
  },
  {
   "cell_type": "code",
   "execution_count": 49,
   "id": "1978010b",
   "metadata": {
    "execution": {
     "iopub.execute_input": "2022-10-27T07:06:33.427688Z",
     "iopub.status.busy": "2022-10-27T07:06:33.426586Z",
     "iopub.status.idle": "2022-10-27T07:06:33.433495Z",
     "shell.execute_reply": "2022-10-27T07:06:33.432268Z"
    },
    "papermill": {
     "duration": 0.050385,
     "end_time": "2022-10-27T07:06:33.435599",
     "exception": false,
     "start_time": "2022-10-27T07:06:33.385214",
     "status": "completed"
    },
    "tags": []
   },
   "outputs": [
    {
     "name": "stdout",
     "output_type": "stream",
     "text": [
      "[ 0  1  1  2  3  4  6  7  9 11]\n"
     ]
    }
   ],
   "source": [
    "arr = np.array([2, 6, 1, 4, 7, 3, 9, 1, 0, 11])\n",
    "print(np.sort(arr))"
   ]
  },
  {
   "cell_type": "code",
   "execution_count": 50,
   "id": "398f1c24",
   "metadata": {
    "execution": {
     "iopub.execute_input": "2022-10-27T07:06:33.519185Z",
     "iopub.status.busy": "2022-10-27T07:06:33.518782Z",
     "iopub.status.idle": "2022-10-27T07:06:33.525652Z",
     "shell.execute_reply": "2022-10-27T07:06:33.524648Z"
    },
    "papermill": {
     "duration": 0.051326,
     "end_time": "2022-10-27T07:06:33.527791",
     "exception": false,
     "start_time": "2022-10-27T07:06:33.476465",
     "status": "completed"
    },
    "tags": []
   },
   "outputs": [
    {
     "data": {
      "text/plain": [
       "array([ 0,  1,  1,  2,  3,  4,  6,  7,  9, 11])"
      ]
     },
     "execution_count": 50,
     "metadata": {},
     "output_type": "execute_result"
    }
   ],
   "source": [
    "arr = np.array([2,6,1,4,7,3,9,1,0,11])\n",
    "arr.sort()\n",
    "arr"
   ]
  },
  {
   "cell_type": "markdown",
   "id": "29c77f73",
   "metadata": {
    "papermill": {
     "duration": 0.040238,
     "end_time": "2022-10-27T07:06:33.608669",
     "exception": false,
     "start_time": "2022-10-27T07:06:33.568431",
     "status": "completed"
    },
    "tags": []
   },
   "source": [
    "### <mark>Sorting two dimensional arrays</mark>"
   ]
  },
  {
   "cell_type": "code",
   "execution_count": 51,
   "id": "092b50e4",
   "metadata": {
    "execution": {
     "iopub.execute_input": "2022-10-27T07:06:33.691880Z",
     "iopub.status.busy": "2022-10-27T07:06:33.690238Z",
     "iopub.status.idle": "2022-10-27T07:06:33.697750Z",
     "shell.execute_reply": "2022-10-27T07:06:33.696738Z"
    },
    "papermill": {
     "duration": 0.050996,
     "end_time": "2022-10-27T07:06:33.699775",
     "exception": false,
     "start_time": "2022-10-27T07:06:33.648779",
     "status": "completed"
    },
    "tags": []
   },
   "outputs": [
    {
     "data": {
      "text/plain": [
       "array([[ 9, 15,  3,  1,  4],\n",
       "       [ 1, 10,  8, 13, 12],\n",
       "       [ 3, 11,  3,  6,  4]])"
      ]
     },
     "execution_count": 51,
     "metadata": {},
     "output_type": "execute_result"
    }
   ],
   "source": [
    "arr_1 = np.random.randint(1, 16, (3, 5))\n",
    "arr_1"
   ]
  },
  {
   "cell_type": "code",
   "execution_count": 52,
   "id": "291a95ed",
   "metadata": {
    "execution": {
     "iopub.execute_input": "2022-10-27T07:06:33.783811Z",
     "iopub.status.busy": "2022-10-27T07:06:33.782085Z",
     "iopub.status.idle": "2022-10-27T07:06:33.789385Z",
     "shell.execute_reply": "2022-10-27T07:06:33.788366Z"
    },
    "papermill": {
     "duration": 0.050412,
     "end_time": "2022-10-27T07:06:33.791436",
     "exception": false,
     "start_time": "2022-10-27T07:06:33.741024",
     "status": "completed"
    },
    "tags": []
   },
   "outputs": [
    {
     "data": {
      "text/plain": [
       "array([[ 1,  3,  4,  9, 15],\n",
       "       [ 1,  8, 10, 12, 13],\n",
       "       [ 3,  3,  4,  6, 11]])"
      ]
     },
     "execution_count": 52,
     "metadata": {},
     "output_type": "execute_result"
    }
   ],
   "source": [
    "np.sort(arr_1, axis = 1)"
   ]
  },
  {
   "cell_type": "code",
   "execution_count": 53,
   "id": "28762d9c",
   "metadata": {
    "execution": {
     "iopub.execute_input": "2022-10-27T07:06:33.920507Z",
     "iopub.status.busy": "2022-10-27T07:06:33.919933Z",
     "iopub.status.idle": "2022-10-27T07:06:33.926866Z",
     "shell.execute_reply": "2022-10-27T07:06:33.925914Z"
    },
    "papermill": {
     "duration": 0.050714,
     "end_time": "2022-10-27T07:06:33.928911",
     "exception": false,
     "start_time": "2022-10-27T07:06:33.878197",
     "status": "completed"
    },
    "tags": []
   },
   "outputs": [
    {
     "data": {
      "text/plain": [
       "array([[ 1, 10,  3,  1,  4],\n",
       "       [ 3, 11,  3,  6,  4],\n",
       "       [ 9, 15,  8, 13, 12]])"
      ]
     },
     "execution_count": 53,
     "metadata": {},
     "output_type": "execute_result"
    }
   ],
   "source": [
    "np.sort(arr_1, axis = 0)"
   ]
  },
  {
   "cell_type": "markdown",
   "id": "8a8da778",
   "metadata": {
    "papermill": {
     "duration": 0.041573,
     "end_time": "2022-10-27T07:06:34.011109",
     "exception": false,
     "start_time": "2022-10-27T07:06:33.969536",
     "status": "completed"
    },
    "tags": []
   },
   "source": [
    "### <span style = \"background:#174D83; border:#ffffff; font-size:100%; color:#fff; border-radius:5px;\">13. Acces array elements by index</span>"
   ]
  },
  {
   "cell_type": "code",
   "execution_count": 54,
   "id": "250af01b",
   "metadata": {
    "execution": {
     "iopub.execute_input": "2022-10-27T07:06:34.094560Z",
     "iopub.status.busy": "2022-10-27T07:06:34.093546Z",
     "iopub.status.idle": "2022-10-27T07:06:34.098932Z",
     "shell.execute_reply": "2022-10-27T07:06:34.097989Z"
    },
    "papermill": {
     "duration": 0.049814,
     "end_time": "2022-10-27T07:06:34.101054",
     "exception": false,
     "start_time": "2022-10-27T07:06:34.051240",
     "status": "completed"
    },
    "tags": []
   },
   "outputs": [],
   "source": [
    "arr = np.array([1, 3, 4, 6, 2, 7, 9, 4, 6, 2, 0])"
   ]
  },
  {
   "cell_type": "code",
   "execution_count": 55,
   "id": "3059cfa9",
   "metadata": {
    "execution": {
     "iopub.execute_input": "2022-10-27T07:06:34.184854Z",
     "iopub.status.busy": "2022-10-27T07:06:34.183934Z",
     "iopub.status.idle": "2022-10-27T07:06:34.190879Z",
     "shell.execute_reply": "2022-10-27T07:06:34.189897Z"
    },
    "papermill": {
     "duration": 0.050741,
     "end_time": "2022-10-27T07:06:34.192908",
     "exception": false,
     "start_time": "2022-10-27T07:06:34.142167",
     "status": "completed"
    },
    "tags": []
   },
   "outputs": [
    {
     "data": {
      "text/plain": [
       "1"
      ]
     },
     "execution_count": 55,
     "metadata": {},
     "output_type": "execute_result"
    }
   ],
   "source": [
    "arr[0]"
   ]
  },
  {
   "cell_type": "code",
   "execution_count": 56,
   "id": "ef0a8e68",
   "metadata": {
    "execution": {
     "iopub.execute_input": "2022-10-27T07:06:34.277756Z",
     "iopub.status.busy": "2022-10-27T07:06:34.276807Z",
     "iopub.status.idle": "2022-10-27T07:06:34.283884Z",
     "shell.execute_reply": "2022-10-27T07:06:34.282929Z"
    },
    "papermill": {
     "duration": 0.051842,
     "end_time": "2022-10-27T07:06:34.285879",
     "exception": false,
     "start_time": "2022-10-27T07:06:34.234037",
     "status": "completed"
    },
    "tags": []
   },
   "outputs": [
    {
     "data": {
      "text/plain": [
       "2"
      ]
     },
     "execution_count": 56,
     "metadata": {},
     "output_type": "execute_result"
    }
   ],
   "source": [
    " arr[-2]"
   ]
  },
  {
   "cell_type": "code",
   "execution_count": 57,
   "id": "196ece32",
   "metadata": {
    "execution": {
     "iopub.execute_input": "2022-10-27T07:06:34.369400Z",
     "iopub.status.busy": "2022-10-27T07:06:34.368436Z",
     "iopub.status.idle": "2022-10-27T07:06:34.375209Z",
     "shell.execute_reply": "2022-10-27T07:06:34.374245Z"
    },
    "papermill": {
     "duration": 0.050315,
     "end_time": "2022-10-27T07:06:34.377389",
     "exception": false,
     "start_time": "2022-10-27T07:06:34.327074",
     "status": "completed"
    },
    "tags": []
   },
   "outputs": [
    {
     "data": {
      "text/plain": [
       "array([1, 3, 4, 6, 2, 7, 9, 4, 6, 2, 0])"
      ]
     },
     "execution_count": 57,
     "metadata": {},
     "output_type": "execute_result"
    }
   ],
   "source": [
    "arr[:]"
   ]
  },
  {
   "cell_type": "code",
   "execution_count": 58,
   "id": "45bc88f4",
   "metadata": {
    "execution": {
     "iopub.execute_input": "2022-10-27T07:06:34.461780Z",
     "iopub.status.busy": "2022-10-27T07:06:34.460037Z",
     "iopub.status.idle": "2022-10-27T07:06:34.467092Z",
     "shell.execute_reply": "2022-10-27T07:06:34.466101Z"
    },
    "papermill": {
     "duration": 0.050926,
     "end_time": "2022-10-27T07:06:34.469053",
     "exception": false,
     "start_time": "2022-10-27T07:06:34.418127",
     "status": "completed"
    },
    "tags": []
   },
   "outputs": [
    {
     "data": {
      "text/plain": [
       "array([1, 3, 4, 6, 2, 7, 9, 4, 6])"
      ]
     },
     "execution_count": 58,
     "metadata": {},
     "output_type": "execute_result"
    }
   ],
   "source": [
    "arr[:-2]"
   ]
  },
  {
   "cell_type": "code",
   "execution_count": 59,
   "id": "e2d077aa",
   "metadata": {
    "execution": {
     "iopub.execute_input": "2022-10-27T07:06:34.554167Z",
     "iopub.status.busy": "2022-10-27T07:06:34.553816Z",
     "iopub.status.idle": "2022-10-27T07:06:34.559945Z",
     "shell.execute_reply": "2022-10-27T07:06:34.559036Z"
    },
    "papermill": {
     "duration": 0.050737,
     "end_time": "2022-10-27T07:06:34.561892",
     "exception": false,
     "start_time": "2022-10-27T07:06:34.511155",
     "status": "completed"
    },
    "tags": []
   },
   "outputs": [
    {
     "data": {
      "text/plain": [
       "array([6, 2])"
      ]
     },
     "execution_count": 59,
     "metadata": {},
     "output_type": "execute_result"
    }
   ],
   "source": [
    "arr[3:5]"
   ]
  },
  {
   "cell_type": "code",
   "execution_count": 60,
   "id": "c6748f1d",
   "metadata": {
    "execution": {
     "iopub.execute_input": "2022-10-27T07:06:34.645835Z",
     "iopub.status.busy": "2022-10-27T07:06:34.644890Z",
     "iopub.status.idle": "2022-10-27T07:06:34.651737Z",
     "shell.execute_reply": "2022-10-27T07:06:34.650778Z"
    },
    "papermill": {
     "duration": 0.050945,
     "end_time": "2022-10-27T07:06:34.653742",
     "exception": false,
     "start_time": "2022-10-27T07:06:34.602797",
     "status": "completed"
    },
    "tags": []
   },
   "outputs": [
    {
     "data": {
      "text/plain": [
       "array([0, 2, 6, 4, 9, 7, 2, 6, 4, 3, 1])"
      ]
     },
     "execution_count": 60,
     "metadata": {},
     "output_type": "execute_result"
    }
   ],
   "source": [
    "arr[::-1]"
   ]
  },
  {
   "cell_type": "code",
   "execution_count": 61,
   "id": "755eee6b",
   "metadata": {
    "execution": {
     "iopub.execute_input": "2022-10-27T07:06:34.737585Z",
     "iopub.status.busy": "2022-10-27T07:06:34.737211Z",
     "iopub.status.idle": "2022-10-27T07:06:34.744419Z",
     "shell.execute_reply": "2022-10-27T07:06:34.743505Z"
    },
    "papermill": {
     "duration": 0.051024,
     "end_time": "2022-10-27T07:06:34.746478",
     "exception": false,
     "start_time": "2022-10-27T07:06:34.695454",
     "status": "completed"
    },
    "tags": []
   },
   "outputs": [
    {
     "data": {
      "text/plain": [
       "array([[ 2,  5,  7,  9,  0,  1,  3],\n",
       "       [ 1,  5,  7,  5,  9, 12, 14],\n",
       "       [15, 13, 18, 34, 14, 19, 21]])"
      ]
     },
     "execution_count": 61,
     "metadata": {},
     "output_type": "execute_result"
    }
   ],
   "source": [
    "arr_1 = np.array([[2,5,7,9,0,1,3],\n",
    "                 [1,5,7,5,9,12,14],\n",
    "                 [15,13,18,34,14,19,21]])\n",
    "arr_1"
   ]
  },
  {
   "cell_type": "code",
   "execution_count": 62,
   "id": "99551056",
   "metadata": {
    "execution": {
     "iopub.execute_input": "2022-10-27T07:06:34.830362Z",
     "iopub.status.busy": "2022-10-27T07:06:34.829661Z",
     "iopub.status.idle": "2022-10-27T07:06:34.835734Z",
     "shell.execute_reply": "2022-10-27T07:06:34.834846Z"
    },
    "papermill": {
     "duration": 0.050257,
     "end_time": "2022-10-27T07:06:34.837677",
     "exception": false,
     "start_time": "2022-10-27T07:06:34.787420",
     "status": "completed"
    },
    "tags": []
   },
   "outputs": [
    {
     "data": {
      "text/plain": [
       "2"
      ]
     },
     "execution_count": 62,
     "metadata": {},
     "output_type": "execute_result"
    }
   ],
   "source": [
    "arr_1[0, 0]"
   ]
  },
  {
   "cell_type": "markdown",
   "id": "3422cace",
   "metadata": {
    "papermill": {
     "duration": 0.040999,
     "end_time": "2022-10-27T07:06:34.920666",
     "exception": false,
     "start_time": "2022-10-27T07:06:34.879667",
     "status": "completed"
    },
    "tags": []
   },
   "source": [
    "### <mark>Get 7 in the second row and the second column</mark>"
   ]
  },
  {
   "cell_type": "code",
   "execution_count": 63,
   "id": "1b793b0d",
   "metadata": {
    "execution": {
     "iopub.execute_input": "2022-10-27T07:06:35.005098Z",
     "iopub.status.busy": "2022-10-27T07:06:35.004736Z",
     "iopub.status.idle": "2022-10-27T07:06:35.011000Z",
     "shell.execute_reply": "2022-10-27T07:06:35.010092Z"
    },
    "papermill": {
     "duration": 0.050284,
     "end_time": "2022-10-27T07:06:35.012942",
     "exception": false,
     "start_time": "2022-10-27T07:06:34.962658",
     "status": "completed"
    },
    "tags": []
   },
   "outputs": [
    {
     "data": {
      "text/plain": [
       "7"
      ]
     },
     "execution_count": 63,
     "metadata": {},
     "output_type": "execute_result"
    }
   ],
   "source": [
    "arr_1[1, 2]"
   ]
  },
  {
   "cell_type": "markdown",
   "id": "2ed8f942",
   "metadata": {
    "papermill": {
     "duration": 0.041443,
     "end_time": "2022-10-27T07:06:35.096724",
     "exception": false,
     "start_time": "2022-10-27T07:06:35.055281",
     "status": "completed"
    },
    "tags": []
   },
   "source": [
    "### <mark>Get 21 value</mark>"
   ]
  },
  {
   "cell_type": "code",
   "execution_count": 64,
   "id": "34a55e4b",
   "metadata": {
    "execution": {
     "iopub.execute_input": "2022-10-27T07:06:35.181049Z",
     "iopub.status.busy": "2022-10-27T07:06:35.180690Z",
     "iopub.status.idle": "2022-10-27T07:06:35.187074Z",
     "shell.execute_reply": "2022-10-27T07:06:35.186179Z"
    },
    "papermill": {
     "duration": 0.050701,
     "end_time": "2022-10-27T07:06:35.189079",
     "exception": false,
     "start_time": "2022-10-27T07:06:35.138378",
     "status": "completed"
    },
    "tags": []
   },
   "outputs": [
    {
     "data": {
      "text/plain": [
       "21"
      ]
     },
     "execution_count": 64,
     "metadata": {},
     "output_type": "execute_result"
    }
   ],
   "source": [
    "arr_1[2,-1]"
   ]
  },
  {
   "cell_type": "markdown",
   "id": "1b9527bf",
   "metadata": {
    "papermill": {
     "duration": 0.048265,
     "end_time": "2022-10-27T07:06:35.280539",
     "exception": false,
     "start_time": "2022-10-27T07:06:35.232274",
     "status": "completed"
    },
    "tags": []
   },
   "source": [
    "### <mark>Change value</mark>"
   ]
  },
  {
   "cell_type": "code",
   "execution_count": 65,
   "id": "82d31b8f",
   "metadata": {
    "execution": {
     "iopub.execute_input": "2022-10-27T07:06:35.380412Z",
     "iopub.status.busy": "2022-10-27T07:06:35.380011Z",
     "iopub.status.idle": "2022-10-27T07:06:35.387141Z",
     "shell.execute_reply": "2022-10-27T07:06:35.386070Z"
    },
    "papermill": {
     "duration": 0.059457,
     "end_time": "2022-10-27T07:06:35.389482",
     "exception": false,
     "start_time": "2022-10-27T07:06:35.330025",
     "status": "completed"
    },
    "tags": []
   },
   "outputs": [
    {
     "data": {
      "text/plain": [
       "array([[  2,   5,   7,   9,   0,   1,   3],\n",
       "       [  1,   5,   7,   5,   9,  12,  14],\n",
       "       [ 15,  13,  18,  34,  14, 111,  21]])"
      ]
     },
     "execution_count": 65,
     "metadata": {},
     "output_type": "execute_result"
    }
   ],
   "source": [
    "arr_1[2, -2] = 111\n",
    "arr_1"
   ]
  },
  {
   "cell_type": "code",
   "execution_count": 66,
   "id": "cc295982",
   "metadata": {
    "execution": {
     "iopub.execute_input": "2022-10-27T07:06:35.488425Z",
     "iopub.status.busy": "2022-10-27T07:06:35.487444Z",
     "iopub.status.idle": "2022-10-27T07:06:35.494975Z",
     "shell.execute_reply": "2022-10-27T07:06:35.493968Z"
    },
    "papermill": {
     "duration": 0.058712,
     "end_time": "2022-10-27T07:06:35.497126",
     "exception": false,
     "start_time": "2022-10-27T07:06:35.438414",
     "status": "completed"
    },
    "tags": []
   },
   "outputs": [
    {
     "data": {
      "text/plain": [
       "array([[  2,   5,   7,   9,   0,   1,  55],\n",
       "       [  1,   5,   7,   5,   9,  12,  14],\n",
       "       [ 15,  13,  18,  34,  14, 111,  21]])"
      ]
     },
     "execution_count": 66,
     "metadata": {},
     "output_type": "execute_result"
    }
   ],
   "source": [
    "# Here we insert a float value from the outside into the array of integer values.\n",
    "# In this case, because the arrays are of fixed type, the decimal part will be discarded.\n",
    "arr_1[0,-1] = 55.5\n",
    "arr_1"
   ]
  },
  {
   "cell_type": "markdown",
   "id": "d1eeaeca",
   "metadata": {
    "papermill": {
     "duration": 0.04358,
     "end_time": "2022-10-27T07:06:35.586298",
     "exception": false,
     "start_time": "2022-10-27T07:06:35.542718",
     "status": "completed"
    },
    "tags": []
   },
   "source": [
    "### <span style = \"background:#174D83; border:#ffffff; font-size:100%; color:#fff; border-radius:5px;\">14. Array slicing</span>"
   ]
  },
  {
   "cell_type": "code",
   "execution_count": 67,
   "id": "51a58673",
   "metadata": {
    "execution": {
     "iopub.execute_input": "2022-10-27T07:06:35.670141Z",
     "iopub.status.busy": "2022-10-27T07:06:35.669772Z",
     "iopub.status.idle": "2022-10-27T07:06:35.676032Z",
     "shell.execute_reply": "2022-10-27T07:06:35.675135Z"
    },
    "papermill": {
     "duration": 0.050292,
     "end_time": "2022-10-27T07:06:35.678098",
     "exception": false,
     "start_time": "2022-10-27T07:06:35.627806",
     "status": "completed"
    },
    "tags": []
   },
   "outputs": [
    {
     "data": {
      "text/plain": [
       "array([10, 11, 12, 13, 14, 15, 16, 17, 18, 19, 20, 21, 22, 23, 24])"
      ]
     },
     "execution_count": 67,
     "metadata": {},
     "output_type": "execute_result"
    }
   ],
   "source": [
    "arr = np.arange(10, 25)\n",
    "arr"
   ]
  },
  {
   "cell_type": "code",
   "execution_count": 68,
   "id": "46cdd896",
   "metadata": {
    "execution": {
     "iopub.execute_input": "2022-10-27T07:06:35.763569Z",
     "iopub.status.busy": "2022-10-27T07:06:35.762904Z",
     "iopub.status.idle": "2022-10-27T07:06:35.769175Z",
     "shell.execute_reply": "2022-10-27T07:06:35.768282Z"
    },
    "papermill": {
     "duration": 0.050649,
     "end_time": "2022-10-27T07:06:35.771178",
     "exception": false,
     "start_time": "2022-10-27T07:06:35.720529",
     "status": "completed"
    },
    "tags": []
   },
   "outputs": [
    {
     "data": {
      "text/plain": [
       "array([10, 11, 12, 13, 14])"
      ]
     },
     "execution_count": 68,
     "metadata": {},
     "output_type": "execute_result"
    }
   ],
   "source": [
    "arr[0:5]"
   ]
  },
  {
   "cell_type": "code",
   "execution_count": 69,
   "id": "00233e44",
   "metadata": {
    "execution": {
     "iopub.execute_input": "2022-10-27T07:06:35.867433Z",
     "iopub.status.busy": "2022-10-27T07:06:35.866461Z",
     "iopub.status.idle": "2022-10-27T07:06:35.873241Z",
     "shell.execute_reply": "2022-10-27T07:06:35.872271Z"
    },
    "papermill": {
     "duration": 0.060707,
     "end_time": "2022-10-27T07:06:35.875256",
     "exception": false,
     "start_time": "2022-10-27T07:06:35.814549",
     "status": "completed"
    },
    "tags": []
   },
   "outputs": [
    {
     "data": {
      "text/plain": [
       "array([10, 11, 12, 13, 14])"
      ]
     },
     "execution_count": 69,
     "metadata": {},
     "output_type": "execute_result"
    }
   ],
   "source": [
    "arr[:5]"
   ]
  },
  {
   "cell_type": "code",
   "execution_count": 70,
   "id": "e733e46f",
   "metadata": {
    "execution": {
     "iopub.execute_input": "2022-10-27T07:06:35.961869Z",
     "iopub.status.busy": "2022-10-27T07:06:35.961475Z",
     "iopub.status.idle": "2022-10-27T07:06:35.967758Z",
     "shell.execute_reply": "2022-10-27T07:06:35.966834Z"
    },
    "papermill": {
     "duration": 0.051552,
     "end_time": "2022-10-27T07:06:35.969900",
     "exception": false,
     "start_time": "2022-10-27T07:06:35.918348",
     "status": "completed"
    },
    "tags": []
   },
   "outputs": [
    {
     "data": {
      "text/plain": [
       "array([13, 14, 15, 16, 17, 18, 19, 20, 21, 22, 23, 24])"
      ]
     },
     "execution_count": 70,
     "metadata": {},
     "output_type": "execute_result"
    }
   ],
   "source": [
    "arr[3:]"
   ]
  },
  {
   "cell_type": "code",
   "execution_count": 71,
   "id": "75809b68",
   "metadata": {
    "execution": {
     "iopub.execute_input": "2022-10-27T07:06:36.056316Z",
     "iopub.status.busy": "2022-10-27T07:06:36.055951Z",
     "iopub.status.idle": "2022-10-27T07:06:36.062194Z",
     "shell.execute_reply": "2022-10-27T07:06:36.061293Z"
    },
    "papermill": {
     "duration": 0.051322,
     "end_time": "2022-10-27T07:06:36.064195",
     "exception": false,
     "start_time": "2022-10-27T07:06:36.012873",
     "status": "completed"
    },
    "tags": []
   },
   "outputs": [
    {
     "data": {
      "text/plain": [
       "array([10, 12, 14, 16, 18, 20, 22, 24])"
      ]
     },
     "execution_count": 71,
     "metadata": {},
     "output_type": "execute_result"
    }
   ],
   "source": [
    "arr[::2]"
   ]
  },
  {
   "cell_type": "code",
   "execution_count": 72,
   "id": "9ac31d86",
   "metadata": {
    "execution": {
     "iopub.execute_input": "2022-10-27T07:06:36.152344Z",
     "iopub.status.busy": "2022-10-27T07:06:36.151977Z",
     "iopub.status.idle": "2022-10-27T07:06:36.158306Z",
     "shell.execute_reply": "2022-10-27T07:06:36.157388Z"
    },
    "papermill": {
     "duration": 0.053245,
     "end_time": "2022-10-27T07:06:36.160529",
     "exception": false,
     "start_time": "2022-10-27T07:06:36.107284",
     "status": "completed"
    },
    "tags": []
   },
   "outputs": [
    {
     "data": {
      "text/plain": [
       "array([11, 13, 15, 17, 19, 21, 23])"
      ]
     },
     "execution_count": 72,
     "metadata": {},
     "output_type": "execute_result"
    }
   ],
   "source": [
    "arr[1::2]"
   ]
  },
  {
   "cell_type": "code",
   "execution_count": 73,
   "id": "cfb78c61",
   "metadata": {
    "execution": {
     "iopub.execute_input": "2022-10-27T07:06:36.247227Z",
     "iopub.status.busy": "2022-10-27T07:06:36.246261Z",
     "iopub.status.idle": "2022-10-27T07:06:36.252822Z",
     "shell.execute_reply": "2022-10-27T07:06:36.251890Z"
    },
    "papermill": {
     "duration": 0.051828,
     "end_time": "2022-10-27T07:06:36.254884",
     "exception": false,
     "start_time": "2022-10-27T07:06:36.203056",
     "status": "completed"
    },
    "tags": []
   },
   "outputs": [
    {
     "data": {
      "text/plain": [
       "array([10, 13, 16, 19, 22])"
      ]
     },
     "execution_count": 73,
     "metadata": {},
     "output_type": "execute_result"
    }
   ],
   "source": [
    "arr[::3]"
   ]
  },
  {
   "cell_type": "markdown",
   "id": "135f6ca7",
   "metadata": {
    "papermill": {
     "duration": 0.04242,
     "end_time": "2022-10-27T07:06:36.339885",
     "exception": false,
     "start_time": "2022-10-27T07:06:36.297465",
     "status": "completed"
    },
    "tags": []
   },
   "source": [
    "### <mark>Slicing two dimensional arrays</mark>"
   ]
  },
  {
   "cell_type": "code",
   "execution_count": 74,
   "id": "4c2f4836",
   "metadata": {
    "execution": {
     "iopub.execute_input": "2022-10-27T07:06:36.426051Z",
     "iopub.status.busy": "2022-10-27T07:06:36.425046Z",
     "iopub.status.idle": "2022-10-27T07:06:36.432683Z",
     "shell.execute_reply": "2022-10-27T07:06:36.431718Z"
    },
    "papermill": {
     "duration": 0.052892,
     "end_time": "2022-10-27T07:06:36.434694",
     "exception": false,
     "start_time": "2022-10-27T07:06:36.381802",
     "status": "completed"
    },
    "tags": []
   },
   "outputs": [
    {
     "data": {
      "text/plain": [
       "array([[ 0,  1,  2,  3,  4],\n",
       "       [ 5,  6,  7,  8,  9],\n",
       "       [10, 11, 12, 13, 14],\n",
       "       [15, 16, 17, 18, 19],\n",
       "       [20, 21, 22, 23, 24]])"
      ]
     },
     "execution_count": 74,
     "metadata": {},
     "output_type": "execute_result"
    }
   ],
   "source": [
    "arr1 = np.arange(0, 25).reshape(5, 5)\n",
    "arr1"
   ]
  },
  {
   "cell_type": "code",
   "execution_count": 75,
   "id": "1c1f8c8c",
   "metadata": {
    "execution": {
     "iopub.execute_input": "2022-10-27T07:06:36.521485Z",
     "iopub.status.busy": "2022-10-27T07:06:36.520511Z",
     "iopub.status.idle": "2022-10-27T07:06:36.527543Z",
     "shell.execute_reply": "2022-10-27T07:06:36.526604Z"
    },
    "papermill": {
     "duration": 0.052429,
     "end_time": "2022-10-27T07:06:36.529543",
     "exception": false,
     "start_time": "2022-10-27T07:06:36.477114",
     "status": "completed"
    },
    "tags": []
   },
   "outputs": [
    {
     "data": {
      "text/plain": [
       "array([[ 0,  1,  2,  3,  4],\n",
       "       [ 5,  6,  7,  8,  9],\n",
       "       [10, 11, 12, 13, 14],\n",
       "       [15, 16, 17, 18, 19],\n",
       "       [20, 21, 22, 23, 24]])"
      ]
     },
     "execution_count": 75,
     "metadata": {},
     "output_type": "execute_result"
    }
   ],
   "source": [
    "arr1[:, :]"
   ]
  },
  {
   "cell_type": "code",
   "execution_count": 76,
   "id": "8766e8ce",
   "metadata": {
    "execution": {
     "iopub.execute_input": "2022-10-27T07:06:36.617937Z",
     "iopub.status.busy": "2022-10-27T07:06:36.616970Z",
     "iopub.status.idle": "2022-10-27T07:06:36.624187Z",
     "shell.execute_reply": "2022-10-27T07:06:36.623214Z"
    },
    "papermill": {
     "duration": 0.053313,
     "end_time": "2022-10-27T07:06:36.626203",
     "exception": false,
     "start_time": "2022-10-27T07:06:36.572890",
     "status": "completed"
    },
    "tags": []
   },
   "outputs": [
    {
     "data": {
      "text/plain": [
       "array([ 1,  6, 11, 16, 21])"
      ]
     },
     "execution_count": 76,
     "metadata": {},
     "output_type": "execute_result"
    }
   ],
   "source": [
    "arr1[:, 1]"
   ]
  },
  {
   "cell_type": "code",
   "execution_count": 77,
   "id": "6d6c63bc",
   "metadata": {
    "execution": {
     "iopub.execute_input": "2022-10-27T07:06:36.719296Z",
     "iopub.status.busy": "2022-10-27T07:06:36.718564Z",
     "iopub.status.idle": "2022-10-27T07:06:36.724938Z",
     "shell.execute_reply": "2022-10-27T07:06:36.724032Z"
    },
    "papermill": {
     "duration": 0.057509,
     "end_time": "2022-10-27T07:06:36.726940",
     "exception": false,
     "start_time": "2022-10-27T07:06:36.669431",
     "status": "completed"
    },
    "tags": []
   },
   "outputs": [
    {
     "data": {
      "text/plain": [
       "array([ 4,  9, 14, 19, 24])"
      ]
     },
     "execution_count": 77,
     "metadata": {},
     "output_type": "execute_result"
    }
   ],
   "source": [
    "arr1[:, 4]"
   ]
  },
  {
   "cell_type": "code",
   "execution_count": 78,
   "id": "02976631",
   "metadata": {
    "execution": {
     "iopub.execute_input": "2022-10-27T07:06:36.813818Z",
     "iopub.status.busy": "2022-10-27T07:06:36.812862Z",
     "iopub.status.idle": "2022-10-27T07:06:36.819730Z",
     "shell.execute_reply": "2022-10-27T07:06:36.818638Z"
    },
    "papermill": {
     "duration": 0.052257,
     "end_time": "2022-10-27T07:06:36.821933",
     "exception": false,
     "start_time": "2022-10-27T07:06:36.769676",
     "status": "completed"
    },
    "tags": []
   },
   "outputs": [
    {
     "data": {
      "text/plain": [
       "array([ 4,  9, 14, 19, 24])"
      ]
     },
     "execution_count": 78,
     "metadata": {},
     "output_type": "execute_result"
    }
   ],
   "source": [
    "arr1[:, -1]"
   ]
  },
  {
   "cell_type": "code",
   "execution_count": 79,
   "id": "1cef9789",
   "metadata": {
    "execution": {
     "iopub.execute_input": "2022-10-27T07:06:36.910159Z",
     "iopub.status.busy": "2022-10-27T07:06:36.909457Z",
     "iopub.status.idle": "2022-10-27T07:06:36.915740Z",
     "shell.execute_reply": "2022-10-27T07:06:36.914826Z"
    },
    "papermill": {
     "duration": 0.052128,
     "end_time": "2022-10-27T07:06:36.917683",
     "exception": false,
     "start_time": "2022-10-27T07:06:36.865555",
     "status": "completed"
    },
    "tags": []
   },
   "outputs": [
    {
     "data": {
      "text/plain": [
       "array([[12, 13, 14],\n",
       "       [17, 18, 19],\n",
       "       [22, 23, 24]])"
      ]
     },
     "execution_count": 79,
     "metadata": {},
     "output_type": "execute_result"
    }
   ],
   "source": [
    "arr1[2:, 2:]"
   ]
  },
  {
   "cell_type": "code",
   "execution_count": 80,
   "id": "39aca883",
   "metadata": {
    "execution": {
     "iopub.execute_input": "2022-10-27T07:06:37.005096Z",
     "iopub.status.busy": "2022-10-27T07:06:37.004736Z",
     "iopub.status.idle": "2022-10-27T07:06:37.011058Z",
     "shell.execute_reply": "2022-10-27T07:06:37.009976Z"
    },
    "papermill": {
     "duration": 0.051941,
     "end_time": "2022-10-27T07:06:37.013048",
     "exception": false,
     "start_time": "2022-10-27T07:06:36.961107",
     "status": "completed"
    },
    "tags": []
   },
   "outputs": [
    {
     "data": {
      "text/plain": [
       "array([0, 1, 2, 3, 4])"
      ]
     },
     "execution_count": 80,
     "metadata": {},
     "output_type": "execute_result"
    }
   ],
   "source": [
    "arr1[0, :]"
   ]
  },
  {
   "cell_type": "code",
   "execution_count": 81,
   "id": "7f6440e7",
   "metadata": {
    "execution": {
     "iopub.execute_input": "2022-10-27T07:06:37.102166Z",
     "iopub.status.busy": "2022-10-27T07:06:37.101810Z",
     "iopub.status.idle": "2022-10-27T07:06:37.108226Z",
     "shell.execute_reply": "2022-10-27T07:06:37.107109Z"
    },
    "papermill": {
     "duration": 0.054665,
     "end_time": "2022-10-27T07:06:37.111185",
     "exception": false,
     "start_time": "2022-10-27T07:06:37.056520",
     "status": "completed"
    },
    "tags": []
   },
   "outputs": [
    {
     "data": {
      "text/plain": [
       "array([5, 6, 7, 8, 9])"
      ]
     },
     "execution_count": 81,
     "metadata": {},
     "output_type": "execute_result"
    }
   ],
   "source": [
    "arr1[1, :]"
   ]
  },
  {
   "cell_type": "code",
   "execution_count": 82,
   "id": "ccf7ea0b",
   "metadata": {
    "execution": {
     "iopub.execute_input": "2022-10-27T07:06:37.199340Z",
     "iopub.status.busy": "2022-10-27T07:06:37.198290Z",
     "iopub.status.idle": "2022-10-27T07:06:37.205299Z",
     "shell.execute_reply": "2022-10-27T07:06:37.204285Z"
    },
    "papermill": {
     "duration": 0.053074,
     "end_time": "2022-10-27T07:06:37.207291",
     "exception": false,
     "start_time": "2022-10-27T07:06:37.154217",
     "status": "completed"
    },
    "tags": []
   },
   "outputs": [
    {
     "data": {
      "text/plain": [
       "24"
      ]
     },
     "execution_count": 82,
     "metadata": {},
     "output_type": "execute_result"
    }
   ],
   "source": [
    "arr1[4, 4]"
   ]
  },
  {
   "cell_type": "code",
   "execution_count": 83,
   "id": "d23f559f",
   "metadata": {
    "execution": {
     "iopub.execute_input": "2022-10-27T07:06:37.295467Z",
     "iopub.status.busy": "2022-10-27T07:06:37.294503Z",
     "iopub.status.idle": "2022-10-27T07:06:37.301662Z",
     "shell.execute_reply": "2022-10-27T07:06:37.300696Z"
    },
    "papermill": {
     "duration": 0.052735,
     "end_time": "2022-10-27T07:06:37.303705",
     "exception": false,
     "start_time": "2022-10-27T07:06:37.250970",
     "status": "completed"
    },
    "tags": []
   },
   "outputs": [
    {
     "data": {
      "text/plain": [
       "24"
      ]
     },
     "execution_count": 83,
     "metadata": {},
     "output_type": "execute_result"
    }
   ],
   "source": [
    "arr1[-1,-1]"
   ]
  },
  {
   "cell_type": "code",
   "execution_count": 84,
   "id": "c9389b43",
   "metadata": {
    "execution": {
     "iopub.execute_input": "2022-10-27T07:06:37.391157Z",
     "iopub.status.busy": "2022-10-27T07:06:37.390758Z",
     "iopub.status.idle": "2022-10-27T07:06:37.397212Z",
     "shell.execute_reply": "2022-10-27T07:06:37.396327Z"
    },
    "papermill": {
     "duration": 0.052565,
     "end_time": "2022-10-27T07:06:37.399285",
     "exception": false,
     "start_time": "2022-10-27T07:06:37.346720",
     "status": "completed"
    },
    "tags": []
   },
   "outputs": [
    {
     "data": {
      "text/plain": [
       "array([[ 0,  1],\n",
       "       [ 5,  6],\n",
       "       [10, 11],\n",
       "       [15, 16],\n",
       "       [20, 21]])"
      ]
     },
     "execution_count": 84,
     "metadata": {},
     "output_type": "execute_result"
    }
   ],
   "source": [
    "arr1[:, :2]"
   ]
  },
  {
   "cell_type": "code",
   "execution_count": 85,
   "id": "2e8cedcd",
   "metadata": {
    "execution": {
     "iopub.execute_input": "2022-10-27T07:06:37.487603Z",
     "iopub.status.busy": "2022-10-27T07:06:37.486681Z",
     "iopub.status.idle": "2022-10-27T07:06:37.493121Z",
     "shell.execute_reply": "2022-10-27T07:06:37.492233Z"
    },
    "papermill": {
     "duration": 0.052901,
     "end_time": "2022-10-27T07:06:37.495048",
     "exception": false,
     "start_time": "2022-10-27T07:06:37.442147",
     "status": "completed"
    },
    "tags": []
   },
   "outputs": [
    {
     "data": {
      "text/plain": [
       "array([[ 5,  6],\n",
       "       [10, 11]])"
      ]
     },
     "execution_count": 85,
     "metadata": {},
     "output_type": "execute_result"
    }
   ],
   "source": [
    "arr1[1:3, 0:2]"
   ]
  },
  {
   "cell_type": "code",
   "execution_count": 86,
   "id": "6e268f31",
   "metadata": {
    "execution": {
     "iopub.execute_input": "2022-10-27T07:06:37.585238Z",
     "iopub.status.busy": "2022-10-27T07:06:37.584096Z",
     "iopub.status.idle": "2022-10-27T07:06:37.591520Z",
     "shell.execute_reply": "2022-10-27T07:06:37.590226Z"
    },
    "papermill": {
     "duration": 0.055045,
     "end_time": "2022-10-27T07:06:37.593492",
     "exception": false,
     "start_time": "2022-10-27T07:06:37.538447",
     "status": "completed"
    },
    "tags": []
   },
   "outputs": [
    {
     "name": "stdout",
     "output_type": "stream",
     "text": [
      "Before slice:\n",
      "[[ 0  1  2  3  4]\n",
      " [ 5  6  7  8  9]\n",
      " [10 11 12 13 14]]\n",
      "\n",
      "After slice:\n",
      "[[14 13 12 11 10]\n",
      " [ 9  8  7  6  5]\n",
      " [ 4  3  2  1  0]]\n"
     ]
    }
   ],
   "source": [
    "a = np.arange(15).reshape(3, 5)\n",
    "print(\"Before slice:\")\n",
    "print(a)\n",
    "\n",
    "print(\"\\nAfter slice:\")\n",
    "b = a[::-1, ::-1]\n",
    "print(b)"
   ]
  },
  {
   "cell_type": "markdown",
   "id": "f8053a01",
   "metadata": {
    "papermill": {
     "duration": 0.044603,
     "end_time": "2022-10-27T07:06:37.683108",
     "exception": false,
     "start_time": "2022-10-27T07:06:37.638505",
     "status": "completed"
    },
    "tags": []
   },
   "source": [
    "### <span style = \"background:#174D83; border:#ffffff; font-size:100%; color:#fff; border-radius:5px;\">15. Copy function</span>"
   ]
  },
  {
   "cell_type": "markdown",
   "id": "6cff9a48",
   "metadata": {
    "papermill": {
     "duration": 0.042986,
     "end_time": "2022-10-27T07:06:37.769431",
     "exception": false,
     "start_time": "2022-10-27T07:06:37.726445",
     "status": "completed"
    },
    "tags": []
   },
   "source": [
    "### <mark>copy() function is used so that operations performed on subsets do not affect the main set</mark>"
   ]
  },
  {
   "cell_type": "code",
   "execution_count": 87,
   "id": "0318f105",
   "metadata": {
    "execution": {
     "iopub.execute_input": "2022-10-27T07:06:37.862867Z",
     "iopub.status.busy": "2022-10-27T07:06:37.861958Z",
     "iopub.status.idle": "2022-10-27T07:06:37.869665Z",
     "shell.execute_reply": "2022-10-27T07:06:37.868632Z"
    },
    "papermill": {
     "duration": 0.058277,
     "end_time": "2022-10-27T07:06:37.871701",
     "exception": false,
     "start_time": "2022-10-27T07:06:37.813424",
     "status": "completed"
    },
    "tags": []
   },
   "outputs": [
    {
     "data": {
      "text/plain": [
       "array([[8, 5, 1, 3, 4],\n",
       "       [1, 3, 6, 1, 6],\n",
       "       [0, 2, 4, 3, 2],\n",
       "       [2, 7, 9, 0, 5],\n",
       "       [2, 3, 2, 4, 4]])"
      ]
     },
     "execution_count": 87,
     "metadata": {},
     "output_type": "execute_result"
    }
   ],
   "source": [
    "arr = np.random.randint(10, size = (5, 5))\n",
    "arr"
   ]
  },
  {
   "cell_type": "code",
   "execution_count": 88,
   "id": "a35c3fc8",
   "metadata": {
    "execution": {
     "iopub.execute_input": "2022-10-27T07:06:37.962508Z",
     "iopub.status.busy": "2022-10-27T07:06:37.962064Z",
     "iopub.status.idle": "2022-10-27T07:06:37.968523Z",
     "shell.execute_reply": "2022-10-27T07:06:37.967637Z"
    },
    "papermill": {
     "duration": 0.054232,
     "end_time": "2022-10-27T07:06:37.970663",
     "exception": false,
     "start_time": "2022-10-27T07:06:37.916431",
     "status": "completed"
    },
    "tags": []
   },
   "outputs": [
    {
     "data": {
      "text/plain": [
       "array([[8, 5, 1],\n",
       "       [1, 3, 6]])"
      ]
     },
     "execution_count": 88,
     "metadata": {},
     "output_type": "execute_result"
    }
   ],
   "source": [
    "subset = arr[0:2, 0:3]\n",
    "subset"
   ]
  },
  {
   "cell_type": "code",
   "execution_count": 89,
   "id": "01a48ff6",
   "metadata": {
    "execution": {
     "iopub.execute_input": "2022-10-27T07:06:38.062166Z",
     "iopub.status.busy": "2022-10-27T07:06:38.061814Z",
     "iopub.status.idle": "2022-10-27T07:06:38.068325Z",
     "shell.execute_reply": "2022-10-27T07:06:38.067429Z"
    },
    "papermill": {
     "duration": 0.055104,
     "end_time": "2022-10-27T07:06:38.070277",
     "exception": false,
     "start_time": "2022-10-27T07:06:38.015173",
     "status": "completed"
    },
    "tags": []
   },
   "outputs": [
    {
     "data": {
      "text/plain": [
       "array([[  8,   5,   1],\n",
       "       [  1, 333, 444]])"
      ]
     },
     "execution_count": 89,
     "metadata": {},
     "output_type": "execute_result"
    }
   ],
   "source": [
    "subset[1, 1] = 333\n",
    "subset[1, 2] = 444\n",
    "subset"
   ]
  },
  {
   "cell_type": "code",
   "execution_count": 90,
   "id": "af3c1af1",
   "metadata": {
    "execution": {
     "iopub.execute_input": "2022-10-27T07:06:38.160746Z",
     "iopub.status.busy": "2022-10-27T07:06:38.160371Z",
     "iopub.status.idle": "2022-10-27T07:06:38.166471Z",
     "shell.execute_reply": "2022-10-27T07:06:38.165596Z"
    },
    "papermill": {
     "duration": 0.05342,
     "end_time": "2022-10-27T07:06:38.168483",
     "exception": false,
     "start_time": "2022-10-27T07:06:38.115063",
     "status": "completed"
    },
    "tags": []
   },
   "outputs": [
    {
     "data": {
      "text/plain": [
       "array([[  8,   5,   1,   3,   4],\n",
       "       [  1, 333, 444,   1,   6],\n",
       "       [  0,   2,   4,   3,   2],\n",
       "       [  2,   7,   9,   0,   5],\n",
       "       [  2,   3,   2,   4,   4]])"
      ]
     },
     "execution_count": 90,
     "metadata": {},
     "output_type": "execute_result"
    }
   ],
   "source": [
    "arr"
   ]
  },
  {
   "cell_type": "code",
   "execution_count": 91,
   "id": "a90a65a6",
   "metadata": {
    "execution": {
     "iopub.execute_input": "2022-10-27T07:06:38.261298Z",
     "iopub.status.busy": "2022-10-27T07:06:38.260151Z",
     "iopub.status.idle": "2022-10-27T07:06:38.267389Z",
     "shell.execute_reply": "2022-10-27T07:06:38.266462Z"
    },
    "papermill": {
     "duration": 0.055716,
     "end_time": "2022-10-27T07:06:38.269413",
     "exception": false,
     "start_time": "2022-10-27T07:06:38.213697",
     "status": "completed"
    },
    "tags": []
   },
   "outputs": [
    {
     "data": {
      "text/plain": [
       "array([[ 7,  3,  7, 13, 10],\n",
       "       [11,  4, 10, 13,  9],\n",
       "       [ 2,  4,  1,  8, 13]])"
      ]
     },
     "execution_count": 91,
     "metadata": {},
     "output_type": "execute_result"
    }
   ],
   "source": [
    "arr1 = np.random.randint(1, 15, (3, 5))\n",
    "arr1"
   ]
  },
  {
   "cell_type": "code",
   "execution_count": 92,
   "id": "79222c54",
   "metadata": {
    "execution": {
     "iopub.execute_input": "2022-10-27T07:06:38.360383Z",
     "iopub.status.busy": "2022-10-27T07:06:38.359968Z",
     "iopub.status.idle": "2022-10-27T07:06:38.366374Z",
     "shell.execute_reply": "2022-10-27T07:06:38.365461Z"
    },
    "papermill": {
     "duration": 0.054601,
     "end_time": "2022-10-27T07:06:38.368472",
     "exception": false,
     "start_time": "2022-10-27T07:06:38.313871",
     "status": "completed"
    },
    "tags": []
   },
   "outputs": [
    {
     "data": {
      "text/plain": [
       "array([ 7, 10,  1])"
      ]
     },
     "execution_count": 92,
     "metadata": {},
     "output_type": "execute_result"
    }
   ],
   "source": [
    "arr2 = arr1.copy()\n",
    "subset_b = arr2[:, 2]\n",
    "subset_b"
   ]
  },
  {
   "cell_type": "code",
   "execution_count": 93,
   "id": "ee10f901",
   "metadata": {
    "execution": {
     "iopub.execute_input": "2022-10-27T07:06:38.459565Z",
     "iopub.status.busy": "2022-10-27T07:06:38.458517Z",
     "iopub.status.idle": "2022-10-27T07:06:38.465516Z",
     "shell.execute_reply": "2022-10-27T07:06:38.464600Z"
    },
    "papermill": {
     "duration": 0.054417,
     "end_time": "2022-10-27T07:06:38.467550",
     "exception": false,
     "start_time": "2022-10-27T07:06:38.413133",
     "status": "completed"
    },
    "tags": []
   },
   "outputs": [
    {
     "data": {
      "text/plain": [
       "array([  7, 777,   1])"
      ]
     },
     "execution_count": 93,
     "metadata": {},
     "output_type": "execute_result"
    }
   ],
   "source": [
    "subset_b[1] = 777\n",
    "subset_b"
   ]
  },
  {
   "cell_type": "code",
   "execution_count": 94,
   "id": "a57f8626",
   "metadata": {
    "execution": {
     "iopub.execute_input": "2022-10-27T07:06:38.559870Z",
     "iopub.status.busy": "2022-10-27T07:06:38.558802Z",
     "iopub.status.idle": "2022-10-27T07:06:38.566361Z",
     "shell.execute_reply": "2022-10-27T07:06:38.565387Z"
    },
    "papermill": {
     "duration": 0.055603,
     "end_time": "2022-10-27T07:06:38.568370",
     "exception": false,
     "start_time": "2022-10-27T07:06:38.512767",
     "status": "completed"
    },
    "tags": []
   },
   "outputs": [
    {
     "data": {
      "text/plain": [
       "array([[  7,   3,   7,  13,  10],\n",
       "       [ 11,   4, 777,  13,   9],\n",
       "       [  2,   4,   1,   8,  13]])"
      ]
     },
     "execution_count": 94,
     "metadata": {},
     "output_type": "execute_result"
    }
   ],
   "source": [
    "arr2"
   ]
  },
  {
   "cell_type": "code",
   "execution_count": 95,
   "id": "539901cf",
   "metadata": {
    "execution": {
     "iopub.execute_input": "2022-10-27T07:06:38.661028Z",
     "iopub.status.busy": "2022-10-27T07:06:38.660353Z",
     "iopub.status.idle": "2022-10-27T07:06:38.666814Z",
     "shell.execute_reply": "2022-10-27T07:06:38.665793Z"
    },
    "papermill": {
     "duration": 0.056191,
     "end_time": "2022-10-27T07:06:38.669044",
     "exception": false,
     "start_time": "2022-10-27T07:06:38.612853",
     "status": "completed"
    },
    "tags": []
   },
   "outputs": [
    {
     "data": {
      "text/plain": [
       "array([[ 7,  3,  7, 13, 10],\n",
       "       [11,  4, 10, 13,  9],\n",
       "       [ 2,  4,  1,  8, 13]])"
      ]
     },
     "execution_count": 95,
     "metadata": {},
     "output_type": "execute_result"
    }
   ],
   "source": [
    "arr1"
   ]
  },
  {
   "cell_type": "markdown",
   "id": "c576def0",
   "metadata": {
    "papermill": {
     "duration": 0.091221,
     "end_time": "2022-10-27T07:06:38.804878",
     "exception": false,
     "start_time": "2022-10-27T07:06:38.713657",
     "status": "completed"
    },
    "tags": []
   },
   "source": [
    "### <span style = \"background:#174D83; border:#ffffff; font-size:100%; color:#fff; border-radius:5px;\">16. Fancy index</span>"
   ]
  },
  {
   "cell_type": "code",
   "execution_count": 96,
   "id": "32a45242",
   "metadata": {
    "execution": {
     "iopub.execute_input": "2022-10-27T07:06:38.971375Z",
     "iopub.status.busy": "2022-10-27T07:06:38.970799Z",
     "iopub.status.idle": "2022-10-27T07:06:38.978929Z",
     "shell.execute_reply": "2022-10-27T07:06:38.977636Z"
    },
    "papermill": {
     "duration": 0.102336,
     "end_time": "2022-10-27T07:06:38.984093",
     "exception": false,
     "start_time": "2022-10-27T07:06:38.881757",
     "status": "completed"
    },
    "tags": []
   },
   "outputs": [
    {
     "data": {
      "text/plain": [
       "array([ 0,  3,  6,  9, 12, 15, 18, 21, 24, 27])"
      ]
     },
     "execution_count": 96,
     "metadata": {},
     "output_type": "execute_result"
    }
   ],
   "source": [
    "arr = np.arange(0, 30, 3)\n",
    "arr"
   ]
  },
  {
   "cell_type": "code",
   "execution_count": 97,
   "id": "8cfd4abb",
   "metadata": {
    "execution": {
     "iopub.execute_input": "2022-10-27T07:06:39.125711Z",
     "iopub.status.busy": "2022-10-27T07:06:39.125253Z",
     "iopub.status.idle": "2022-10-27T07:06:39.132393Z",
     "shell.execute_reply": "2022-10-27T07:06:39.131510Z"
    },
    "papermill": {
     "duration": 0.081665,
     "end_time": "2022-10-27T07:06:39.135421",
     "exception": false,
     "start_time": "2022-10-27T07:06:39.053756",
     "status": "completed"
    },
    "tags": []
   },
   "outputs": [
    {
     "data": {
      "text/plain": [
       "array([ 3,  9, 15])"
      ]
     },
     "execution_count": 97,
     "metadata": {},
     "output_type": "execute_result"
    }
   ],
   "source": [
    "fancy_index = [1, 3, 5]\n",
    "arr[fancy_index]"
   ]
  },
  {
   "cell_type": "markdown",
   "id": "f18c5770",
   "metadata": {
    "papermill": {
     "duration": 0.06783,
     "end_time": "2022-10-27T07:06:39.272326",
     "exception": false,
     "start_time": "2022-10-27T07:06:39.204496",
     "status": "completed"
    },
    "tags": []
   },
   "source": [
    "### <mark>Fancy indexing on two dimensional arrays</mark>"
   ]
  },
  {
   "cell_type": "code",
   "execution_count": 98,
   "id": "f3e832d8",
   "metadata": {
    "execution": {
     "iopub.execute_input": "2022-10-27T07:06:39.409760Z",
     "iopub.status.busy": "2022-10-27T07:06:39.409294Z",
     "iopub.status.idle": "2022-10-27T07:06:39.417477Z",
     "shell.execute_reply": "2022-10-27T07:06:39.416647Z"
    },
    "papermill": {
     "duration": 0.082067,
     "end_time": "2022-10-27T07:06:39.422375",
     "exception": false,
     "start_time": "2022-10-27T07:06:39.340308",
     "status": "completed"
    },
    "tags": []
   },
   "outputs": [
    {
     "data": {
      "text/plain": [
       "array([1, 5])"
      ]
     },
     "execution_count": 98,
     "metadata": {},
     "output_type": "execute_result"
    }
   ],
   "source": [
    "arr = np.arange(9)\n",
    "arr = arr.reshape(3, 3)\n",
    "row = np.array([0, 1])\n",
    "column = np.array([1, 2])\n",
    "arr[row, column]"
   ]
  },
  {
   "cell_type": "code",
   "execution_count": 99,
   "id": "653e41a9",
   "metadata": {
    "execution": {
     "iopub.execute_input": "2022-10-27T07:06:39.535015Z",
     "iopub.status.busy": "2022-10-27T07:06:39.534657Z",
     "iopub.status.idle": "2022-10-27T07:06:39.540870Z",
     "shell.execute_reply": "2022-10-27T07:06:39.539863Z"
    },
    "papermill": {
     "duration": 0.055238,
     "end_time": "2022-10-27T07:06:39.543041",
     "exception": false,
     "start_time": "2022-10-27T07:06:39.487803",
     "status": "completed"
    },
    "tags": []
   },
   "outputs": [
    {
     "data": {
      "text/plain": [
       "array([[0, 1, 2],\n",
       "       [3, 4, 5],\n",
       "       [6, 7, 8]])"
      ]
     },
     "execution_count": 99,
     "metadata": {},
     "output_type": "execute_result"
    }
   ],
   "source": [
    "arr"
   ]
  },
  {
   "cell_type": "code",
   "execution_count": 100,
   "id": "05307c28",
   "metadata": {
    "execution": {
     "iopub.execute_input": "2022-10-27T07:06:39.634370Z",
     "iopub.status.busy": "2022-10-27T07:06:39.633302Z",
     "iopub.status.idle": "2022-10-27T07:06:39.640519Z",
     "shell.execute_reply": "2022-10-27T07:06:39.639417Z"
    },
    "papermill": {
     "duration": 0.054821,
     "end_time": "2022-10-27T07:06:39.642496",
     "exception": false,
     "start_time": "2022-10-27T07:06:39.587675",
     "status": "completed"
    },
    "tags": []
   },
   "outputs": [
    {
     "data": {
      "text/plain": [
       "array([1, 2])"
      ]
     },
     "execution_count": 100,
     "metadata": {},
     "output_type": "execute_result"
    }
   ],
   "source": [
    "arr[0, [1, 2]]"
   ]
  },
  {
   "cell_type": "code",
   "execution_count": 101,
   "id": "8c6cdf12",
   "metadata": {
    "execution": {
     "iopub.execute_input": "2022-10-27T07:06:39.736412Z",
     "iopub.status.busy": "2022-10-27T07:06:39.735456Z",
     "iopub.status.idle": "2022-10-27T07:06:39.742482Z",
     "shell.execute_reply": "2022-10-27T07:06:39.741525Z"
    },
    "papermill": {
     "duration": 0.055519,
     "end_time": "2022-10-27T07:06:39.744480",
     "exception": false,
     "start_time": "2022-10-27T07:06:39.688961",
     "status": "completed"
    },
    "tags": []
   },
   "outputs": [
    {
     "data": {
      "text/plain": [
       "array([[1, 2],\n",
       "       [4, 5],\n",
       "       [7, 8]])"
      ]
     },
     "execution_count": 101,
     "metadata": {},
     "output_type": "execute_result"
    }
   ],
   "source": [
    "#slice\n",
    "\n",
    "arr[0:, [1,2]]"
   ]
  },
  {
   "cell_type": "code",
   "execution_count": 102,
   "id": "818e3aac",
   "metadata": {
    "execution": {
     "iopub.execute_input": "2022-10-27T07:06:39.837317Z",
     "iopub.status.busy": "2022-10-27T07:06:39.836961Z",
     "iopub.status.idle": "2022-10-27T07:06:39.843412Z",
     "shell.execute_reply": "2022-10-27T07:06:39.842481Z"
    },
    "papermill": {
     "duration": 0.055854,
     "end_time": "2022-10-27T07:06:39.845548",
     "exception": false,
     "start_time": "2022-10-27T07:06:39.789694",
     "status": "completed"
    },
    "tags": []
   },
   "outputs": [
    {
     "data": {
      "text/plain": [
       "array([3, 4])"
      ]
     },
     "execution_count": 102,
     "metadata": {},
     "output_type": "execute_result"
    }
   ],
   "source": [
    "arr[1, [0,1]]"
   ]
  },
  {
   "cell_type": "markdown",
   "id": "47d63e49",
   "metadata": {
    "papermill": {
     "duration": 0.044979,
     "end_time": "2022-10-27T07:06:39.937081",
     "exception": false,
     "start_time": "2022-10-27T07:06:39.892102",
     "status": "completed"
    },
    "tags": []
   },
   "source": [
    "### <span style = \"background:#174D83; border:#ffffff; font-size:100%; color:#fff; border-radius:5px;\">17. Conditional element operations</span>"
   ]
  },
  {
   "cell_type": "code",
   "execution_count": 103,
   "id": "463c3819",
   "metadata": {
    "execution": {
     "iopub.execute_input": "2022-10-27T07:06:40.029318Z",
     "iopub.status.busy": "2022-10-27T07:06:40.028932Z",
     "iopub.status.idle": "2022-10-27T07:06:40.035608Z",
     "shell.execute_reply": "2022-10-27T07:06:40.034726Z"
    },
    "papermill": {
     "duration": 0.054989,
     "end_time": "2022-10-27T07:06:40.037549",
     "exception": false,
     "start_time": "2022-10-27T07:06:39.982560",
     "status": "completed"
    },
    "tags": []
   },
   "outputs": [
    {
     "data": {
      "text/plain": [
       "array([False, False, False,  True,  True])"
      ]
     },
     "execution_count": 103,
     "metadata": {},
     "output_type": "execute_result"
    }
   ],
   "source": [
    "arr = np.array([1, 2, 3, 4, 5])\n",
    "arr > 3"
   ]
  },
  {
   "cell_type": "code",
   "execution_count": 104,
   "id": "3ccc252b",
   "metadata": {
    "execution": {
     "iopub.execute_input": "2022-10-27T07:06:40.132802Z",
     "iopub.status.busy": "2022-10-27T07:06:40.131871Z",
     "iopub.status.idle": "2022-10-27T07:06:40.138568Z",
     "shell.execute_reply": "2022-10-27T07:06:40.137642Z"
    },
    "papermill": {
     "duration": 0.056316,
     "end_time": "2022-10-27T07:06:40.140803",
     "exception": false,
     "start_time": "2022-10-27T07:06:40.084487",
     "status": "completed"
    },
    "tags": []
   },
   "outputs": [
    {
     "data": {
      "text/plain": [
       "array([4, 5])"
      ]
     },
     "execution_count": 104,
     "metadata": {},
     "output_type": "execute_result"
    }
   ],
   "source": [
    "arr[arr > 3]"
   ]
  },
  {
   "cell_type": "code",
   "execution_count": 105,
   "id": "9bd1701f",
   "metadata": {
    "execution": {
     "iopub.execute_input": "2022-10-27T07:06:40.233723Z",
     "iopub.status.busy": "2022-10-27T07:06:40.232743Z",
     "iopub.status.idle": "2022-10-27T07:06:40.239713Z",
     "shell.execute_reply": "2022-10-27T07:06:40.238629Z"
    },
    "papermill": {
     "duration": 0.055466,
     "end_time": "2022-10-27T07:06:40.241810",
     "exception": false,
     "start_time": "2022-10-27T07:06:40.186344",
     "status": "completed"
    },
    "tags": []
   },
   "outputs": [
    {
     "data": {
      "text/plain": [
       "array([1, 2, 3, 4])"
      ]
     },
     "execution_count": 105,
     "metadata": {},
     "output_type": "execute_result"
    }
   ],
   "source": [
    "arr[arr < 5]"
   ]
  },
  {
   "cell_type": "code",
   "execution_count": 106,
   "id": "39495750",
   "metadata": {
    "execution": {
     "iopub.execute_input": "2022-10-27T07:06:40.334513Z",
     "iopub.status.busy": "2022-10-27T07:06:40.333568Z",
     "iopub.status.idle": "2022-10-27T07:06:40.340620Z",
     "shell.execute_reply": "2022-10-27T07:06:40.339511Z"
    },
    "papermill": {
     "duration": 0.055797,
     "end_time": "2022-10-27T07:06:40.342592",
     "exception": false,
     "start_time": "2022-10-27T07:06:40.286795",
     "status": "completed"
    },
    "tags": []
   },
   "outputs": [
    {
     "data": {
      "text/plain": [
       "array([2, 3, 4, 5])"
      ]
     },
     "execution_count": 106,
     "metadata": {},
     "output_type": "execute_result"
    }
   ],
   "source": [
    "arr[arr >= 2]"
   ]
  },
  {
   "cell_type": "code",
   "execution_count": 107,
   "id": "71be2e70",
   "metadata": {
    "execution": {
     "iopub.execute_input": "2022-10-27T07:06:40.435215Z",
     "iopub.status.busy": "2022-10-27T07:06:40.434864Z",
     "iopub.status.idle": "2022-10-27T07:06:40.441489Z",
     "shell.execute_reply": "2022-10-27T07:06:40.440598Z"
    },
    "papermill": {
     "duration": 0.055356,
     "end_time": "2022-10-27T07:06:40.443496",
     "exception": false,
     "start_time": "2022-10-27T07:06:40.388140",
     "status": "completed"
    },
    "tags": []
   },
   "outputs": [
    {
     "data": {
      "text/plain": [
       "array([1, 2, 3, 5])"
      ]
     },
     "execution_count": 107,
     "metadata": {},
     "output_type": "execute_result"
    }
   ],
   "source": [
    "arr[arr != 4]"
   ]
  },
  {
   "cell_type": "code",
   "execution_count": 108,
   "id": "b9ad1346",
   "metadata": {
    "execution": {
     "iopub.execute_input": "2022-10-27T07:06:40.537467Z",
     "iopub.status.busy": "2022-10-27T07:06:40.536809Z",
     "iopub.status.idle": "2022-10-27T07:06:40.543368Z",
     "shell.execute_reply": "2022-10-27T07:06:40.542475Z"
    },
    "papermill": {
     "duration": 0.05585,
     "end_time": "2022-10-27T07:06:40.545343",
     "exception": false,
     "start_time": "2022-10-27T07:06:40.489493",
     "status": "completed"
    },
    "tags": []
   },
   "outputs": [
    {
     "data": {
      "text/plain": [
       "array([3])"
      ]
     },
     "execution_count": 108,
     "metadata": {},
     "output_type": "execute_result"
    }
   ],
   "source": [
    "arr[arr == 3]"
   ]
  },
  {
   "cell_type": "markdown",
   "id": "43f1ce74",
   "metadata": {
    "papermill": {
     "duration": 0.045552,
     "end_time": "2022-10-27T07:06:40.637065",
     "exception": false,
     "start_time": "2022-10-27T07:06:40.591513",
     "status": "completed"
    },
    "tags": []
   },
   "source": [
    "### <span style = \"background:#174D83; border:#ffffff; font-size:100%; color:#fff; border-radius:5px;\">18. Mathematical operations on arrays</span>"
   ]
  },
  {
   "cell_type": "code",
   "execution_count": 109,
   "id": "e15c3064",
   "metadata": {
    "execution": {
     "iopub.execute_input": "2022-10-27T07:06:40.732769Z",
     "iopub.status.busy": "2022-10-27T07:06:40.731719Z",
     "iopub.status.idle": "2022-10-27T07:06:40.738627Z",
     "shell.execute_reply": "2022-10-27T07:06:40.737634Z"
    },
    "papermill": {
     "duration": 0.056186,
     "end_time": "2022-10-27T07:06:40.740860",
     "exception": false,
     "start_time": "2022-10-27T07:06:40.684674",
     "status": "completed"
    },
    "tags": []
   },
   "outputs": [
    {
     "data": {
      "text/plain": [
       "array([0, 1, 2, 3, 4, 5, 6, 7, 8, 9])"
      ]
     },
     "execution_count": 109,
     "metadata": {},
     "output_type": "execute_result"
    }
   ],
   "source": [
    "arr = np.arange(10)\n",
    "arr"
   ]
  },
  {
   "cell_type": "code",
   "execution_count": 110,
   "id": "30da2ca7",
   "metadata": {
    "execution": {
     "iopub.execute_input": "2022-10-27T07:06:40.835139Z",
     "iopub.status.busy": "2022-10-27T07:06:40.834776Z",
     "iopub.status.idle": "2022-10-27T07:06:40.841179Z",
     "shell.execute_reply": "2022-10-27T07:06:40.840294Z"
    },
    "papermill": {
     "duration": 0.055187,
     "end_time": "2022-10-27T07:06:40.843081",
     "exception": false,
     "start_time": "2022-10-27T07:06:40.787894",
     "status": "completed"
    },
    "tags": []
   },
   "outputs": [
    {
     "data": {
      "text/plain": [
       "array([ 5,  7,  9, 11, 13, 15, 17, 19, 21, 23])"
      ]
     },
     "execution_count": 110,
     "metadata": {},
     "output_type": "execute_result"
    }
   ],
   "source": [
    "(arr*2)+5"
   ]
  },
  {
   "cell_type": "code",
   "execution_count": 111,
   "id": "4df02842",
   "metadata": {
    "execution": {
     "iopub.execute_input": "2022-10-27T07:06:40.938705Z",
     "iopub.status.busy": "2022-10-27T07:06:40.938313Z",
     "iopub.status.idle": "2022-10-27T07:06:40.945107Z",
     "shell.execute_reply": "2022-10-27T07:06:40.944211Z"
    },
    "papermill": {
     "duration": 0.057116,
     "end_time": "2022-10-27T07:06:40.947011",
     "exception": false,
     "start_time": "2022-10-27T07:06:40.889895",
     "status": "completed"
    },
    "tags": []
   },
   "outputs": [
    {
     "data": {
      "text/plain": [
       "array([2.23606798, 2.64575131, 3.        , 3.31662479, 3.60555128,\n",
       "       3.87298335, 4.12310563, 4.35889894, 4.58257569, 4.79583152])"
      ]
     },
     "execution_count": 111,
     "metadata": {},
     "output_type": "execute_result"
    }
   ],
   "source": [
    "np.sqrt(((arr*2)+5))"
   ]
  },
  {
   "cell_type": "code",
   "execution_count": 112,
   "id": "36107006",
   "metadata": {
    "execution": {
     "iopub.execute_input": "2022-10-27T07:06:41.042090Z",
     "iopub.status.busy": "2022-10-27T07:06:41.041073Z",
     "iopub.status.idle": "2022-10-27T07:06:41.048184Z",
     "shell.execute_reply": "2022-10-27T07:06:41.047196Z"
    },
    "papermill": {
     "duration": 0.056741,
     "end_time": "2022-10-27T07:06:41.050275",
     "exception": false,
     "start_time": "2022-10-27T07:06:40.993534",
     "status": "completed"
    },
    "tags": []
   },
   "outputs": [
    {
     "data": {
      "text/plain": [
       "array([0.59049   , 0.4782969 , 0.38742049, 0.3138106 , 0.25418658,\n",
       "       0.20589113, 0.16677182, 0.13508517, 0.10941899, 0.08862938])"
      ]
     },
     "execution_count": 112,
     "metadata": {},
     "output_type": "execute_result"
    }
   ],
   "source": [
    "0.9**((arr*2)+5)"
   ]
  },
  {
   "cell_type": "code",
   "execution_count": 113,
   "id": "14350dfd",
   "metadata": {
    "execution": {
     "iopub.execute_input": "2022-10-27T07:06:41.146105Z",
     "iopub.status.busy": "2022-10-27T07:06:41.145345Z",
     "iopub.status.idle": "2022-10-27T07:06:41.151760Z",
     "shell.execute_reply": "2022-10-27T07:06:41.150836Z"
    },
    "papermill": {
     "duration": 0.05635,
     "end_time": "2022-10-27T07:06:41.153812",
     "exception": false,
     "start_time": "2022-10-27T07:06:41.097462",
     "status": "completed"
    },
    "tags": []
   },
   "outputs": [
    {
     "data": {
      "text/plain": [
       "array([1, 2, 3, 4, 5])"
      ]
     },
     "execution_count": 113,
     "metadata": {},
     "output_type": "execute_result"
    }
   ],
   "source": [
    "arr = np.array([1, 2, 3, 4, 5])\n",
    "arr"
   ]
  },
  {
   "cell_type": "code",
   "execution_count": 114,
   "id": "f54b8a95",
   "metadata": {
    "execution": {
     "iopub.execute_input": "2022-10-27T07:06:41.248125Z",
     "iopub.status.busy": "2022-10-27T07:06:41.247767Z",
     "iopub.status.idle": "2022-10-27T07:06:41.253610Z",
     "shell.execute_reply": "2022-10-27T07:06:41.252659Z"
    },
    "papermill": {
     "duration": 0.055807,
     "end_time": "2022-10-27T07:06:41.255850",
     "exception": false,
     "start_time": "2022-10-27T07:06:41.200043",
     "status": "completed"
    },
    "tags": []
   },
   "outputs": [
    {
     "name": "stdout",
     "output_type": "stream",
     "text": [
      "[0 1 2 3 4]\n",
      "[ 5 10 15 20 25]\n",
      "[0.33333333 0.66666667 1.         1.33333333 1.66666667]\n"
     ]
    }
   ],
   "source": [
    "for i in (arr - 1, arr*5, arr/3):\n",
    "    print(i)"
   ]
  },
  {
   "cell_type": "code",
   "execution_count": 115,
   "id": "83b6a113",
   "metadata": {
    "execution": {
     "iopub.execute_input": "2022-10-27T07:06:41.351303Z",
     "iopub.status.busy": "2022-10-27T07:06:41.350949Z",
     "iopub.status.idle": "2022-10-27T07:06:41.357555Z",
     "shell.execute_reply": "2022-10-27T07:06:41.356642Z"
    },
    "papermill": {
     "duration": 0.056619,
     "end_time": "2022-10-27T07:06:41.359834",
     "exception": false,
     "start_time": "2022-10-27T07:06:41.303215",
     "status": "completed"
    },
    "tags": []
   },
   "outputs": [
    {
     "data": {
      "text/plain": [
       "array([-0.5,  0. ,  0.5,  1. ,  1.5])"
      ]
     },
     "execution_count": 115,
     "metadata": {},
     "output_type": "execute_result"
    }
   ],
   "source": [
    "arr*5/10-1"
   ]
  },
  {
   "cell_type": "code",
   "execution_count": 116,
   "id": "03d07fa6",
   "metadata": {
    "execution": {
     "iopub.execute_input": "2022-10-27T07:06:41.456737Z",
     "iopub.status.busy": "2022-10-27T07:06:41.455041Z",
     "iopub.status.idle": "2022-10-27T07:06:41.462422Z",
     "shell.execute_reply": "2022-10-27T07:06:41.461414Z"
    },
    "papermill": {
     "duration": 0.057024,
     "end_time": "2022-10-27T07:06:41.464507",
     "exception": false,
     "start_time": "2022-10-27T07:06:41.407483",
     "status": "completed"
    },
    "tags": []
   },
   "outputs": [
    {
     "data": {
      "text/plain": [
       "array([-1,  0,  1,  2,  3])"
      ]
     },
     "execution_count": 116,
     "metadata": {},
     "output_type": "execute_result"
    }
   ],
   "source": [
    "np.subtract(arr, 2)"
   ]
  },
  {
   "cell_type": "code",
   "execution_count": 117,
   "id": "b45f8136",
   "metadata": {
    "execution": {
     "iopub.execute_input": "2022-10-27T07:06:41.558705Z",
     "iopub.status.busy": "2022-10-27T07:06:41.557728Z",
     "iopub.status.idle": "2022-10-27T07:06:41.564871Z",
     "shell.execute_reply": "2022-10-27T07:06:41.563927Z"
    },
    "papermill": {
     "duration": 0.056526,
     "end_time": "2022-10-27T07:06:41.566879",
     "exception": false,
     "start_time": "2022-10-27T07:06:41.510353",
     "status": "completed"
    },
    "tags": []
   },
   "outputs": [
    {
     "data": {
      "text/plain": [
       "array([4, 5, 6, 7, 8])"
      ]
     },
     "execution_count": 117,
     "metadata": {},
     "output_type": "execute_result"
    }
   ],
   "source": [
    "np.add(arr, 3)"
   ]
  },
  {
   "cell_type": "code",
   "execution_count": 118,
   "id": "ed92ce98",
   "metadata": {
    "execution": {
     "iopub.execute_input": "2022-10-27T07:06:41.661389Z",
     "iopub.status.busy": "2022-10-27T07:06:41.660413Z",
     "iopub.status.idle": "2022-10-27T07:06:41.667502Z",
     "shell.execute_reply": "2022-10-27T07:06:41.666508Z"
    },
    "papermill": {
     "duration": 0.056604,
     "end_time": "2022-10-27T07:06:41.669515",
     "exception": false,
     "start_time": "2022-10-27T07:06:41.612911",
     "status": "completed"
    },
    "tags": []
   },
   "outputs": [
    {
     "data": {
      "text/plain": [
       "array([0.25, 0.5 , 0.75, 1.  , 1.25])"
      ]
     },
     "execution_count": 118,
     "metadata": {},
     "output_type": "execute_result"
    }
   ],
   "source": [
    "np.divide(arr, 4)"
   ]
  },
  {
   "cell_type": "code",
   "execution_count": 119,
   "id": "8eea6773",
   "metadata": {
    "execution": {
     "iopub.execute_input": "2022-10-27T07:06:41.771725Z",
     "iopub.status.busy": "2022-10-27T07:06:41.771334Z",
     "iopub.status.idle": "2022-10-27T07:06:41.777467Z",
     "shell.execute_reply": "2022-10-27T07:06:41.776612Z"
    },
    "papermill": {
     "duration": 0.061264,
     "end_time": "2022-10-27T07:06:41.779493",
     "exception": false,
     "start_time": "2022-10-27T07:06:41.718229",
     "status": "completed"
    },
    "tags": []
   },
   "outputs": [
    {
     "data": {
      "text/plain": [
       "array([ 5, 10, 15, 20, 25])"
      ]
     },
     "execution_count": 119,
     "metadata": {},
     "output_type": "execute_result"
    }
   ],
   "source": [
    "np.multiply(arr, 5)"
   ]
  },
  {
   "cell_type": "code",
   "execution_count": 120,
   "id": "45d0dbfd",
   "metadata": {
    "execution": {
     "iopub.execute_input": "2022-10-27T07:06:41.874435Z",
     "iopub.status.busy": "2022-10-27T07:06:41.874081Z",
     "iopub.status.idle": "2022-10-27T07:06:41.880221Z",
     "shell.execute_reply": "2022-10-27T07:06:41.879181Z"
    },
    "papermill": {
     "duration": 0.056178,
     "end_time": "2022-10-27T07:06:41.882411",
     "exception": false,
     "start_time": "2022-10-27T07:06:41.826233",
     "status": "completed"
    },
    "tags": []
   },
   "outputs": [
    {
     "data": {
      "text/plain": [
       "array([ 1,  4,  9, 16, 25])"
      ]
     },
     "execution_count": 120,
     "metadata": {},
     "output_type": "execute_result"
    }
   ],
   "source": [
    "np.power(arr, 2)"
   ]
  },
  {
   "cell_type": "code",
   "execution_count": 121,
   "id": "eb7b6648",
   "metadata": {
    "execution": {
     "iopub.execute_input": "2022-10-27T07:06:41.977717Z",
     "iopub.status.busy": "2022-10-27T07:06:41.977331Z",
     "iopub.status.idle": "2022-10-27T07:06:41.983621Z",
     "shell.execute_reply": "2022-10-27T07:06:41.982732Z"
    },
    "papermill": {
     "duration": 0.055852,
     "end_time": "2022-10-27T07:06:41.985505",
     "exception": false,
     "start_time": "2022-10-27T07:06:41.929653",
     "status": "completed"
    },
    "tags": []
   },
   "outputs": [
    {
     "data": {
      "text/plain": [
       "array([1, 0, 1, 0, 1])"
      ]
     },
     "execution_count": 121,
     "metadata": {},
     "output_type": "execute_result"
    }
   ],
   "source": [
    "np.mod(arr, 2)"
   ]
  },
  {
   "cell_type": "code",
   "execution_count": 122,
   "id": "e053efe8",
   "metadata": {
    "execution": {
     "iopub.execute_input": "2022-10-27T07:06:42.081801Z",
     "iopub.status.busy": "2022-10-27T07:06:42.081105Z",
     "iopub.status.idle": "2022-10-27T07:06:42.087419Z",
     "shell.execute_reply": "2022-10-27T07:06:42.086451Z"
    },
    "papermill": {
     "duration": 0.056178,
     "end_time": "2022-10-27T07:06:42.089516",
     "exception": false,
     "start_time": "2022-10-27T07:06:42.033338",
     "status": "completed"
    },
    "tags": []
   },
   "outputs": [
    {
     "data": {
      "text/plain": [
       "array([1, 2, 3, 4, 5])"
      ]
     },
     "execution_count": 122,
     "metadata": {},
     "output_type": "execute_result"
    }
   ],
   "source": [
    "np.absolute(arr)"
   ]
  },
  {
   "cell_type": "code",
   "execution_count": 123,
   "id": "0ac0c496",
   "metadata": {
    "execution": {
     "iopub.execute_input": "2022-10-27T07:06:42.185262Z",
     "iopub.status.busy": "2022-10-27T07:06:42.184910Z",
     "iopub.status.idle": "2022-10-27T07:06:42.192704Z",
     "shell.execute_reply": "2022-10-27T07:06:42.191800Z"
    },
    "papermill": {
     "duration": 0.057987,
     "end_time": "2022-10-27T07:06:42.194660",
     "exception": false,
     "start_time": "2022-10-27T07:06:42.136673",
     "status": "completed"
    },
    "tags": []
   },
   "outputs": [
    {
     "data": {
      "text/plain": [
       "0.8939966636005579"
      ]
     },
     "execution_count": 123,
     "metadata": {},
     "output_type": "execute_result"
    }
   ],
   "source": [
    "np.sin(90)"
   ]
  },
  {
   "cell_type": "code",
   "execution_count": 124,
   "id": "4e5584f3",
   "metadata": {
    "execution": {
     "iopub.execute_input": "2022-10-27T07:06:42.291718Z",
     "iopub.status.busy": "2022-10-27T07:06:42.291047Z",
     "iopub.status.idle": "2022-10-27T07:06:42.297413Z",
     "shell.execute_reply": "2022-10-27T07:06:42.296395Z"
    },
    "papermill": {
     "duration": 0.057117,
     "end_time": "2022-10-27T07:06:42.299418",
     "exception": false,
     "start_time": "2022-10-27T07:06:42.242301",
     "status": "completed"
    },
    "tags": []
   },
   "outputs": [
    {
     "data": {
      "text/plain": [
       "-0.8667670910519801"
      ]
     },
     "execution_count": 124,
     "metadata": {},
     "output_type": "execute_result"
    }
   ],
   "source": [
    "np.cos(122)"
   ]
  },
  {
   "cell_type": "code",
   "execution_count": 125,
   "id": "a1be2346",
   "metadata": {
    "execution": {
     "iopub.execute_input": "2022-10-27T07:06:42.396498Z",
     "iopub.status.busy": "2022-10-27T07:06:42.395429Z",
     "iopub.status.idle": "2022-10-27T07:06:42.403448Z",
     "shell.execute_reply": "2022-10-27T07:06:42.402412Z"
    },
    "papermill": {
     "duration": 0.058452,
     "end_time": "2022-10-27T07:06:42.405426",
     "exception": false,
     "start_time": "2022-10-27T07:06:42.346974",
     "status": "completed"
    },
    "tags": []
   },
   "outputs": [
    {
     "data": {
      "text/plain": [
       "array([0.        , 0.69314718, 1.09861229, 1.38629436, 1.60943791])"
      ]
     },
     "execution_count": 125,
     "metadata": {},
     "output_type": "execute_result"
    }
   ],
   "source": [
    "np.log(arr)"
   ]
  },
  {
   "cell_type": "code",
   "execution_count": 126,
   "id": "d7a0155a",
   "metadata": {
    "execution": {
     "iopub.execute_input": "2022-10-27T07:06:42.548401Z",
     "iopub.status.busy": "2022-10-27T07:06:42.547374Z",
     "iopub.status.idle": "2022-10-27T07:06:42.554597Z",
     "shell.execute_reply": "2022-10-27T07:06:42.553646Z"
    },
    "papermill": {
     "duration": 0.057749,
     "end_time": "2022-10-27T07:06:42.556559",
     "exception": false,
     "start_time": "2022-10-27T07:06:42.498810",
     "status": "completed"
    },
    "tags": []
   },
   "outputs": [
    {
     "data": {
      "text/plain": [
       "array([0.        , 0.30103   , 0.47712125, 0.60205999, 0.69897   ])"
      ]
     },
     "execution_count": 126,
     "metadata": {},
     "output_type": "execute_result"
    }
   ],
   "source": [
    "np.log10(arr)"
   ]
  },
  {
   "cell_type": "code",
   "execution_count": 127,
   "id": "bc717ea8",
   "metadata": {
    "execution": {
     "iopub.execute_input": "2022-10-27T07:06:42.653691Z",
     "iopub.status.busy": "2022-10-27T07:06:42.652693Z",
     "iopub.status.idle": "2022-10-27T07:06:42.661014Z",
     "shell.execute_reply": "2022-10-27T07:06:42.659903Z"
    },
    "papermill": {
     "duration": 0.058053,
     "end_time": "2022-10-27T07:06:42.662997",
     "exception": false,
     "start_time": "2022-10-27T07:06:42.604944",
     "status": "completed"
    },
    "tags": []
   },
   "outputs": [
    {
     "data": {
      "text/plain": [
       "array([0.78539816, 1.10714872, 1.24904577, 1.32581766, 1.37340077])"
      ]
     },
     "execution_count": 127,
     "metadata": {},
     "output_type": "execute_result"
    }
   ],
   "source": [
    "np.arctan(arr)"
   ]
  },
  {
   "cell_type": "markdown",
   "id": "6ba97fb5",
   "metadata": {
    "papermill": {
     "duration": 0.046881,
     "end_time": "2022-10-27T07:06:42.759335",
     "exception": false,
     "start_time": "2022-10-27T07:06:42.712454",
     "status": "completed"
    },
    "tags": []
   },
   "source": [
    "### <span style = \"background:#174D83; border:#ffffff; font-size:100%; color:#fff; border-radius:5px;\">19. Solving two unknown equations with numpy</span>"
   ]
  },
  {
   "cell_type": "markdown",
   "id": "d24ba724",
   "metadata": {
    "papermill": {
     "duration": 0.04809,
     "end_time": "2022-10-27T07:06:42.855570",
     "exception": false,
     "start_time": "2022-10-27T07:06:42.807480",
     "status": "completed"
    },
    "tags": []
   },
   "source": [
    "\n",
    "### <mark>5*x0+x1 = 12</mark>\n",
    "### <mark>x0+3*x1 = 10</mark>"
   ]
  },
  {
   "cell_type": "code",
   "execution_count": 128,
   "id": "cb9b85c3",
   "metadata": {
    "execution": {
     "iopub.execute_input": "2022-10-27T07:06:42.952949Z",
     "iopub.status.busy": "2022-10-27T07:06:42.952560Z",
     "iopub.status.idle": "2022-10-27T07:06:42.962756Z",
     "shell.execute_reply": "2022-10-27T07:06:42.961802Z"
    },
    "papermill": {
     "duration": 0.061064,
     "end_time": "2022-10-27T07:06:42.964676",
     "exception": false,
     "start_time": "2022-10-27T07:06:42.903612",
     "status": "completed"
    },
    "tags": []
   },
   "outputs": [
    {
     "data": {
      "text/plain": [
       "array([1.85714286, 2.71428571])"
      ]
     },
     "execution_count": 128,
     "metadata": {},
     "output_type": "execute_result"
    }
   ],
   "source": [
    "arr1 = np.array([[5,1], [1,3]])\n",
    "arr2 = np.array([12,10])\n",
    "x = np.linalg.solve(arr1, arr2)\n",
    "x"
   ]
  },
  {
   "cell_type": "markdown",
   "id": "4710d838",
   "metadata": {
    "papermill": {
     "duration": 0.048289,
     "end_time": "2022-10-27T07:06:43.060596",
     "exception": false,
     "start_time": "2022-10-27T07:06:43.012307",
     "status": "completed"
    },
    "tags": []
   },
   "source": [
    "##### 2*x0 - 3*x1 = 5\n",
    "##### x0 + 2*x1 = 6"
   ]
  },
  {
   "cell_type": "code",
   "execution_count": 129,
   "id": "4bd3fc00",
   "metadata": {
    "execution": {
     "iopub.execute_input": "2022-10-27T07:06:43.158236Z",
     "iopub.status.busy": "2022-10-27T07:06:43.157379Z",
     "iopub.status.idle": "2022-10-27T07:06:43.165156Z",
     "shell.execute_reply": "2022-10-27T07:06:43.164225Z"
    },
    "papermill": {
     "duration": 0.058497,
     "end_time": "2022-10-27T07:06:43.167180",
     "exception": false,
     "start_time": "2022-10-27T07:06:43.108683",
     "status": "completed"
    },
    "tags": []
   },
   "outputs": [
    {
     "data": {
      "text/plain": [
       "array([-8.,  7.])"
      ]
     },
     "execution_count": 129,
     "metadata": {},
     "output_type": "execute_result"
    }
   ],
   "source": [
    "arr3 = np.array([[2,3], [1,2]])\n",
    "arr4 = np.array([5,6])\n",
    "x = np.linalg.solve(arr3, arr4)\n",
    "x"
   ]
  },
  {
   "cell_type": "markdown",
   "id": "ee25f0e1",
   "metadata": {
    "papermill": {
     "duration": 0.047136,
     "end_time": "2022-10-27T07:06:43.269702",
     "exception": false,
     "start_time": "2022-10-27T07:06:43.222566",
     "status": "completed"
    },
    "tags": []
   },
   "source": [
    "### <span style = \"background:#174D83; border:#ffffff; font-size:100%; color:#fff; border-radius:5px;\">20. Additional information about arrays</span>"
   ]
  },
  {
   "cell_type": "code",
   "execution_count": 130,
   "id": "68e700c8",
   "metadata": {
    "execution": {
     "iopub.execute_input": "2022-10-27T07:06:43.368266Z",
     "iopub.status.busy": "2022-10-27T07:06:43.367907Z",
     "iopub.status.idle": "2022-10-27T07:06:43.374792Z",
     "shell.execute_reply": "2022-10-27T07:06:43.373888Z"
    },
    "papermill": {
     "duration": 0.058754,
     "end_time": "2022-10-27T07:06:43.376708",
     "exception": false,
     "start_time": "2022-10-27T07:06:43.317954",
     "status": "completed"
    },
    "tags": []
   },
   "outputs": [
    {
     "data": {
      "text/plain": [
       "array([[1., 0., 0., 0., 0., 0., 0.],\n",
       "       [0., 1., 0., 0., 0., 0., 0.],\n",
       "       [0., 0., 1., 0., 0., 0., 0.],\n",
       "       [0., 0., 0., 1., 0., 0., 0.],\n",
       "       [0., 0., 0., 0., 1., 0., 0.],\n",
       "       [0., 0., 0., 0., 0., 1., 0.],\n",
       "       [0., 0., 0., 0., 0., 0., 1.]])"
      ]
     },
     "execution_count": 130,
     "metadata": {},
     "output_type": "execute_result"
    }
   ],
   "source": [
    "np.eye(7)"
   ]
  },
  {
   "cell_type": "markdown",
   "id": "9d201d8d",
   "metadata": {
    "papermill": {
     "duration": 0.048041,
     "end_time": "2022-10-27T07:06:43.474157",
     "exception": false,
     "start_time": "2022-10-27T07:06:43.426116",
     "status": "completed"
    },
    "tags": []
   },
   "source": [
    "### <mark>Create five random values between 0 and 1</mark>"
   ]
  },
  {
   "cell_type": "code",
   "execution_count": 131,
   "id": "e3393d1a",
   "metadata": {
    "execution": {
     "iopub.execute_input": "2022-10-27T07:06:43.574334Z",
     "iopub.status.busy": "2022-10-27T07:06:43.573375Z",
     "iopub.status.idle": "2022-10-27T07:06:43.580998Z",
     "shell.execute_reply": "2022-10-27T07:06:43.579853Z"
    },
    "papermill": {
     "duration": 0.059361,
     "end_time": "2022-10-27T07:06:43.582951",
     "exception": false,
     "start_time": "2022-10-27T07:06:43.523590",
     "status": "completed"
    },
    "tags": []
   },
   "outputs": [
    {
     "data": {
      "text/plain": [
       "array([0.0437754 , 0.56635167, 0.73663298, 0.77266395, 0.83667545])"
      ]
     },
     "execution_count": 131,
     "metadata": {},
     "output_type": "execute_result"
    }
   ],
   "source": [
    "np.random.rand(5)"
   ]
  },
  {
   "cell_type": "markdown",
   "id": "d7d95fb0",
   "metadata": {
    "papermill": {
     "duration": 0.0474,
     "end_time": "2022-10-27T07:06:43.678721",
     "exception": false,
     "start_time": "2022-10-27T07:06:43.631321",
     "status": "completed"
    },
    "tags": []
   },
   "source": [
    "### <mark>Create five random values around 0</mark>"
   ]
  },
  {
   "cell_type": "code",
   "execution_count": 132,
   "id": "3ca29dcb",
   "metadata": {
    "execution": {
     "iopub.execute_input": "2022-10-27T07:06:43.778014Z",
     "iopub.status.busy": "2022-10-27T07:06:43.777069Z",
     "iopub.status.idle": "2022-10-27T07:06:43.783874Z",
     "shell.execute_reply": "2022-10-27T07:06:43.782973Z"
    },
    "papermill": {
     "duration": 0.058116,
     "end_time": "2022-10-27T07:06:43.785803",
     "exception": false,
     "start_time": "2022-10-27T07:06:43.727687",
     "status": "completed"
    },
    "tags": []
   },
   "outputs": [
    {
     "data": {
      "text/plain": [
       "array([-0.51097522, -2.1779845 , -1.24964761, -0.19323797,  0.68095582])"
      ]
     },
     "execution_count": 132,
     "metadata": {},
     "output_type": "execute_result"
    }
   ],
   "source": [
    "np.random.randn(5)"
   ]
  },
  {
   "cell_type": "code",
   "execution_count": 133,
   "id": "c64d88dc",
   "metadata": {
    "execution": {
     "iopub.execute_input": "2022-10-27T07:06:43.884235Z",
     "iopub.status.busy": "2022-10-27T07:06:43.883395Z",
     "iopub.status.idle": "2022-10-27T07:06:43.889956Z",
     "shell.execute_reply": "2022-10-27T07:06:43.889023Z"
    },
    "papermill": {
     "duration": 0.058431,
     "end_time": "2022-10-27T07:06:43.892331",
     "exception": false,
     "start_time": "2022-10-27T07:06:43.833900",
     "status": "completed"
    },
    "tags": []
   },
   "outputs": [
    {
     "data": {
      "text/plain": [
       "array([37, 48, 33, 16,  3, 10,  3, 41, 47, 22, 23, 37, 18, 41, 35, 34, 48,\n",
       "        6,  5, 49, 48, 36,  8, 15,  5, 36,  8, 41, 23, 46, 16,  5, 23, 41,\n",
       "       18, 47, 14, 22, 27, 39,  2, 24, 17, 39, 14,  6, 40, 19, 21, 32])"
      ]
     },
     "execution_count": 133,
     "metadata": {},
     "output_type": "execute_result"
    }
   ],
   "source": [
    "arr = np.random.randint(1, 50, 50)\n",
    "arr"
   ]
  },
  {
   "cell_type": "markdown",
   "id": "6e30d387",
   "metadata": {
    "papermill": {
     "duration": 0.047208,
     "end_time": "2022-10-27T07:06:43.988280",
     "exception": false,
     "start_time": "2022-10-27T07:06:43.941072",
     "status": "completed"
    },
    "tags": []
   },
   "source": [
    "### <mark>Get the index where the maximum value is</mark>"
   ]
  },
  {
   "cell_type": "code",
   "execution_count": 134,
   "id": "ad26b33e",
   "metadata": {
    "execution": {
     "iopub.execute_input": "2022-10-27T07:06:44.086314Z",
     "iopub.status.busy": "2022-10-27T07:06:44.085955Z",
     "iopub.status.idle": "2022-10-27T07:06:44.092392Z",
     "shell.execute_reply": "2022-10-27T07:06:44.091496Z"
    },
    "papermill": {
     "duration": 0.057925,
     "end_time": "2022-10-27T07:06:44.094446",
     "exception": false,
     "start_time": "2022-10-27T07:06:44.036521",
     "status": "completed"
    },
    "tags": []
   },
   "outputs": [
    {
     "data": {
      "text/plain": [
       "19"
      ]
     },
     "execution_count": 134,
     "metadata": {},
     "output_type": "execute_result"
    }
   ],
   "source": [
    "np.argmax(arr)"
   ]
  },
  {
   "cell_type": "markdown",
   "id": "c4913e37",
   "metadata": {
    "papermill": {
     "duration": 0.049311,
     "end_time": "2022-10-27T07:06:44.192520",
     "exception": false,
     "start_time": "2022-10-27T07:06:44.143209",
     "status": "completed"
    },
    "tags": []
   },
   "source": [
    "### <mark>Get the index where the minimum value is</mark>"
   ]
  },
  {
   "cell_type": "code",
   "execution_count": 135,
   "id": "25cbf5d5",
   "metadata": {
    "execution": {
     "iopub.execute_input": "2022-10-27T07:06:44.295090Z",
     "iopub.status.busy": "2022-10-27T07:06:44.294311Z",
     "iopub.status.idle": "2022-10-27T07:06:44.301274Z",
     "shell.execute_reply": "2022-10-27T07:06:44.300224Z"
    },
    "papermill": {
     "duration": 0.061342,
     "end_time": "2022-10-27T07:06:44.303273",
     "exception": false,
     "start_time": "2022-10-27T07:06:44.241931",
     "status": "completed"
    },
    "tags": []
   },
   "outputs": [
    {
     "data": {
      "text/plain": [
       "40"
      ]
     },
     "execution_count": 135,
     "metadata": {},
     "output_type": "execute_result"
    }
   ],
   "source": [
    "np.argmin(arr)"
   ]
  },
  {
   "cell_type": "code",
   "execution_count": 136,
   "id": "27fd9728",
   "metadata": {
    "execution": {
     "iopub.execute_input": "2022-10-27T07:06:44.402513Z",
     "iopub.status.busy": "2022-10-27T07:06:44.401542Z",
     "iopub.status.idle": "2022-10-27T07:06:44.407959Z",
     "shell.execute_reply": "2022-10-27T07:06:44.407054Z"
    },
    "papermill": {
     "duration": 0.05865,
     "end_time": "2022-10-27T07:06:44.410061",
     "exception": false,
     "start_time": "2022-10-27T07:06:44.351411",
     "status": "completed"
    },
    "tags": []
   },
   "outputs": [
    {
     "data": {
      "text/plain": [
       "1288"
      ]
     },
     "execution_count": 136,
     "metadata": {},
     "output_type": "execute_result"
    }
   ],
   "source": [
    "np.sum(arr)"
   ]
  },
  {
   "cell_type": "code",
   "execution_count": 137,
   "id": "638595dc",
   "metadata": {
    "execution": {
     "iopub.execute_input": "2022-10-27T07:06:44.508517Z",
     "iopub.status.busy": "2022-10-27T07:06:44.508169Z",
     "iopub.status.idle": "2022-10-27T07:06:44.514510Z",
     "shell.execute_reply": "2022-10-27T07:06:44.513635Z"
    },
    "papermill": {
     "duration": 0.05848,
     "end_time": "2022-10-27T07:06:44.516677",
     "exception": false,
     "start_time": "2022-10-27T07:06:44.458197",
     "status": "completed"
    },
    "tags": []
   },
   "outputs": [
    {
     "data": {
      "text/plain": [
       "25.76"
      ]
     },
     "execution_count": 137,
     "metadata": {},
     "output_type": "execute_result"
    }
   ],
   "source": [
    "np.mean(arr)"
   ]
  },
  {
   "cell_type": "code",
   "execution_count": 138,
   "id": "11e36020",
   "metadata": {
    "execution": {
     "iopub.execute_input": "2022-10-27T07:06:44.621471Z",
     "iopub.status.busy": "2022-10-27T07:06:44.620491Z",
     "iopub.status.idle": "2022-10-27T07:06:44.628836Z",
     "shell.execute_reply": "2022-10-27T07:06:44.627842Z"
    },
    "papermill": {
     "duration": 0.060633,
     "end_time": "2022-10-27T07:06:44.630999",
     "exception": false,
     "start_time": "2022-10-27T07:06:44.570366",
     "status": "completed"
    },
    "tags": []
   },
   "outputs": [
    {
     "data": {
      "text/plain": [
       "23.0"
      ]
     },
     "execution_count": 138,
     "metadata": {},
     "output_type": "execute_result"
    }
   ],
   "source": [
    "np.median(arr)"
   ]
  },
  {
   "cell_type": "code",
   "execution_count": 139,
   "id": "bf8b9675",
   "metadata": {
    "execution": {
     "iopub.execute_input": "2022-10-27T07:06:44.731461Z",
     "iopub.status.busy": "2022-10-27T07:06:44.730462Z",
     "iopub.status.idle": "2022-10-27T07:06:44.737594Z",
     "shell.execute_reply": "2022-10-27T07:06:44.736615Z"
    },
    "papermill": {
     "duration": 0.060164,
     "end_time": "2022-10-27T07:06:44.739849",
     "exception": false,
     "start_time": "2022-10-27T07:06:44.679685",
     "status": "completed"
    },
    "tags": []
   },
   "outputs": [
    {
     "data": {
      "text/plain": [
       "219.6624"
      ]
     },
     "execution_count": 139,
     "metadata": {},
     "output_type": "execute_result"
    }
   ],
   "source": [
    "np.var(arr)"
   ]
  },
  {
   "cell_type": "code",
   "execution_count": 140,
   "id": "41e0caf5",
   "metadata": {
    "execution": {
     "iopub.execute_input": "2022-10-27T07:06:44.845259Z",
     "iopub.status.busy": "2022-10-27T07:06:44.844391Z",
     "iopub.status.idle": "2022-10-27T07:06:44.850893Z",
     "shell.execute_reply": "2022-10-27T07:06:44.849875Z"
    },
    "papermill": {
     "duration": 0.059146,
     "end_time": "2022-10-27T07:06:44.852952",
     "exception": false,
     "start_time": "2022-10-27T07:06:44.793806",
     "status": "completed"
    },
    "tags": []
   },
   "outputs": [
    {
     "data": {
      "text/plain": [
       "14.821012111188628"
      ]
     },
     "execution_count": 140,
     "metadata": {},
     "output_type": "execute_result"
    }
   ],
   "source": [
    "np.std(arr)"
   ]
  },
  {
   "cell_type": "markdown",
   "id": "f3588214",
   "metadata": {
    "papermill": {
     "duration": 0.047891,
     "end_time": "2022-10-27T07:06:44.950445",
     "exception": false,
     "start_time": "2022-10-27T07:06:44.902554",
     "status": "completed"
    },
    "tags": []
   },
   "source": [
    "### <mark>Adding the arrays</mark>"
   ]
  },
  {
   "cell_type": "code",
   "execution_count": 141,
   "id": "b3faa828",
   "metadata": {
    "execution": {
     "iopub.execute_input": "2022-10-27T07:06:45.050707Z",
     "iopub.status.busy": "2022-10-27T07:06:45.050326Z",
     "iopub.status.idle": "2022-10-27T07:06:45.057796Z",
     "shell.execute_reply": "2022-10-27T07:06:45.056910Z"
    },
    "papermill": {
     "duration": 0.060833,
     "end_time": "2022-10-27T07:06:45.059917",
     "exception": false,
     "start_time": "2022-10-27T07:06:44.999084",
     "status": "completed"
    },
    "tags": []
   },
   "outputs": [
    {
     "data": {
      "text/plain": [
       "array([[ 2.1,  4.1,  6.1,  8.1, 10.1],\n",
       "       [ 4.1,  6.1, 10.1, 12.1, 14.1]])"
      ]
     },
     "execution_count": 141,
     "metadata": {},
     "output_type": "execute_result"
    }
   ],
   "source": [
    "arr1 = np.array([[1,2,3,4,5], [2,3,5,6,7]])\n",
    "arr2 = np.array([[1.1,2.1,3.1,4.1,5.1], [2.1,3.1,5.1,6.1,7.1]])\n",
    "arr1 + arr2"
   ]
  },
  {
   "cell_type": "markdown",
   "id": "5bd0e214",
   "metadata": {
    "papermill": {
     "duration": 0.047897,
     "end_time": "2022-10-27T07:06:45.157009",
     "exception": false,
     "start_time": "2022-10-27T07:06:45.109112",
     "status": "completed"
    },
    "tags": []
   },
   "source": [
    "### <mark>Multiplying the arrays</mark>"
   ]
  },
  {
   "cell_type": "code",
   "execution_count": 142,
   "id": "99339299",
   "metadata": {
    "execution": {
     "iopub.execute_input": "2022-10-27T07:06:45.257515Z",
     "iopub.status.busy": "2022-10-27T07:06:45.257164Z",
     "iopub.status.idle": "2022-10-27T07:06:45.263755Z",
     "shell.execute_reply": "2022-10-27T07:06:45.262863Z"
    },
    "papermill": {
     "duration": 0.058914,
     "end_time": "2022-10-27T07:06:45.265776",
     "exception": false,
     "start_time": "2022-10-27T07:06:45.206862",
     "status": "completed"
    },
    "tags": []
   },
   "outputs": [
    {
     "data": {
      "text/plain": [
       "array([[ 1.1,  4.2,  9.3, 16.4, 25.5],\n",
       "       [ 4.2,  9.3, 25.5, 36.6, 49.7]])"
      ]
     },
     "execution_count": 142,
     "metadata": {},
     "output_type": "execute_result"
    }
   ],
   "source": [
    "arr1 * arr2"
   ]
  },
  {
   "cell_type": "code",
   "execution_count": 143,
   "id": "73fdcf62",
   "metadata": {
    "execution": {
     "iopub.execute_input": "2022-10-27T07:06:45.366160Z",
     "iopub.status.busy": "2022-10-27T07:06:45.365193Z",
     "iopub.status.idle": "2022-10-27T07:06:45.372458Z",
     "shell.execute_reply": "2022-10-27T07:06:45.371423Z"
    },
    "papermill": {
     "duration": 0.059639,
     "end_time": "2022-10-27T07:06:45.374456",
     "exception": false,
     "start_time": "2022-10-27T07:06:45.314817",
     "status": "completed"
    },
    "tags": []
   },
   "outputs": [
    {
     "data": {
      "text/plain": [
       "array([[1.44913767, 2.02484567, 2.46981781, 2.84604989, 3.17804972],\n",
       "       [2.02484567, 2.46981781, 3.17804972, 3.47850543, 3.75499667]])"
      ]
     },
     "execution_count": 143,
     "metadata": {},
     "output_type": "execute_result"
    }
   ],
   "source": [
    "np.sqrt(arr1 + arr2)"
   ]
  },
  {
   "cell_type": "markdown",
   "id": "4e2d11c7",
   "metadata": {
    "papermill": {
     "duration": 0.049136,
     "end_time": "2022-10-27T07:06:45.473838",
     "exception": false,
     "start_time": "2022-10-27T07:06:45.424702",
     "status": "completed"
    },
    "tags": []
   },
   "source": [
    "### <mark>Multiplying the elements of two lists by traditional methods</mark>"
   ]
  },
  {
   "cell_type": "code",
   "execution_count": 144,
   "id": "410809f3",
   "metadata": {
    "execution": {
     "iopub.execute_input": "2022-10-27T07:06:45.573700Z",
     "iopub.status.busy": "2022-10-27T07:06:45.572713Z",
     "iopub.status.idle": "2022-10-27T07:06:45.581322Z",
     "shell.execute_reply": "2022-10-27T07:06:45.580292Z"
    },
    "papermill": {
     "duration": 0.060061,
     "end_time": "2022-10-27T07:06:45.583338",
     "exception": false,
     "start_time": "2022-10-27T07:06:45.523277",
     "status": "completed"
    },
    "tags": []
   },
   "outputs": [
    {
     "data": {
      "text/plain": [
       "[2, 12, 30, 56, 90, 132, 182]"
      ]
     },
     "execution_count": 144,
     "metadata": {},
     "output_type": "execute_result"
    }
   ],
   "source": [
    "list_1 = [2,4,6,8, 10, 12, 14]\n",
    "list_2 = [1,3,5,7, 9, 11, 13]\n",
    "\n",
    "multiplied_lists = []\n",
    "for i in range(0, len(list_1)):\n",
    "    multiplied_lists.append(list_1[i] * list_2[i])\n",
    "multiplied_lists"
   ]
  },
  {
   "cell_type": "markdown",
   "id": "be0d1bd9",
   "metadata": {
    "papermill": {
     "duration": 0.048432,
     "end_time": "2022-10-27T07:06:45.680936",
     "exception": false,
     "start_time": "2022-10-27T07:06:45.632504",
     "status": "completed"
    },
    "tags": []
   },
   "source": [
    "### <mark>Multiplying the elements of two lists by NumPy</mark>"
   ]
  },
  {
   "cell_type": "code",
   "execution_count": 145,
   "id": "12625fb0",
   "metadata": {
    "execution": {
     "iopub.execute_input": "2022-10-27T07:06:45.781431Z",
     "iopub.status.busy": "2022-10-27T07:06:45.781068Z",
     "iopub.status.idle": "2022-10-27T07:06:45.788142Z",
     "shell.execute_reply": "2022-10-27T07:06:45.787240Z"
    },
    "papermill": {
     "duration": 0.059934,
     "end_time": "2022-10-27T07:06:45.790035",
     "exception": false,
     "start_time": "2022-10-27T07:06:45.730101",
     "status": "completed"
    },
    "tags": []
   },
   "outputs": [
    {
     "data": {
      "text/plain": [
       "array([  2,  12,  30,  56,  90, 132, 182])"
      ]
     },
     "execution_count": 145,
     "metadata": {},
     "output_type": "execute_result"
    }
   ],
   "source": [
    "arr_1 = np.array([2,4,6,8, 10, 12, 14])\n",
    "arr_2 = np.array([1,3,5,7, 9, 11, 13])\n",
    "arr_1 * arr_2"
   ]
  },
  {
   "cell_type": "markdown",
   "id": "65c57fa3",
   "metadata": {
    "papermill": {
     "duration": 0.049899,
     "end_time": "2022-10-27T07:06:45.901323",
     "exception": false,
     "start_time": "2022-10-27T07:06:45.851424",
     "status": "completed"
    },
    "tags": []
   },
   "source": [
    "### <span style = \"background:#174D83; border:#ffffff; font-size:100%; color:#fff; border-radius:5px;\">21. Save array to CSV</span>"
   ]
  },
  {
   "cell_type": "code",
   "execution_count": 146,
   "id": "35cfdae0",
   "metadata": {
    "execution": {
     "iopub.execute_input": "2022-10-27T07:06:46.001418Z",
     "iopub.status.busy": "2022-10-27T07:06:46.001054Z",
     "iopub.status.idle": "2022-10-27T07:06:46.006448Z",
     "shell.execute_reply": "2022-10-27T07:06:46.005497Z"
    },
    "papermill": {
     "duration": 0.05807,
     "end_time": "2022-10-27T07:06:46.008793",
     "exception": false,
     "start_time": "2022-10-27T07:06:45.950723",
     "status": "completed"
    },
    "tags": []
   },
   "outputs": [
    {
     "name": "stdout",
     "output_type": "stream",
     "text": [
      "[[1 2 3]\n",
      " [4 5 6]]\n"
     ]
    }
   ],
   "source": [
    "a = np.asarray([ [1,2,3], [4,5,6]])\n",
    "print(a)\n",
    "\n",
    "# to save the numpy to csv file\n",
    "# np.savetxt(\"abc.csv\", a, delimiter = \",\")"
   ]
  },
  {
   "cell_type": "markdown",
   "id": "7be8894a",
   "metadata": {
    "papermill": {
     "duration": 0.049584,
     "end_time": "2022-10-27T07:06:46.108096",
     "exception": false,
     "start_time": "2022-10-27T07:06:46.058512",
     "status": "completed"
    },
    "tags": []
   },
   "source": [
    "### <span style = \"background:#174D83; border:#ffffff; font-size:100%; color:#fff; border-radius:5px;\">22. Dataframe to numpy</span>"
   ]
  },
  {
   "cell_type": "code",
   "execution_count": 147,
   "id": "316cac31",
   "metadata": {
    "execution": {
     "iopub.execute_input": "2022-10-27T07:06:46.209408Z",
     "iopub.status.busy": "2022-10-27T07:06:46.209035Z",
     "iopub.status.idle": "2022-10-27T07:06:46.223296Z",
     "shell.execute_reply": "2022-10-27T07:06:46.222033Z"
    },
    "papermill": {
     "duration": 0.067771,
     "end_time": "2022-10-27T07:06:46.225425",
     "exception": false,
     "start_time": "2022-10-27T07:06:46.157654",
     "status": "completed"
    },
    "tags": []
   },
   "outputs": [
    {
     "name": "stdout",
     "output_type": "stream",
     "text": [
      "Pandas dataframe:\n",
      "   a  b\n",
      "X  1  4\n",
      "Y  2  5\n",
      "Z  3  6\n",
      "W  4  7\n",
      "R  5  8\n"
     ]
    }
   ],
   "source": [
    "import pandas as pd\n",
    "\n",
    "df = pd.DataFrame({\"a\": [1, 2, 3, 4, 5], \"b\": [4, 5, 6, 7, 8]}, index = [\"X\", \"Y\", \"Z\", \"W\", \"R\"])\n",
    "\n",
    "print(\"Pandas dataframe:\")\n",
    "print(df)"
   ]
  },
  {
   "cell_type": "code",
   "execution_count": 148,
   "id": "8c1a7c01",
   "metadata": {
    "execution": {
     "iopub.execute_input": "2022-10-27T07:06:46.328165Z",
     "iopub.status.busy": "2022-10-27T07:06:46.327786Z",
     "iopub.status.idle": "2022-10-27T07:06:46.333297Z",
     "shell.execute_reply": "2022-10-27T07:06:46.332341Z"
    },
    "papermill": {
     "duration": 0.061301,
     "end_time": "2022-10-27T07:06:46.335913",
     "exception": false,
     "start_time": "2022-10-27T07:06:46.274612",
     "status": "completed"
    },
    "tags": []
   },
   "outputs": [
    {
     "name": "stdout",
     "output_type": "stream",
     "text": [
      "Pandas dataframe to numpy:\n",
      "[[1 4]\n",
      " [2 5]\n",
      " [3 6]\n",
      " [4 7]\n",
      " [5 8]]\n"
     ]
    }
   ],
   "source": [
    "dat = df.to_numpy()\n",
    "\n",
    "print(\"Pandas dataframe to numpy:\")\n",
    "print(dat)"
   ]
  },
  {
   "cell_type": "code",
   "execution_count": 149,
   "id": "f769affd",
   "metadata": {
    "execution": {
     "iopub.execute_input": "2022-10-27T07:06:46.437677Z",
     "iopub.status.busy": "2022-10-27T07:06:46.437290Z",
     "iopub.status.idle": "2022-10-27T07:06:46.442971Z",
     "shell.execute_reply": "2022-10-27T07:06:46.442029Z"
    },
    "papermill": {
     "duration": 0.059166,
     "end_time": "2022-10-27T07:06:46.445239",
     "exception": false,
     "start_time": "2022-10-27T07:06:46.386073",
     "status": "completed"
    },
    "tags": []
   },
   "outputs": [
    {
     "name": "stdout",
     "output_type": "stream",
     "text": [
      "Pandas dataframe indices to numpy:\n",
      "['X' 'Y' 'Z' 'W' 'R']\n"
     ]
    }
   ],
   "source": [
    "idx = df.index.to_numpy()\n",
    "print(\"Pandas dataframe indices to numpy:\")\n",
    "print(idx)"
   ]
  },
  {
   "cell_type": "code",
   "execution_count": 150,
   "id": "c5ee10c9",
   "metadata": {
    "execution": {
     "iopub.execute_input": "2022-10-27T07:06:46.546489Z",
     "iopub.status.busy": "2022-10-27T07:06:46.545536Z",
     "iopub.status.idle": "2022-10-27T07:06:46.553821Z",
     "shell.execute_reply": "2022-10-27T07:06:46.552566Z"
    },
    "papermill": {
     "duration": 0.061369,
     "end_time": "2022-10-27T07:06:46.555933",
     "exception": false,
     "start_time": "2022-10-27T07:06:46.494564",
     "status": "completed"
    },
    "tags": []
   },
   "outputs": [
    {
     "name": "stdout",
     "output_type": "stream",
     "text": [
      "Dataframe series to numpy:\n",
      "[1 2 3 4 5]\n"
     ]
    }
   ],
   "source": [
    "ser = df[\"a\"].to_numpy()\n",
    "print(\"Dataframe series to numpy:\")\n",
    "print(ser)"
   ]
  },
  {
   "cell_type": "markdown",
   "id": "025f7678",
   "metadata": {
    "papermill": {
     "duration": 0.048793,
     "end_time": "2022-10-27T07:06:46.654186",
     "exception": false,
     "start_time": "2022-10-27T07:06:46.605393",
     "status": "completed"
    },
    "tags": []
   },
   "source": [
    "### <span style = \"background:#174D83; border:#ffffff; font-size:100%; color:#fff; border-radius:5px;\">23. Argsort on numpy array</span>"
   ]
  },
  {
   "cell_type": "code",
   "execution_count": 151,
   "id": "ccdc43a3",
   "metadata": {
    "execution": {
     "iopub.execute_input": "2022-10-27T07:06:46.830043Z",
     "iopub.status.busy": "2022-10-27T07:06:46.829410Z",
     "iopub.status.idle": "2022-10-27T07:06:46.838446Z",
     "shell.execute_reply": "2022-10-27T07:06:46.837449Z"
    },
    "papermill": {
     "duration": 0.120481,
     "end_time": "2022-10-27T07:06:46.843291",
     "exception": false,
     "start_time": "2022-10-27T07:06:46.722810",
     "status": "completed"
    },
    "tags": []
   },
   "outputs": [
    {
     "name": "stdout",
     "output_type": "stream",
     "text": [
      "Before argsort:\n",
      "[[3 9 1]\n",
      " [5 8 2]\n",
      " [2 7 1]]\n",
      "\n",
      "After argsort:\n",
      "[[3 9 1]\n",
      " [2 7 1]\n",
      " [5 8 2]]\n"
     ]
    }
   ],
   "source": [
    "a = np.random.randint(0, 10, (3,3))\n",
    "print(\"Before argsort:\")\n",
    "print(a)\n",
    "\n",
    "print(\"\\nAfter argsort:\")\n",
    "b = a[a[: ,2].argsort()]\n",
    "print(b)"
   ]
  },
  {
   "cell_type": "markdown",
   "id": "f138520d",
   "metadata": {
    "papermill": {
     "duration": 0.075405,
     "end_time": "2022-10-27T07:06:46.996134",
     "exception": false,
     "start_time": "2022-10-27T07:06:46.920729",
     "status": "completed"
    },
    "tags": []
   },
   "source": [
    "### <span style = \"background:#174D83; border:#ffffff; font-size:100%; color:#fff; border-radius:5px;\">24. Numpy inverse</span>"
   ]
  },
  {
   "cell_type": "code",
   "execution_count": 152,
   "id": "32a0d4c7",
   "metadata": {
    "execution": {
     "iopub.execute_input": "2022-10-27T07:06:47.146671Z",
     "iopub.status.busy": "2022-10-27T07:06:47.146082Z",
     "iopub.status.idle": "2022-10-27T07:06:47.158816Z",
     "shell.execute_reply": "2022-10-27T07:06:47.157868Z"
    },
    "papermill": {
     "duration": 0.097852,
     "end_time": "2022-10-27T07:06:47.168449",
     "exception": false,
     "start_time": "2022-10-27T07:06:47.070597",
     "status": "completed"
    },
    "tags": []
   },
   "outputs": [
    {
     "name": "stdout",
     "output_type": "stream",
     "text": [
      "Array before inverse:\n",
      "[[ 2  3  5]\n",
      " [ 4  6  8]\n",
      " [ 9 11 15]]\n",
      "\n",
      "Array after inverse:\n",
      "[[-0.2 -1.   0.6]\n",
      " [-1.2  1.5 -0.4]\n",
      " [ 1.  -0.5  0. ]]\n"
     ]
    }
   ],
   "source": [
    "b = np.array([[2, 3, 5],[4, 6, 8], [9, 11, 15]])\n",
    "print(\"Array before inverse:\")\n",
    "print(b)\n",
    "\n",
    "c = np.linalg.inv(b)\n",
    "print(\"\\nArray after inverse:\")\n",
    "print(c)"
   ]
  },
  {
   "cell_type": "markdown",
   "id": "4ec6c321",
   "metadata": {
    "papermill": {
     "duration": 0.084771,
     "end_time": "2022-10-27T07:06:47.472109",
     "exception": false,
     "start_time": "2022-10-27T07:06:47.387338",
     "status": "completed"
    },
    "tags": []
   },
   "source": [
    "### <span style = \"background:#174D83; border:#ffffff; font-size:100%; color:#fff; border-radius:5px;\">25. Tolist function</span>"
   ]
  },
  {
   "cell_type": "code",
   "execution_count": 153,
   "id": "8faa294b",
   "metadata": {
    "execution": {
     "iopub.execute_input": "2022-10-27T07:06:47.643605Z",
     "iopub.status.busy": "2022-10-27T07:06:47.643203Z",
     "iopub.status.idle": "2022-10-27T07:06:47.654675Z",
     "shell.execute_reply": "2022-10-27T07:06:47.653707Z"
    },
    "papermill": {
     "duration": 0.10132,
     "end_time": "2022-10-27T07:06:47.658348",
     "exception": false,
     "start_time": "2022-10-27T07:06:47.557028",
     "status": "completed"
    },
    "tags": []
   },
   "outputs": [
    {
     "name": "stdout",
     "output_type": "stream",
     "text": [
      "Array before:\n",
      "[[ 0  1  2  3  4]\n",
      " [ 5  6  7  8  9]\n",
      " [10 11 12 13 14]\n",
      " [15 16 17 18 19]]\n",
      "<class 'numpy.ndarray'>\n",
      "<class 'numpy.ndarray'>\n",
      "<class 'numpy.int64'>\n",
      "______________________________________________________________________________\n"
     ]
    }
   ],
   "source": [
    "arr = np.arange(20).reshape(4, 5)\n",
    "print(\"Array before:\")\n",
    "print(arr)\n",
    "print(type(arr))\n",
    "print(type(arr[1]))\n",
    "print(type(arr[1][1]))\n",
    "print(\"______________________________________________________________________________\")"
   ]
  },
  {
   "cell_type": "code",
   "execution_count": 154,
   "id": "b34f7019",
   "metadata": {
    "execution": {
     "iopub.execute_input": "2022-10-27T07:06:47.842338Z",
     "iopub.status.busy": "2022-10-27T07:06:47.841877Z",
     "iopub.status.idle": "2022-10-27T07:06:47.849479Z",
     "shell.execute_reply": "2022-10-27T07:06:47.848552Z"
    },
    "papermill": {
     "duration": 0.104516,
     "end_time": "2022-10-27T07:06:47.855453",
     "exception": false,
     "start_time": "2022-10-27T07:06:47.750937",
     "status": "completed"
    },
    "tags": []
   },
   "outputs": [
    {
     "name": "stdout",
     "output_type": "stream",
     "text": [
      "Array after tolist():\n",
      "[[0, 1, 2, 3, 4], [5, 6, 7, 8, 9], [10, 11, 12, 13, 14], [15, 16, 17, 18, 19]]\n",
      "<class 'list'>\n",
      "<class 'list'>\n",
      "<class 'int'>\n"
     ]
    }
   ],
   "source": [
    "print(\"Array after tolist():\")\n",
    "b = arr.tolist()\n",
    "print(b)\n",
    "print(type(b))\n",
    "print(type(b[1]))\n",
    "print(type(b[1][1]))"
   ]
  },
  {
   "cell_type": "markdown",
   "id": "fab6b6e0",
   "metadata": {
    "papermill": {
     "duration": 0.078299,
     "end_time": "2022-10-27T07:06:48.013509",
     "exception": false,
     "start_time": "2022-10-27T07:06:47.935210",
     "status": "completed"
    },
    "tags": []
   },
   "source": [
    "### <span style = \"background:#174D83; border:#ffffff; font-size:100%; color:#fff; border-radius:5px;\">26. Where function</span>"
   ]
  },
  {
   "cell_type": "code",
   "execution_count": 155,
   "id": "feccbd57",
   "metadata": {
    "execution": {
     "iopub.execute_input": "2022-10-27T07:06:48.144305Z",
     "iopub.status.busy": "2022-10-27T07:06:48.143925Z",
     "iopub.status.idle": "2022-10-27T07:06:48.151163Z",
     "shell.execute_reply": "2022-10-27T07:06:48.150044Z"
    },
    "papermill": {
     "duration": 0.063019,
     "end_time": "2022-10-27T07:06:48.153697",
     "exception": false,
     "start_time": "2022-10-27T07:06:48.090678",
     "status": "completed"
    },
    "tags": []
   },
   "outputs": [
    {
     "name": "stdout",
     "output_type": "stream",
     "text": [
      "Without using where function:\n",
      "[[ 0  1  2  3]\n",
      " [ 4  5  6  7]\n",
      " [ 8  9 10 11]\n",
      " [12 13 14 15]\n",
      " [16 17 18 19]]\n",
      "\n",
      "With using where function:\n",
      "[[20  0 20]\n",
      " [20 20 20]\n",
      " [20 20 20]]\n"
     ]
    }
   ],
   "source": [
    "arr = np.arange(20).reshape((5, 4))\n",
    "print(\"Without using where function:\")\n",
    "print(arr)\n",
    "\n",
    "print(\"\\nWith using where function:\")\n",
    "b = np.where((a < 16) & (a > 8), 0, 20)\n",
    "print(b)"
   ]
  },
  {
   "cell_type": "code",
   "execution_count": 156,
   "id": "1f277e41",
   "metadata": {
    "execution": {
     "iopub.execute_input": "2022-10-27T07:06:48.261700Z",
     "iopub.status.busy": "2022-10-27T07:06:48.261295Z",
     "iopub.status.idle": "2022-10-27T07:06:48.268046Z",
     "shell.execute_reply": "2022-10-27T07:06:48.267029Z"
    },
    "papermill": {
     "duration": 0.065402,
     "end_time": "2022-10-27T07:06:48.271251",
     "exception": false,
     "start_time": "2022-10-27T07:06:48.205849",
     "status": "completed"
    },
    "tags": []
   },
   "outputs": [
    {
     "name": "stdout",
     "output_type": "stream",
     "text": [
      "Without using where function:\n",
      "[[ 0  1  2  3  4]\n",
      " [ 5  6  7  8  9]\n",
      " [10 11 12 13 14]\n",
      " [15 16 17 18 19]]\n",
      "\n",
      "With using where function:\n",
      "[[3 9 1]\n",
      " [0 0 2]\n",
      " [2 0 1]]\n"
     ]
    }
   ],
   "source": [
    "arr = np.arange(20).reshape((4, 5))\n",
    "print(\"Without using where function:\")\n",
    "print(arr)\n",
    "\n",
    "print(\"\\nWith using where function:\")\n",
    "b = np.where((a > 4) & (a < 9), 0, a)\n",
    "print(b)"
   ]
  },
  {
   "cell_type": "markdown",
   "id": "6d9b062e",
   "metadata": {
    "papermill": {
     "duration": 0.05602,
     "end_time": "2022-10-27T07:06:48.383795",
     "exception": false,
     "start_time": "2022-10-27T07:06:48.327775",
     "status": "completed"
    },
    "tags": []
   },
   "source": [
    "### <span style = \"background:#174D83; border:#ffffff; font-size:100%; color:#fff; border-radius:5px;\">27. Date with numpy</span>"
   ]
  },
  {
   "cell_type": "code",
   "execution_count": 157,
   "id": "a8d22844",
   "metadata": {
    "execution": {
     "iopub.execute_input": "2022-10-27T07:06:48.491391Z",
     "iopub.status.busy": "2022-10-27T07:06:48.490166Z",
     "iopub.status.idle": "2022-10-27T07:06:48.496742Z",
     "shell.execute_reply": "2022-10-27T07:06:48.495619Z"
    },
    "papermill": {
     "duration": 0.061991,
     "end_time": "2022-10-27T07:06:48.498835",
     "exception": false,
     "start_time": "2022-10-27T07:06:48.436844",
     "status": "completed"
    },
    "tags": []
   },
   "outputs": [
    {
     "name": "stdout",
     "output_type": "stream",
     "text": [
      "Date of today is:  2022-10-27\n"
     ]
    }
   ],
   "source": [
    "today = np.datetime64(\"today\", \"D\")\n",
    "print(\"Date of today is: \", today)"
   ]
  },
  {
   "cell_type": "code",
   "execution_count": 158,
   "id": "96485cc5",
   "metadata": {
    "execution": {
     "iopub.execute_input": "2022-10-27T07:06:48.604994Z",
     "iopub.status.busy": "2022-10-27T07:06:48.604297Z",
     "iopub.status.idle": "2022-10-27T07:06:48.610594Z",
     "shell.execute_reply": "2022-10-27T07:06:48.609360Z"
    },
    "papermill": {
     "duration": 0.059941,
     "end_time": "2022-10-27T07:06:48.612684",
     "exception": false,
     "start_time": "2022-10-27T07:06:48.552743",
     "status": "completed"
    },
    "tags": []
   },
   "outputs": [
    {
     "name": "stdout",
     "output_type": "stream",
     "text": [
      "Date after five days is:  2022-11-01\n"
     ]
    }
   ],
   "source": [
    "fivedayslater = np.datetime64(\"today\", \"D\") + np.timedelta64(5, \"D\")\n",
    "print(\"Date after five days is: \", fivedayslater)"
   ]
  },
  {
   "cell_type": "code",
   "execution_count": 159,
   "id": "d51a97ea",
   "metadata": {
    "execution": {
     "iopub.execute_input": "2022-10-27T07:06:48.715010Z",
     "iopub.status.busy": "2022-10-27T07:06:48.714071Z",
     "iopub.status.idle": "2022-10-27T07:06:48.720401Z",
     "shell.execute_reply": "2022-10-27T07:06:48.719237Z"
    },
    "papermill": {
     "duration": 0.059435,
     "end_time": "2022-10-27T07:06:48.722416",
     "exception": false,
     "start_time": "2022-10-27T07:06:48.662981",
     "status": "completed"
    },
    "tags": []
   },
   "outputs": [
    {
     "name": "stdout",
     "output_type": "stream",
     "text": [
      "Date before ten days is:  2022-10-17\n"
     ]
    }
   ],
   "source": [
    "beforetendays = np.datetime64(\"today\", \"D\") - np.timedelta64(10, \"D\")\n",
    "print(\"Date before ten days is: \", beforetendays)"
   ]
  },
  {
   "cell_type": "code",
   "execution_count": 160,
   "id": "c3b1e3de",
   "metadata": {
    "execution": {
     "iopub.execute_input": "2022-10-27T07:06:48.825737Z",
     "iopub.status.busy": "2022-10-27T07:06:48.825066Z",
     "iopub.status.idle": "2022-10-27T07:06:48.830724Z",
     "shell.execute_reply": "2022-10-27T07:06:48.829658Z"
    },
    "papermill": {
     "duration": 0.061352,
     "end_time": "2022-10-27T07:06:48.833506",
     "exception": false,
     "start_time": "2022-10-27T07:06:48.772154",
     "status": "completed"
    },
    "tags": []
   },
   "outputs": [
    {
     "name": "stdout",
     "output_type": "stream",
     "text": [
      "Date after five weeksis:  2022-12-01\n"
     ]
    }
   ],
   "source": [
    "afterfiveweek = np.datetime64(\"today\", \"D\") + np.timedelta64(5, \"W\")\n",
    "print(\"Date after five weeksis: \", afterfiveweek)"
   ]
  },
  {
   "cell_type": "code",
   "execution_count": 161,
   "id": "9e7a09d3",
   "metadata": {
    "execution": {
     "iopub.execute_input": "2022-10-27T07:06:48.936495Z",
     "iopub.status.busy": "2022-10-27T07:06:48.935486Z",
     "iopub.status.idle": "2022-10-27T07:06:48.942208Z",
     "shell.execute_reply": "2022-10-27T07:06:48.941165Z"
    },
    "papermill": {
     "duration": 0.060401,
     "end_time": "2022-10-27T07:06:48.944234",
     "exception": false,
     "start_time": "2022-10-27T07:06:48.883833",
     "status": "completed"
    },
    "tags": []
   },
   "outputs": [
    {
     "name": "stdout",
     "output_type": "stream",
     "text": [
      "Date between two date: ['2022-08-27' '2022-08-28' '2022-08-29' '2022-08-30' '2022-08-31'\n",
      " '2022-09-01' '2022-09-02' '2022-09-03' '2022-09-04']\n"
     ]
    }
   ],
   "source": [
    "date_arr = np.arange(\"2022-08-27\", \"2022-09-05\", dtype = \"datetime64[D]\")\n",
    "print(\"Date between two date:\", date_arr)"
   ]
  },
  {
   "cell_type": "markdown",
   "id": "4fac5106",
   "metadata": {
    "papermill": {
     "duration": 0.04968,
     "end_time": "2022-10-27T07:06:49.042950",
     "exception": false,
     "start_time": "2022-10-27T07:06:48.993270",
     "status": "completed"
    },
    "tags": []
   },
   "source": [
    "### <span style = \"background:#174D83; border:#ffffff; font-size:100%; color:#fff; border-radius:5px;\">27. To Find the nearest element in the numpy array</span>"
   ]
  },
  {
   "cell_type": "code",
   "execution_count": 162,
   "id": "dd18b064",
   "metadata": {
    "execution": {
     "iopub.execute_input": "2022-10-27T07:06:49.145190Z",
     "iopub.status.busy": "2022-10-27T07:06:49.144221Z",
     "iopub.status.idle": "2022-10-27T07:06:49.151110Z",
     "shell.execute_reply": "2022-10-27T07:06:49.149993Z"
    },
    "papermill": {
     "duration": 0.059659,
     "end_time": "2022-10-27T07:06:49.153164",
     "exception": false,
     "start_time": "2022-10-27T07:06:49.093505",
     "status": "completed"
    },
    "tags": []
   },
   "outputs": [
    {
     "name": "stdout",
     "output_type": "stream",
     "text": [
      "[10 12 14 16 18 20 22 24 26 28 30 32 34 36 38 40 42 44 46 48]\n",
      "Elemenet near by 15 : 14\n"
     ]
    }
   ],
   "source": [
    "arr = np.arange(10, 50, 2)\n",
    "print(arr)\n",
    "\n",
    "b = 15\n",
    "c = arr.flat[np.abs(arr - b).argmin()]\n",
    "print(f\"Elemenet near by {b} : {c}\")"
   ]
  },
  {
   "cell_type": "markdown",
   "id": "27bd6d37",
   "metadata": {
    "papermill": {
     "duration": 0.050203,
     "end_time": "2022-10-27T07:06:49.253162",
     "exception": false,
     "start_time": "2022-10-27T07:06:49.202959",
     "status": "completed"
    },
    "tags": []
   },
   "source": [
    "### <span style = \"background:#174D83; border:#ffffff; font-size:100%; color:#fff; border-radius:5px;\">28. Swap array rows</span>"
   ]
  },
  {
   "cell_type": "code",
   "execution_count": 163,
   "id": "6a0e551b",
   "metadata": {
    "execution": {
     "iopub.execute_input": "2022-10-27T07:06:49.353628Z",
     "iopub.status.busy": "2022-10-27T07:06:49.352638Z",
     "iopub.status.idle": "2022-10-27T07:06:49.360155Z",
     "shell.execute_reply": "2022-10-27T07:06:49.359098Z"
    },
    "papermill": {
     "duration": 0.060039,
     "end_time": "2022-10-27T07:06:49.362389",
     "exception": false,
     "start_time": "2022-10-27T07:06:49.302350",
     "status": "completed"
    },
    "tags": []
   },
   "outputs": [
    {
     "name": "stdout",
     "output_type": "stream",
     "text": [
      "Array before swapping:\n",
      "[[ 0  1  2  3  4]\n",
      " [ 5  6  7  8  9]\n",
      " [10 11 12 13 14]\n",
      " [15 16 17 18 19]\n",
      " [20 21 22 23 24]]\n",
      "______________________\n",
      "Array after swapping:\n",
      "[[ 5  6  7  8  9]\n",
      " [ 0  1  2  3  4]\n",
      " [10 11 12 13 14]\n",
      " [15 16 17 18 19]\n",
      " [20 21 22 23 24]]\n"
     ]
    }
   ],
   "source": [
    "arr = np.arange(25).reshape(5, 5)\n",
    "print(\"Array before swapping:\")\n",
    "print(arr)\n",
    "\n",
    "arr[[0,1]] = arr[[1, 0]]\n",
    "print(\"______________________\")\n",
    "\n",
    "print(\"Array after swapping:\")\n",
    "print(arr)"
   ]
  },
  {
   "cell_type": "markdown",
   "id": "2311ae6b",
   "metadata": {
    "papermill": {
     "duration": 0.049688,
     "end_time": "2022-10-27T07:06:49.462527",
     "exception": false,
     "start_time": "2022-10-27T07:06:49.412839",
     "status": "completed"
    },
    "tags": []
   },
   "source": [
    "### <span style = \"background:#174D83; border:#ffffff; font-size:100%; color:#fff; border-radius:5px;\">29. Shuffle array elements</span>"
   ]
  },
  {
   "cell_type": "code",
   "execution_count": 164,
   "id": "636ac9ee",
   "metadata": {
    "execution": {
     "iopub.execute_input": "2022-10-27T07:06:49.566176Z",
     "iopub.status.busy": "2022-10-27T07:06:49.565208Z",
     "iopub.status.idle": "2022-10-27T07:06:49.572005Z",
     "shell.execute_reply": "2022-10-27T07:06:49.571090Z"
    },
    "papermill": {
     "duration": 0.06111,
     "end_time": "2022-10-27T07:06:49.574312",
     "exception": false,
     "start_time": "2022-10-27T07:06:49.513202",
     "status": "completed"
    },
    "tags": []
   },
   "outputs": [
    {
     "name": "stdout",
     "output_type": "stream",
     "text": [
      "Array before shuffling:\n",
      "[ 0  1  2  3  4  5  6  7  8  9 10 11 12 13 14]\n",
      "______________________________________________\n",
      "Array after shuffling:\n",
      "[ 8  0  3  4 11  2 12  5  1  6 14 10  9 13  7]\n"
     ]
    }
   ],
   "source": [
    "arr = np.arange(15)\n",
    "print(\"Array before shuffling:\")\n",
    "print(arr)\n",
    "\n",
    "np.random.shuffle(arr)\n",
    "print(\"______________________________________________\")\n",
    "\n",
    "print(\"Array after shuffling:\")\n",
    "print(arr)"
   ]
  },
  {
   "cell_type": "markdown",
   "id": "8df93ab8",
   "metadata": {
    "papermill": {
     "duration": 0.049433,
     "end_time": "2022-10-27T07:06:49.673601",
     "exception": false,
     "start_time": "2022-10-27T07:06:49.624168",
     "status": "completed"
    },
    "tags": []
   },
   "source": [
    "### <span style = \"background:#174D83; border:#ffffff; font-size:100%; color:#fff; border-radius:5px;\">30. Median function</span>"
   ]
  },
  {
   "cell_type": "code",
   "execution_count": 165,
   "id": "25b3ff1e",
   "metadata": {
    "execution": {
     "iopub.execute_input": "2022-10-27T07:06:49.775394Z",
     "iopub.status.busy": "2022-10-27T07:06:49.774367Z",
     "iopub.status.idle": "2022-10-27T07:06:49.781378Z",
     "shell.execute_reply": "2022-10-27T07:06:49.780071Z"
    },
    "papermill": {
     "duration": 0.060489,
     "end_time": "2022-10-27T07:06:49.783390",
     "exception": false,
     "start_time": "2022-10-27T07:06:49.722901",
     "status": "completed"
    },
    "tags": []
   },
   "outputs": [
    {
     "name": "stdout",
     "output_type": "stream",
     "text": [
      "[[ 0  1  2  3  4]\n",
      " [ 5  6  7  8  9]\n",
      " [10 11 12 13 14]\n",
      " [15 16 17 18 19]]\n",
      "\n",
      "Median of the array is:  9.5\n"
     ]
    }
   ],
   "source": [
    "arr = np.arange(20).reshape((4, 5))\n",
    "print(arr)\n",
    "\n",
    "print(\"\\nMedian of the array is: \", np.median(arr))"
   ]
  },
  {
   "cell_type": "markdown",
   "id": "1d7bd924",
   "metadata": {
    "papermill": {
     "duration": 0.115296,
     "end_time": "2022-10-27T07:06:49.963857",
     "exception": false,
     "start_time": "2022-10-27T07:06:49.848561",
     "status": "completed"
    },
    "tags": []
   },
   "source": [
    "### <mark>If you found this kernel useful and really liked it don't forget to show your support by upvoting. Thank you for your attention</mark>"
   ]
  }
 ],
 "metadata": {
  "kernelspec": {
   "display_name": "Python 3",
   "language": "python",
   "name": "python3"
  },
  "language_info": {
   "codemirror_mode": {
    "name": "ipython",
    "version": 3
   },
   "file_extension": ".py",
   "mimetype": "text/x-python",
   "name": "python",
   "nbconvert_exporter": "python",
   "pygments_lexer": "ipython3",
   "version": "3.7.12"
  },
  "papermill": {
   "default_parameters": {},
   "duration": 32.042777,
   "end_time": "2022-10-27T07:06:50.669290",
   "environment_variables": {},
   "exception": null,
   "input_path": "__notebook__.ipynb",
   "output_path": "__notebook__.ipynb",
   "parameters": {},
   "start_time": "2022-10-27T07:06:18.626513",
   "version": "2.3.4"
  }
 },
 "nbformat": 4,
 "nbformat_minor": 5
}
